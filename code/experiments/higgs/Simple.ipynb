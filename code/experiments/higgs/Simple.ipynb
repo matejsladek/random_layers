{
 "cells": [
  {
   "cell_type": "code",
   "execution_count": 1,
   "metadata": {},
   "outputs": [],
   "source": [
    "import tensorflow as tf"
   ]
  },
  {
   "cell_type": "code",
   "execution_count": 2,
   "metadata": {},
   "outputs": [
    {
     "name": "stderr",
     "output_type": "stream",
     "text": [
      "Using TensorFlow backend.\n"
     ]
    }
   ],
   "source": [
    "import keras\n",
    "from keras.layers import *"
   ]
  },
  {
   "cell_type": "code",
   "execution_count": 3,
   "metadata": {},
   "outputs": [],
   "source": [
    "import tensorflow_datasets as tfds"
   ]
  },
  {
   "cell_type": "code",
   "execution_count": 4,
   "metadata": {},
   "outputs": [],
   "source": [
    "dataset = tfds.load(\n",
    "    name=\"higgs\",\n",
    "    split=tfds.Split.TRAIN,\n",
    "    data_dir=\"/cluster/scratch/bramva/deep-learning-course/data\",\n",
    "#     in_memory=True,\n",
    ")\n",
    "dataset = dataset.shuffle(10, reshuffle_each_iteration=False)"
   ]
  },
  {
   "cell_type": "code",
   "execution_count": 24,
   "metadata": {},
   "outputs": [
    {
     "data": {
      "text/plain": [
       "<ShuffleDataset shapes: {class_label: (), jet_1_b-tag: (), jet_1_eta: (), jet_1_phi: (), jet_1_pt: (), jet_2_b-tag: (), jet_2_eta: (), jet_2_phi: (), jet_2_pt: (), jet_3_b-tag: (), jet_3_eta: (), jet_3_phi: (), jet_3_pt: (), jet_4_b-tag: (), jet_4_eta: (), jet_4_phi: (), jet_4_pt: (), lepton_eta: (), lepton_pT: (), lepton_phi: (), m_bb: (), m_jj: (), m_jjj: (), m_jlv: (), m_lv: (), m_wbb: (), m_wwbb: (), missing_energy_magnitude: (), missing_energy_phi: ()}, types: {class_label: tf.float32, jet_1_b-tag: tf.float64, jet_1_eta: tf.float64, jet_1_phi: tf.float64, jet_1_pt: tf.float64, jet_2_b-tag: tf.float64, jet_2_eta: tf.float64, jet_2_phi: tf.float64, jet_2_pt: tf.float64, jet_3_b-tag: tf.float64, jet_3_eta: tf.float64, jet_3_phi: tf.float64, jet_3_pt: tf.float64, jet_4_b-tag: tf.float64, jet_4_eta: tf.float64, jet_4_phi: tf.float64, jet_4_pt: tf.float64, lepton_eta: tf.float64, lepton_pT: tf.float64, lepton_phi: tf.float64, m_bb: tf.float64, m_jj: tf.float64, m_jjj: tf.float64, m_jlv: tf.float64, m_lv: tf.float64, m_wbb: tf.float64, m_wwbb: tf.float64, missing_energy_magnitude: tf.float64, missing_energy_phi: tf.float64}>"
      ]
     },
     "execution_count": 24,
     "metadata": {},
     "output_type": "execute_result"
    }
   ],
   "source": [
    "dataset"
   ]
  },
  {
   "cell_type": "code",
   "execution_count": 5,
   "metadata": {},
   "outputs": [],
   "source": [
    "approximate_test_set_fraction = .1\n",
    "one_in_every = round(1 / approximate_test_set_fraction)"
   ]
  },
  {
   "cell_type": "code",
   "execution_count": 6,
   "metadata": {
    "collapsed": true
   },
   "outputs": [
    {
     "name": "stderr",
     "output_type": "stream",
     "text": [
      "WARNING: Logging before flag parsing goes to stderr.\n",
      "W1227 01:42:07.452457 47027978444288 ag_logging.py:146] Entity <function <lambda> at 0x2ac713e252f0> could not be transformed and will be executed as-is. Please report this to the AutoGraph team. When filing the bug, set the verbosity to 10 (on Linux, `export AUTOGRAPH_VERBOSITY=10`) and attach the full output. Cause: expected exactly one node node, found []\n",
      "W1227 01:42:07.499068 47027978444288 ag_logging.py:146] Entity <function <lambda> at 0x2ac713e25510> could not be transformed and will be executed as-is. Please report this to the AutoGraph team. When filing the bug, set the verbosity to 10 (on Linux, `export AUTOGRAPH_VERBOSITY=10`) and attach the full output. Cause: expected exactly one node node, found []\n",
      "W1227 01:42:07.557889 47027978444288 ag_logging.py:146] Entity <function <lambda> at 0x2ac713e25730> could not be transformed and will be executed as-is. Please report this to the AutoGraph team. When filing the bug, set the verbosity to 10 (on Linux, `export AUTOGRAPH_VERBOSITY=10`) and attach the full output. Cause: expected exactly one node node, found []\n",
      "W1227 01:42:07.594744 47027978444288 ag_logging.py:146] Entity <function <lambda> at 0x2ac713e25c80> could not be transformed and will be executed as-is. Please report this to the AutoGraph team. When filing the bug, set the verbosity to 10 (on Linux, `export AUTOGRAPH_VERBOSITY=10`) and attach the full output. Cause: expected exactly one node node, found []\n"
     ]
    },
    {
     "name": "stdout",
     "output_type": "stream",
     "text": [
      "WARNING: Entity <function <lambda> at 0x2ac713e252f0> could not be transformed and will be executed as-is. Please report this to the AutoGraph team. When filing the bug, set the verbosity to 10 (on Linux, `export AUTOGRAPH_VERBOSITY=10`) and attach the full output. Cause: expected exactly one node node, found []\n",
      "WARNING: Entity <function <lambda> at 0x2ac713e25510> could not be transformed and will be executed as-is. Please report this to the AutoGraph team. When filing the bug, set the verbosity to 10 (on Linux, `export AUTOGRAPH_VERBOSITY=10`) and attach the full output. Cause: expected exactly one node node, found []\n",
      "WARNING: Entity <function <lambda> at 0x2ac713e25730> could not be transformed and will be executed as-is. Please report this to the AutoGraph team. When filing the bug, set the verbosity to 10 (on Linux, `export AUTOGRAPH_VERBOSITY=10`) and attach the full output. Cause: expected exactly one node node, found []\n",
      "WARNING: Entity <function <lambda> at 0x2ac713e25c80> could not be transformed and will be executed as-is. Please report this to the AutoGraph team. When filing the bug, set the verbosity to 10 (on Linux, `export AUTOGRAPH_VERBOSITY=10`) and attach the full output. Cause: expected exactly one node node, found []\n"
     ]
    }
   ],
   "source": [
    "test_dataset = dataset.enumerate() \\\n",
    "    .filter(lambda i, x: i % one_in_every == 0) \\\n",
    "    .map(lambda i, x: x)\n",
    "train_dataset = dataset.enumerate() \\\n",
    "    .filter(lambda i, x: i % one_in_every != 0) \\\n",
    "    .map(lambda i, x: x)"
   ]
  },
  {
   "cell_type": "code",
   "execution_count": 7,
   "metadata": {},
   "outputs": [],
   "source": [
    "features = ['jet_1_b-tag', 'jet_1_eta', 'jet_1_phi', 'jet_1_pt', 'jet_2_b-tag', 'jet_2_eta', 'jet_2_phi', 'jet_2_pt', 'jet_3_b-tag', 'jet_3_eta', 'jet_3_phi', 'jet_3_pt', 'jet_4_b-tag', 'jet_4_eta', 'jet_4_phi', 'jet_4_pt', 'lepton_eta', 'lepton_pT', 'lepton_phi', 'm_bb', 'm_jj', 'm_jjj', 'm_jlv', 'm_lv', 'm_wbb', 'm_wwbb', 'missing_energy_magnitude', 'missing_energy_phi']"
   ]
  },
  {
   "cell_type": "code",
   "execution_count": 27,
   "metadata": {},
   "outputs": [],
   "source": [
    "model = keras.Sequential([\n",
    "    InputLayer(input_shape=(28,)),\n",
    "    BatchNormalization(),\n",
    "    Dense(30, activation=\"sigmoid\"),\n",
    "    Dense(50, activation=\"sigmoid\"),\n",
    "    Dense(50, activation=\"sigmoid\"),\n",
    "    Dense(25, activation=\"sigmoid\"),\n",
    "    Dense(1, activation=\"sigmoid\"),\n",
    "])"
   ]
  },
  {
   "cell_type": "code",
   "execution_count": 28,
   "metadata": {},
   "outputs": [],
   "source": [
    "model.compile(\n",
    "    \"adam\",\n",
    "    \"binary_crossentropy\",\n",
    "    metrics=[\"accuracy\"],\n",
    ")"
   ]
  },
  {
   "cell_type": "code",
   "execution_count": 29,
   "metadata": {},
   "outputs": [],
   "source": [
    "batch_size = 10"
   ]
  },
  {
   "cell_type": "code",
   "execution_count": 30,
   "metadata": {},
   "outputs": [],
   "source": [
    "def generator(dataset):\n",
    "    while True:\n",
    "        for item in dataset:\n",
    "            x = tf.concat(\n",
    "                [tf.reshape(item[name], (-1, 1)) for name in features],\n",
    "                axis=1,\n",
    "            )\n",
    "            yield x, item[\"class_label\"]"
   ]
  },
  {
   "cell_type": "code",
   "execution_count": 33,
   "metadata": {},
   "outputs": [
    {
     "name": "stdout",
     "output_type": "stream",
     "text": [
      "Epoch 1/1\n",
      "20000/20000 [==============================] - 95s 5ms/step - loss: 0.6919 - accuracy: 0.5290\n"
     ]
    },
    {
     "data": {
      "text/plain": [
       "<keras.callbacks.callbacks.History at 0x2ac848f6bfd0>"
      ]
     },
     "execution_count": 33,
     "metadata": {},
     "output_type": "execute_result"
    }
   ],
   "source": [
    "model.fit(\n",
    "    generator(train_dataset.batch(batch_size)),\n",
    "    steps_per_epoch=round(2_000_000 / batch_size / 10),\n",
    "    epochs=1,\n",
    "    verbose=1,\n",
    "#     workers=20,\n",
    "#     use_multiprocessing=False,\n",
    ")"
   ]
  },
  {
   "cell_type": "code",
   "execution_count": 34,
   "metadata": {},
   "outputs": [
    {
     "name": "stdout",
     "output_type": "stream",
     "text": [
      "100/100 [==============================] - 99s 989ms/step\n"
     ]
    },
    {
     "data": {
      "text/plain": [
       "[0.691149115562439, 0.5276200175285339]"
      ]
     },
     "execution_count": 34,
     "metadata": {},
     "output_type": "execute_result"
    }
   ],
   "source": [
    "model.evaluate(\n",
    "    generator(test_dataset.batch(1000)),\n",
    "    steps=100,\n",
    ")"
   ]
  },
  {
   "cell_type": "code",
   "execution_count": 32,
   "metadata": {},
   "outputs": [
    {
     "name": "stdout",
     "output_type": "stream",
     "text": [
      "100/100 [==============================] - 100s 996ms/step\n"
     ]
    },
    {
     "data": {
      "text/plain": [
       "[0.6911624670028687, 0.5276200175285339]"
      ]
     },
     "execution_count": 32,
     "metadata": {},
     "output_type": "execute_result"
    }
   ],
   "source": [
    "model.evaluate(\n",
    "    generator(test_dataset.batch(1000)),\n",
    "    steps=100,\n",
    ")"
   ]
  },
  {
   "cell_type": "code",
   "execution_count": null,
   "metadata": {},
   "outputs": [],
   "source": []
  }
 ],
 "metadata": {
  "kernelspec": {
   "display_name": "Python 3",
   "language": "python",
   "name": "python3"
  },
  "language_info": {
   "codemirror_mode": {
    "name": "ipython",
    "version": 3
   },
   "file_extension": ".py",
   "mimetype": "text/x-python",
   "name": "python",
   "nbconvert_exporter": "python",
   "pygments_lexer": "ipython3",
   "version": "3.7.1"
  }
 },
 "nbformat": 4,
 "nbformat_minor": 2
}
