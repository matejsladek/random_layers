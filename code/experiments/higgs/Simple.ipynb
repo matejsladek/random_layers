{
 "cells": [
  {
   "cell_type": "code",
   "execution_count": 1,
   "metadata": {},
   "outputs": [],
   "source": [
    "import tensorflow as tf"
   ]
  },
  {
   "cell_type": "code",
   "execution_count": 2,
   "metadata": {},
   "outputs": [
    {
     "name": "stderr",
     "output_type": "stream",
     "text": [
      "Using TensorFlow backend.\n"
     ]
    }
   ],
   "source": [
    "import keras\n",
    "from keras.layers import *"
   ]
  },
  {
   "cell_type": "code",
   "execution_count": 3,
   "metadata": {},
   "outputs": [],
   "source": [
    "import tensorflow_datasets as tfds"
   ]
  },
  {
   "cell_type": "code",
   "execution_count": 4,
   "metadata": {},
   "outputs": [],
   "source": [
    "dataset = tfds.load(\n",
    "    name=\"higgs\",\n",
    "    split=tfds.Split.TRAIN,\n",
    "    data_dir=\"/cluster/scratch/bramva/deep-learning-course/data\",\n",
    "#     in_memory=True,\n",
    ")"
   ]
  },
  {
   "cell_type": "code",
   "execution_count": 5,
   "metadata": {},
   "outputs": [
    {
     "data": {
      "text/plain": [
       "<_OptionsDataset shapes: {class_label: (), jet_1_b-tag: (), jet_1_eta: (), jet_1_phi: (), jet_1_pt: (), jet_2_b-tag: (), jet_2_eta: (), jet_2_phi: (), jet_2_pt: (), jet_3_b-tag: (), jet_3_eta: (), jet_3_phi: (), jet_3_pt: (), jet_4_b-tag: (), jet_4_eta: (), jet_4_phi: (), jet_4_pt: (), lepton_eta: (), lepton_pT: (), lepton_phi: (), m_bb: (), m_jj: (), m_jjj: (), m_jlv: (), m_lv: (), m_wbb: (), m_wwbb: (), missing_energy_magnitude: (), missing_energy_phi: ()}, types: {class_label: tf.float32, jet_1_b-tag: tf.float64, jet_1_eta: tf.float64, jet_1_phi: tf.float64, jet_1_pt: tf.float64, jet_2_b-tag: tf.float64, jet_2_eta: tf.float64, jet_2_phi: tf.float64, jet_2_pt: tf.float64, jet_3_b-tag: tf.float64, jet_3_eta: tf.float64, jet_3_phi: tf.float64, jet_3_pt: tf.float64, jet_4_b-tag: tf.float64, jet_4_eta: tf.float64, jet_4_phi: tf.float64, jet_4_pt: tf.float64, lepton_eta: tf.float64, lepton_pT: tf.float64, lepton_phi: tf.float64, m_bb: tf.float64, m_jj: tf.float64, m_jjj: tf.float64, m_jlv: tf.float64, m_lv: tf.float64, m_wbb: tf.float64, m_wwbb: tf.float64, missing_energy_magnitude: tf.float64, missing_energy_phi: tf.float64}>"
      ]
     },
     "execution_count": 5,
     "metadata": {},
     "output_type": "execute_result"
    }
   ],
   "source": [
    "dataset"
   ]
  },
  {
   "cell_type": "code",
   "execution_count": 67,
   "metadata": {},
   "outputs": [],
   "source": [
    "features = ['jet_1_b-tag', 'jet_1_eta', 'jet_1_phi', 'jet_1_pt', 'jet_2_b-tag', 'jet_2_eta', 'jet_2_phi', 'jet_2_pt', 'jet_3_b-tag', 'jet_3_eta', 'jet_3_phi', 'jet_3_pt', 'jet_4_b-tag', 'jet_4_eta', 'jet_4_phi', 'jet_4_pt', 'lepton_eta', 'lepton_pT', 'lepton_phi', 'm_bb', 'm_jj', 'm_jjj', 'm_jlv', 'm_lv', 'm_wbb', 'm_wwbb', 'missing_energy_magnitude', 'missing_energy_phi']"
   ]
  },
  {
   "cell_type": "code",
   "execution_count": 19,
   "metadata": {},
   "outputs": [],
   "source": [
    "train_dataset = dataset.shuffle(buffer_size=1024).batch(64)"
   ]
  },
  {
   "cell_type": "code",
   "execution_count": 77,
   "metadata": {},
   "outputs": [],
   "source": [
    "model = keras.Sequential([\n",
    "    InputLayer(input_shape=(28,)),\n",
    "    BatchNormalization(),\n",
    "    Dense(30, activation=\"sigmoid\"),\n",
    "    Dense(50, activation=\"sigmoid\"),\n",
    "    Dense(1, activation=\"sigmoid\"),\n",
    "])"
   ]
  },
  {
   "cell_type": "code",
   "execution_count": 78,
   "metadata": {},
   "outputs": [],
   "source": [
    "model.compile(\n",
    "    \"adam\",\n",
    "    \"binary_crossentropy\",\n",
    ")"
   ]
  },
  {
   "cell_type": "code",
   "execution_count": 79,
   "metadata": {},
   "outputs": [],
   "source": [
    "def generator():\n",
    "    while True:\n",
    "        for item in train_dataset:\n",
    "            x = tf.concat(\n",
    "                [tf.reshape(item[name], (-1, 1)) for name in features],\n",
    "                axis=1,\n",
    "            )\n",
    "            yield x, item[\"class_label\"]"
   ]
  },
  {
   "cell_type": "code",
   "execution_count": 82,
   "metadata": {
    "collapsed": true
   },
   "outputs": [
    {
     "name": "stdout",
     "output_type": "stream",
     "text": [
      "Epoch 1/10\n",
      "100/100 [==============================] - 1s 10ms/step - loss: 0.6920\n",
      "Epoch 2/10\n",
      "100/100 [==============================] - 1s 6ms/step - loss: 0.6919\n",
      "Epoch 3/10\n",
      "100/100 [==============================] - 1s 6ms/step - loss: 0.6931\n",
      "Epoch 4/10\n",
      "100/100 [==============================] - 1s 6ms/step - loss: 0.6922\n",
      "Epoch 5/10\n",
      "100/100 [==============================] - 1s 6ms/step - loss: 0.6918\n",
      "Epoch 6/10\n",
      "100/100 [==============================] - 1s 6ms/step - loss: 0.6924\n",
      "Epoch 7/10\n",
      "100/100 [==============================] - 1s 6ms/step - loss: 0.6918\n",
      "Epoch 8/10\n",
      "100/100 [==============================] - 1s 7ms/step - loss: 0.6918\n",
      "Epoch 9/10\n",
      "100/100 [==============================] - 1s 6ms/step - loss: 0.6925\n",
      "Epoch 10/10\n",
      "100/100 [==============================] - 1s 7ms/step - loss: 0.6930\n"
     ]
    },
    {
     "data": {
      "text/plain": [
       "<keras.callbacks.callbacks.History at 0x2aee14c142e8>"
      ]
     },
     "execution_count": 82,
     "metadata": {},
     "output_type": "execute_result"
    }
   ],
   "source": [
    "model.fit(\n",
    "    generator(),\n",
    "    steps_per_epoch=100,\n",
    "    epochs=10,\n",
    "#     batch_size=32,\n",
    "    verbose=1,\n",
    ")"
   ]
  },
  {
   "cell_type": "code",
   "execution_count": 83,
   "metadata": {},
   "outputs": [
    {
     "name": "stdout",
     "output_type": "stream",
     "text": [
      "100/100 [==============================] - 1s 11ms/step\n"
     ]
    },
    {
     "data": {
      "text/plain": [
       "0.6881920099258423"
      ]
     },
     "execution_count": 83,
     "metadata": {},
     "output_type": "execute_result"
    }
   ],
   "source": [
    "model.evaluate(\n",
    "    generator(),\n",
    "    steps=100,\n",
    ")"
   ]
  }
 ],
 "metadata": {
  "kernelspec": {
   "display_name": "Python 3",
   "language": "python",
   "name": "python3"
  },
  "language_info": {
   "codemirror_mode": {
    "name": "ipython",
    "version": 3
   },
   "file_extension": ".py",
   "mimetype": "text/x-python",
   "name": "python",
   "nbconvert_exporter": "python",
   "pygments_lexer": "ipython3",
   "version": "3.7.1"
  }
 },
 "nbformat": 4,
 "nbformat_minor": 2
}
