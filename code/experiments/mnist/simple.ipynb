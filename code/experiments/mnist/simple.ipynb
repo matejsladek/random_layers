{
 "cells": [
  {
   "cell_type": "code",
   "execution_count": 123,
   "metadata": {},
   "outputs": [
    {
     "name": "stdout",
     "output_type": "stream",
     "text": [
      "2.0.0\n"
     ]
    }
   ],
   "source": [
    "from __future__ import absolute_import, division, print_function, unicode_literals\n",
    "\n",
    "# TensorFlow and tf.keras\n",
    "import tensorflow as tf\n",
    "from tensorflow import keras\n",
    "from keras.utils import to_categorical\n",
    "\n",
    "# Helper libraries\n",
    "import numpy as np\n",
    "import matplotlib.pyplot as plt\n",
    "import datetime\n",
    "\n",
    "print(tf.__version__)"
   ]
  },
  {
   "cell_type": "code",
   "execution_count": 124,
   "metadata": {},
   "outputs": [],
   "source": [
    "fashion_mnist = keras.datasets.fashion_mnist\n",
    "\n",
    "(train_images, train_labels), (test_images, test_labels) = fashion_mnist.load_data()\n",
    "\n",
    "train_images = train_images / 255.0\n",
    "test_images = test_images / 255.0"
   ]
  },
  {
   "cell_type": "code",
   "execution_count": 125,
   "metadata": {},
   "outputs": [],
   "source": [
    "img_rows, img_cols = (28, 28)\n",
    "train_images = train_images.reshape(train_images.shape[0], img_rows, img_cols, 1)\n",
    "test_images = test_images.reshape(test_images.shape[0], img_rows, img_cols, 1)\n",
    "input_shape = (img_rows, img_cols, 1)"
   ]
  },
  {
   "cell_type": "code",
   "execution_count": 126,
   "metadata": {},
   "outputs": [],
   "source": [
    "def get_model_dense():\n",
    "    model = keras.Sequential([\n",
    "        keras.layers.Flatten(input_shape=(28, 28, 1)),\n",
    "        keras.layers.Dense(128, activation='relu'),\n",
    "        keras.layers.Dense(10, activation='softmax')\n",
    "    ])\n",
    "    return model"
   ]
  },
  {
   "cell_type": "code",
   "execution_count": 127,
   "metadata": {},
   "outputs": [],
   "source": [
    "def get_model_basic_conv():\n",
    "    model = keras.Sequential([\n",
    "        keras.layers.Conv2D(32, (3, 3), activation='relu', input_shape=input_shape),\n",
    "        keras.layers.Flatten(),\n",
    "        keras.layers.Dense(128, activation='relu'),\n",
    "        keras.layers.Dense(10, activation='softmax')\n",
    "    ])\n",
    "    return model"
   ]
  },
  {
   "cell_type": "code",
   "execution_count": 128,
   "metadata": {},
   "outputs": [],
   "source": [
    "def get_model_basic_rand():\n",
    "    model = keras.Sequential([\n",
    "        keras.layers.Conv2D(32, (3, 3), activation='relu', input_shape=input_shape),\n",
    "        keras.layers.MaxPool2D(pool_size=(2, 2), strides=(1, 1), padding='valid'),\n",
    "        keras.layers.Flatten(),\n",
    "        keras.layers.Dense(128, activation='relu', trainable=False),\n",
    "#         keras.layers.Dense(1280, activation='relu', trainable=False),\n",
    "        keras.layers.Dense(128, activation='relu'),\n",
    "        keras.layers.Dense(10, activation='softmax')\n",
    "    ])\n",
    "    return model"
   ]
  },
  {
   "cell_type": "code",
   "execution_count": 129,
   "metadata": {},
   "outputs": [],
   "source": [
    "def get_model_basic_rand2():\n",
    "    model = keras.Sequential([\n",
    "        keras.layers.Conv2D(32, (3, 3), activation='relu', input_shape=input_shape),\n",
    "        keras.layers.MaxPool2D(pool_size=(2, 2), strides=(1, 1), padding='valid'),\n",
    "        keras.layers.Flatten(),\n",
    "#         keras.layers.Dense(128, activation='relu', trainable=False),\n",
    "        keras.layers.Dense(1280, activation='relu', trainable=False),\n",
    "        keras.layers.Dense(128, activation='relu'),\n",
    "        keras.layers.Dense(10, activation='softmax')\n",
    "    ])\n",
    "    return model"
   ]
  },
  {
   "cell_type": "code",
   "execution_count": 130,
   "metadata": {},
   "outputs": [],
   "source": [
    "model = get_model_dense()"
   ]
  },
  {
   "cell_type": "code",
   "execution_count": 116,
   "metadata": {},
   "outputs": [],
   "source": [
    "log_dir=\"logs/fit/\" + datetime.datetime.now().strftime(\"%Y%m%d-%H%M%S\")\n",
    "tensorboard_callback = tf.keras.callbacks.TensorBoard(log_dir=log_dir, histogram_freq=1)"
   ]
  },
  {
   "cell_type": "code",
   "execution_count": 117,
   "metadata": {},
   "outputs": [],
   "source": [
    "model.compile(optimizer='adam',\n",
    "              loss='sparse_categorical_crossentropy',\n",
    "              metrics=['accuracy'])"
   ]
  },
  {
   "cell_type": "code",
   "execution_count": 122,
   "metadata": {},
   "outputs": [
    {
     "name": "stdout",
     "output_type": "stream",
     "text": [
      "Train on 60000 samples, validate on 10000 samples\n",
      "Epoch 1/2\n",
      "60000/60000 [==============================] - 7s 113us/sample - loss: 0.3379 - accuracy: 0.8762 - val_loss: 0.3708 - val_accuracy: 0.8655\n",
      "Epoch 2/2\n",
      "60000/60000 [==============================] - 7s 112us/sample - loss: 0.3123 - accuracy: 0.8846 - val_loss: 0.3730 - val_accuracy: 0.8646\n"
     ]
    },
    {
     "data": {
      "text/plain": [
       "<tensorflow.python.keras.callbacks.History at 0x2b3fcc89c710>"
      ]
     },
     "execution_count": 122,
     "metadata": {},
     "output_type": "execute_result"
    }
   ],
   "source": [
    "model.fit(\n",
    "    train_images,\n",
    "    train_labels,\n",
    "    epochs=2,\n",
    "    validation_data=(test_images, test_labels),\n",
    "    callbacks=[tensorboard_callback]\n",
    ")"
   ]
  },
  {
   "cell_type": "code",
   "execution_count": 52,
   "metadata": {},
   "outputs": [
    {
     "ename": "NameError",
     "evalue": "name 'model_dense' is not defined",
     "output_type": "error",
     "traceback": [
      "\u001b[0;31m---------------------------------------------------------------------------\u001b[0m",
      "\u001b[0;31mNameError\u001b[0m                                 Traceback (most recent call last)",
      "\u001b[0;32m<ipython-input-52-6021369d9aba>\u001b[0m in \u001b[0;36m<module>\u001b[0;34m\u001b[0m\n\u001b[0;32m----> 1\u001b[0;31m \u001b[0mprint\u001b[0m\u001b[0;34m(\u001b[0m\u001b[0mmodel_dense\u001b[0m\u001b[0;34m.\u001b[0m\u001b[0msummary\u001b[0m\u001b[0;34m(\u001b[0m\u001b[0;34m)\u001b[0m\u001b[0;34m)\u001b[0m\u001b[0;34m\u001b[0m\u001b[0;34m\u001b[0m\u001b[0m\n\u001b[0m\u001b[1;32m      2\u001b[0m \u001b[0mprint\u001b[0m\u001b[0;34m(\u001b[0m\u001b[0mmodel_conv\u001b[0m\u001b[0;34m.\u001b[0m\u001b[0msummary\u001b[0m\u001b[0;34m(\u001b[0m\u001b[0;34m)\u001b[0m\u001b[0;34m)\u001b[0m\u001b[0;34m\u001b[0m\u001b[0;34m\u001b[0m\u001b[0m\n\u001b[1;32m      3\u001b[0m \u001b[0mprint\u001b[0m\u001b[0;34m(\u001b[0m\u001b[0mmodel_rand\u001b[0m\u001b[0;34m.\u001b[0m\u001b[0msummary\u001b[0m\u001b[0;34m(\u001b[0m\u001b[0;34m)\u001b[0m\u001b[0;34m)\u001b[0m\u001b[0;34m\u001b[0m\u001b[0;34m\u001b[0m\u001b[0m\n",
      "\u001b[0;31mNameError\u001b[0m: name 'model_dense' is not defined"
     ]
    }
   ],
   "source": [
    "print(model_dense.summary())\n",
    "print(model_conv.summary())\n",
    "print(model_rand.summary())"
   ]
  },
  {
   "cell_type": "code",
   "execution_count": null,
   "metadata": {},
   "outputs": [],
   "source": [
    "test_loss, test_acc = model.evaluate(test_images,  test_labels, verbose=2)\n",
    "print('\\nModel1 Test accuracy:', test_acc)"
   ]
  },
  {
   "cell_type": "code",
   "execution_count": 131,
   "metadata": {},
   "outputs": [
    {
     "name": "stdout",
     "output_type": "stream",
     "text": [
      "Train on 60000 samples, validate on 10000 samples\n",
      "Epoch 1/10\n",
      "60000/60000 [==============================] - 7s 121us/sample - loss: 0.5005 - accuracy: 0.8241 - val_loss: 0.4714 - val_accuracy: 0.8370\n",
      "Epoch 2/10\n",
      "60000/60000 [==============================] - 7s 111us/sample - loss: 0.3737 - accuracy: 0.8649 - val_loss: 0.3948 - val_accuracy: 0.8570\n",
      "Epoch 3/10\n",
      "60000/60000 [==============================] - 7s 113us/sample - loss: 0.3389 - accuracy: 0.8759 - val_loss: 0.3702 - val_accuracy: 0.8668\n",
      "Epoch 4/10\n",
      "60000/60000 [==============================] - 7s 112us/sample - loss: 0.3141 - accuracy: 0.8856 - val_loss: 0.3852 - val_accuracy: 0.8595\n",
      "Epoch 5/10\n",
      "60000/60000 [==============================] - 7s 111us/sample - loss: 0.2983 - accuracy: 0.8901 - val_loss: 0.3453 - val_accuracy: 0.8770\n",
      "Epoch 6/10\n",
      "60000/60000 [==============================] - 7s 113us/sample - loss: 0.2815 - accuracy: 0.8958 - val_loss: 0.3570 - val_accuracy: 0.8738\n",
      "Epoch 7/10\n",
      "60000/60000 [==============================] - 7s 111us/sample - loss: 0.2702 - accuracy: 0.9012 - val_loss: 0.3461 - val_accuracy: 0.8751\n",
      "Epoch 8/10\n",
      "60000/60000 [==============================] - 7s 111us/sample - loss: 0.2593 - accuracy: 0.9022 - val_loss: 0.3355 - val_accuracy: 0.8786\n",
      "Epoch 9/10\n",
      "60000/60000 [==============================] - 7s 114us/sample - loss: 0.2477 - accuracy: 0.9085 - val_loss: 0.3317 - val_accuracy: 0.8851\n",
      "Epoch 10/10\n",
      "60000/60000 [==============================] - 7s 110us/sample - loss: 0.2399 - accuracy: 0.9100 - val_loss: 0.3429 - val_accuracy: 0.8827\n",
      "CPU times: user 2min 9s, sys: 16.9 s, total: 2min 26s\n",
      "Wall time: 1min 8s\n"
     ]
    },
    {
     "data": {
      "text/plain": [
       "<tensorflow.python.keras.callbacks.History at 0x2b3fcca7dc10>"
      ]
     },
     "execution_count": 131,
     "metadata": {},
     "output_type": "execute_result"
    }
   ],
   "source": [
    "%%time\n",
    "model_dense = get_model_dense()\n",
    "log_dir=\"logs/fit/dense/\" + datetime.datetime.now().strftime(\"%Y%m%d-%H%M%S\")\n",
    "tensorboard_callback = tf.keras.callbacks.TensorBoard(log_dir=log_dir, histogram_freq=1)\n",
    "model_dense.compile(optimizer='adam',\n",
    "              loss='sparse_categorical_crossentropy',\n",
    "              metrics=['accuracy'])\n",
    "model_dense.fit(train_images, train_labels, epochs=10,\n",
    "                validation_data=(test_images, test_labels), callbacks=[tensorboard_callback])"
   ]
  },
  {
   "cell_type": "code",
   "execution_count": 132,
   "metadata": {},
   "outputs": [
    {
     "name": "stdout",
     "output_type": "stream",
     "text": [
      "Train on 60000 samples, validate on 10000 samples\n",
      "Epoch 1/10\n",
      "60000/60000 [==============================] - 38s 638us/sample - loss: 0.3879 - accuracy: 0.8613 - val_loss: 0.3156 - val_accuracy: 0.8854\n",
      "Epoch 2/10\n",
      "60000/60000 [==============================] - 38s 626us/sample - loss: 0.2528 - accuracy: 0.9066 - val_loss: 0.2864 - val_accuracy: 0.8964\n",
      "Epoch 3/10\n",
      "60000/60000 [==============================] - 38s 629us/sample - loss: 0.2031 - accuracy: 0.9244 - val_loss: 0.2751 - val_accuracy: 0.9000\n",
      "Epoch 4/10\n",
      "60000/60000 [==============================] - 38s 637us/sample - loss: 0.1640 - accuracy: 0.9392 - val_loss: 0.2864 - val_accuracy: 0.9038\n",
      "Epoch 5/10\n",
      "60000/60000 [==============================] - 38s 629us/sample - loss: 0.1337 - accuracy: 0.9500 - val_loss: 0.2941 - val_accuracy: 0.9088\n",
      "Epoch 6/10\n",
      "60000/60000 [==============================] - 37s 625us/sample - loss: 0.1048 - accuracy: 0.9618 - val_loss: 0.3014 - val_accuracy: 0.9093\n",
      "Epoch 7/10\n",
      "60000/60000 [==============================] - 37s 622us/sample - loss: 0.0824 - accuracy: 0.9694 - val_loss: 0.3408 - val_accuracy: 0.9096\n",
      "Epoch 8/10\n",
      "60000/60000 [==============================] - 37s 617us/sample - loss: 0.0665 - accuracy: 0.9759 - val_loss: 0.3754 - val_accuracy: 0.9075\n",
      "Epoch 9/10\n",
      "60000/60000 [==============================] - 37s 617us/sample - loss: 0.0520 - accuracy: 0.9811 - val_loss: 0.4061 - val_accuracy: 0.9090\n",
      "Epoch 10/10\n",
      "60000/60000 [==============================] - 38s 626us/sample - loss: 0.0426 - accuracy: 0.9848 - val_loss: 0.4226 - val_accuracy: 0.9048\n",
      "CPU times: user 26min 24s, sys: 2min 58s, total: 29min 23s\n",
      "Wall time: 6min 17s\n"
     ]
    },
    {
     "data": {
      "text/plain": [
       "<tensorflow.python.keras.callbacks.History at 0x2b3fcea79c50>"
      ]
     },
     "execution_count": 132,
     "metadata": {},
     "output_type": "execute_result"
    }
   ],
   "source": [
    "%%time\n",
    "model_conv = get_model_basic_conv()\n",
    "log_dir=\"logs/fit/conv/\" + datetime.datetime.now().strftime(\"%Y%m%d-%H%M%S\")\n",
    "tensorboard_callback = tf.keras.callbacks.TensorBoard(log_dir=log_dir, histogram_freq=1)\n",
    "model_conv.compile(optimizer='adam',\n",
    "              loss='sparse_categorical_crossentropy',\n",
    "              metrics=['accuracy'])\n",
    "model_conv.fit(train_images, train_labels, epochs=10, validation_data=(test_images, test_labels), callbacks=[tensorboard_callback])"
   ]
  },
  {
   "cell_type": "code",
   "execution_count": 133,
   "metadata": {},
   "outputs": [
    {
     "name": "stdout",
     "output_type": "stream",
     "text": [
      "Train on 60000 samples, validate on 10000 samples\n",
      "Epoch 1/10\n",
      "60000/60000 [==============================] - 37s 614us/sample - loss: 0.6189 - accuracy: 0.7787 - val_loss: 0.5145 - val_accuracy: 0.8213\n",
      "Epoch 2/10\n",
      "60000/60000 [==============================] - 36s 599us/sample - loss: 0.4564 - accuracy: 0.8364 - val_loss: 0.4559 - val_accuracy: 0.8372\n",
      "Epoch 3/10\n",
      "60000/60000 [==============================] - 35s 586us/sample - loss: 0.4183 - accuracy: 0.8500 - val_loss: 0.4355 - val_accuracy: 0.8431\n",
      "Epoch 4/10\n",
      "60000/60000 [==============================] - 36s 593us/sample - loss: 0.3907 - accuracy: 0.8584 - val_loss: 0.4117 - val_accuracy: 0.8537\n",
      "Epoch 5/10\n",
      "60000/60000 [==============================] - 36s 601us/sample - loss: 0.3734 - accuracy: 0.8640 - val_loss: 0.4003 - val_accuracy: 0.8519\n",
      "Epoch 6/10\n",
      "60000/60000 [==============================] - 36s 606us/sample - loss: 0.3579 - accuracy: 0.8699 - val_loss: 0.3999 - val_accuracy: 0.8560\n",
      "Epoch 7/10\n",
      "60000/60000 [==============================] - 36s 604us/sample - loss: 0.3446 - accuracy: 0.8733 - val_loss: 0.3794 - val_accuracy: 0.8621\n",
      "Epoch 8/10\n",
      "60000/60000 [==============================] - 36s 600us/sample - loss: 0.3364 - accuracy: 0.8766 - val_loss: 0.3788 - val_accuracy: 0.8640\n",
      "Epoch 9/10\n",
      "60000/60000 [==============================] - 36s 604us/sample - loss: 0.3262 - accuracy: 0.8795 - val_loss: 0.3674 - val_accuracy: 0.8688\n",
      "Epoch 10/10\n",
      "60000/60000 [==============================] - 36s 601us/sample - loss: 0.3178 - accuracy: 0.8839 - val_loss: 0.3617 - val_accuracy: 0.8695\n",
      "CPU times: user 25min 59s, sys: 46.3 s, total: 26min 45s\n",
      "Wall time: 6min 1s\n"
     ]
    },
    {
     "data": {
      "text/plain": [
       "<tensorflow.python.keras.callbacks.History at 0x2b3fdf956850>"
      ]
     },
     "execution_count": 133,
     "metadata": {},
     "output_type": "execute_result"
    }
   ],
   "source": [
    "%%time\n",
    "model_rand = get_model_basic_rand()\n",
    "log_dir=\"logs/fit/rand/\" + datetime.datetime.now().strftime(\"%Y%m%d-%H%M%S\")\n",
    "tensorboard_callback = tf.keras.callbacks.TensorBoard(log_dir=log_dir, histogram_freq=1)\n",
    "model_rand.compile(optimizer='adam',\n",
    "              loss='sparse_categorical_crossentropy',\n",
    "              metrics=['accuracy'])\n",
    "model_rand.fit(train_images, train_labels, epochs=10, validation_data=(test_images, test_labels), callbacks=[tensorboard_callback])"
   ]
  },
  {
   "cell_type": "code",
   "execution_count": 135,
   "metadata": {},
   "outputs": [
    {
     "name": "stdout",
     "output_type": "stream",
     "text": [
      "Train on 60000 samples, validate on 10000 samples\n",
      "Epoch 1/10\n",
      "60000/60000 [==============================] - 113s 2ms/sample - loss: 0.4958 - accuracy: 0.8226 - val_loss: 0.4032 - val_accuracy: 0.8556\n",
      "Epoch 2/10\n",
      "60000/60000 [==============================] - 112s 2ms/sample - loss: 0.3458 - accuracy: 0.8759 - val_loss: 0.3444 - val_accuracy: 0.8759\n",
      "Epoch 3/10\n",
      "60000/60000 [==============================] - 112s 2ms/sample - loss: 0.3005 - accuracy: 0.8905 - val_loss: 0.3164 - val_accuracy: 0.8854\n",
      "Epoch 4/10\n",
      "60000/60000 [==============================] - 112s 2ms/sample - loss: 0.2712 - accuracy: 0.9012 - val_loss: 0.3131 - val_accuracy: 0.8854\n",
      "Epoch 5/10\n",
      "60000/60000 [==============================] - 112s 2ms/sample - loss: 0.2490 - accuracy: 0.9084 - val_loss: 0.3008 - val_accuracy: 0.8930\n",
      "Epoch 6/10\n",
      "60000/60000 [==============================] - 112s 2ms/sample - loss: 0.2297 - accuracy: 0.9141 - val_loss: 0.2938 - val_accuracy: 0.8939\n",
      "Epoch 7/10\n",
      "60000/60000 [==============================] - 112s 2ms/sample - loss: 0.2133 - accuracy: 0.9208 - val_loss: 0.2863 - val_accuracy: 0.8993\n",
      "Epoch 8/10\n",
      "60000/60000 [==============================] - 112s 2ms/sample - loss: 0.1963 - accuracy: 0.9263 - val_loss: 0.2923 - val_accuracy: 0.8991\n",
      "Epoch 9/10\n",
      "60000/60000 [==============================] - 112s 2ms/sample - loss: 0.1835 - accuracy: 0.9310 - val_loss: 0.3046 - val_accuracy: 0.8952\n",
      "Epoch 10/10\n",
      "60000/60000 [==============================] - 112s 2ms/sample - loss: 0.1682 - accuracy: 0.9362 - val_loss: 0.3100 - val_accuracy: 0.8993\n",
      "CPU times: user 1h 55min 14s, sys: 1min 24s, total: 1h 56min 39s\n",
      "Wall time: 18min 42s\n"
     ]
    },
    {
     "data": {
      "text/plain": [
       "<tensorflow.python.keras.callbacks.History at 0x2b3fe104c1d0>"
      ]
     },
     "execution_count": 135,
     "metadata": {},
     "output_type": "execute_result"
    }
   ],
   "source": [
    "%%time\n",
    "model_rand2 = get_model_basic_rand2()\n",
    "log_dir=\"logs/fit/rand2/\" + datetime.datetime.now().strftime(\"%Y%m%d-%H%M%S\")\n",
    "tensorboard_callback = tf.keras.callbacks.TensorBoard(log_dir=log_dir, histogram_freq=1)\n",
    "model_rand2.compile(optimizer='adam',\n",
    "              loss='sparse_categorical_crossentropy',\n",
    "              metrics=['accuracy'])\n",
    "model_rand2.fit(train_images, train_labels, epochs=10, validation_data=(test_images, test_labels), callbacks=[tensorboard_callback])"
   ]
  },
  {
   "cell_type": "code",
   "execution_count": 75,
   "metadata": {},
   "outputs": [
    {
     "name": "stdout",
     "output_type": "stream",
     "text": [
      "10000/1 - 1s - loss: 0.2323 - accuracy: 0.8807\n",
      "\n",
      "Model_dense Test accuracy: 0.8807\n"
     ]
    }
   ],
   "source": [
    "test_loss, test_acc = model_dense.evaluate(test_images,  test_labels, verbose=2)\n",
    "print('\\nModel_dense Test accuracy:', test_acc)"
   ]
  },
  {
   "cell_type": "code",
   "execution_count": 72,
   "metadata": {},
   "outputs": [
    {
     "name": "stdout",
     "output_type": "stream",
     "text": [
      "10000/1 - 2s - loss: 0.9359 - accuracy: 0.9062\n",
      "\n",
      "Model_cov Test accuracy: 0.9062\n"
     ]
    }
   ],
   "source": [
    "test_loss, test_acc = model_conv.evaluate(test_images,  test_labels, verbose=2)\n",
    "print('\\nModel_cov Test accuracy:', test_acc)"
   ]
  },
  {
   "cell_type": "code",
   "execution_count": 76,
   "metadata": {},
   "outputs": [
    {
     "name": "stdout",
     "output_type": "stream",
     "text": [
      "10000/1 - 2s - loss: 0.2533 - accuracy: 0.8650\n",
      "\n",
      "Model_rand Test accuracy: 0.865\n"
     ]
    }
   ],
   "source": [
    "test_loss, test_acc = model_rand.evaluate(test_images,  test_labels, verbose=2)\n",
    "print('\\nModel_rand Test accuracy:', test_acc)"
   ]
  },
  {
   "cell_type": "code",
   "execution_count": 9,
   "metadata": {},
   "outputs": [
    {
     "name": "stdout",
     "output_type": "stream",
     "text": [
      "10000/1 - 7s - loss: 0.2464 - accuracy: 0.9009\n",
      "\n",
      "Model_rand Test accuracy: 0.9009\n"
     ]
    }
   ],
   "source": [
    "test_loss, test_acc = model_rand2.evaluate(test_images,  test_labels, verbose=2)\n",
    "print('\\nModel_rand Test accuracy:', test_acc)"
   ]
  },
  {
   "cell_type": "code",
   "execution_count": 74,
   "metadata": {},
   "outputs": [
    {
     "ename": "NameError",
     "evalue": "name 'X_train' is not defined",
     "output_type": "error",
     "traceback": [
      "\u001b[0;31m---------------------------------------------------------------------------\u001b[0m",
      "\u001b[0;31mNameError\u001b[0m                                 Traceback (most recent call last)",
      "\u001b[0;32m<ipython-input-74-65cc43a1f294>\u001b[0m in \u001b[0;36m<module>\u001b[0;34m\u001b[0m\n\u001b[0;32m----> 1\u001b[0;31m \u001b[0mprint\u001b[0m\u001b[0;34m(\u001b[0m\u001b[0;34m\"New train data shape: {} | test data: {}\"\u001b[0m\u001b[0;34m.\u001b[0m\u001b[0mformat\u001b[0m\u001b[0;34m(\u001b[0m\u001b[0mX_train\u001b[0m\u001b[0;34m.\u001b[0m\u001b[0mshape\u001b[0m\u001b[0;34m,\u001b[0m \u001b[0mX_test\u001b[0m\u001b[0;34m.\u001b[0m\u001b[0mshape\u001b[0m\u001b[0;34m)\u001b[0m\u001b[0;34m)\u001b[0m\u001b[0;34m\u001b[0m\u001b[0;34m\u001b[0m\u001b[0m\n\u001b[0m",
      "\u001b[0;31mNameError\u001b[0m: name 'X_train' is not defined"
     ]
    }
   ],
   "source": [
    "print(\"New train data shape: {} | test data: {}\".format(X_train.shape, X_test.shape))\n"
   ]
  },
  {
   "cell_type": "code",
   "execution_count": 23,
   "metadata": {},
   "outputs": [
    {
     "data": {
      "text/plain": [
       "28"
      ]
     },
     "execution_count": 23,
     "metadata": {},
     "output_type": "execute_result"
    }
   ],
   "source": [
    "train_images[0].shape[0]"
   ]
  },
  {
   "cell_type": "code",
   "execution_count": 47,
   "metadata": {},
   "outputs": [
    {
     "data": {
      "text/plain": [
       "(60000, 28, 28, 1)"
      ]
     },
     "execution_count": 47,
     "metadata": {},
     "output_type": "execute_result"
    }
   ],
   "source": [
    "train_images.shape"
   ]
  }
 ],
 "metadata": {
  "kernelspec": {
   "display_name": "Python 3",
   "language": "python",
   "name": "python3"
  },
  "language_info": {
   "codemirror_mode": {
    "name": "ipython",
    "version": 3
   },
   "file_extension": ".py",
   "mimetype": "text/x-python",
   "name": "python",
   "nbconvert_exporter": "python",
   "pygments_lexer": "ipython3",
   "version": "3.7.4"
  }
 },
 "nbformat": 4,
 "nbformat_minor": 2
}
