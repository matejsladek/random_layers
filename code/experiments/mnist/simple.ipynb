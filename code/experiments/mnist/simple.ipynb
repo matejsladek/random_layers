{
 "cells": [
  {
   "cell_type": "code",
   "execution_count": 1,
   "metadata": {
    "pycharm": {
     "is_executing": false
    }
   },
   "outputs": [
    {
     "name": "stderr",
     "output_type": "stream",
     "text": [
      "Using TensorFlow backend.\n"
     ]
    },
    {
     "name": "stdout",
     "output_type": "stream",
     "text": [
      "2.0.0\n"
     ]
    }
   ],
   "source": [
    "from __future__ import absolute_import, division, print_function, unicode_literals\n",
    "\n",
    "# TensorFlow and tf.keras\n",
    "import tensorflow as tf\n",
    "from tensorflow import keras\n",
    "from keras.utils import to_categorical\n",
    "from keras.callbacks import ProgbarLogger, TensorBoard, LambdaCallback\n",
    "\n",
    "# Helper libraries\n",
    "import numpy as np\n",
    "import matplotlib.pyplot as plt\n",
    "import datetime\n",
    "from io import StringIO\n",
    "\n",
    "print(tf.__version__)"
   ]
  },
  {
   "cell_type": "code",
   "execution_count": 2,
   "metadata": {
    "pycharm": {
     "is_executing": false
    }
   },
   "outputs": [],
   "source": [
    "fashion_mnist = keras.datasets.fashion_mnist\n",
    "\n",
    "(train_images, train_labels), (test_images, test_labels) = fashion_mnist.load_data()\n",
    "\n",
    "train_images = train_images / 255.0\n",
    "test_images = test_images / 255.0"
   ]
  },
  {
   "cell_type": "code",
   "execution_count": 3,
   "metadata": {
    "pycharm": {
     "is_executing": false
    }
   },
   "outputs": [],
   "source": [
    "img_rows, img_cols = (28, 28)\n",
    "train_images = train_images.reshape(train_images.shape[0], img_rows, img_cols, 1)\n",
    "test_images = test_images.reshape(test_images.shape[0], img_rows, img_cols, 1)\n",
    "input_shape = (img_rows, img_cols, 1)\n",
    "half_validate = round(test_images.shape[0] / 2)"
   ]
  },
  {
   "cell_type": "code",
   "execution_count": 4,
   "metadata": {},
   "outputs": [
    {
     "data": {
      "text/plain": [
       "array([9, 2, 1, ..., 8, 1, 5], dtype=uint8)"
      ]
     },
     "execution_count": 4,
     "metadata": {},
     "output_type": "execute_result"
    }
   ],
   "source": [
    "test_labels"
   ]
  },
  {
   "cell_type": "code",
   "execution_count": 5,
   "metadata": {
    "pycharm": {
     "is_executing": false
    }
   },
   "outputs": [],
   "source": [
    "logdir = \"logs/scalars/\" + datetime.datetime.now().strftime(\"%Y%m%d-%H%M%S\")\n",
    "file_writer = tf.summary.create_file_writer(logdir + \"/metrics\")\n",
    "file_writer.set_as_default()"
   ]
  },
  {
   "cell_type": "code",
   "execution_count": 6,
   "metadata": {
    "pycharm": {
     "is_executing": false
    }
   },
   "outputs": [],
   "source": [
    "def get_model_dense():\n",
    "    model = keras.Sequential([\n",
    "        keras.layers.Flatten(input_shape=(28, 28, 1)),\n",
    "        keras.layers.Dense(128, activation='relu'),\n",
    "        keras.layers.Dense(10, activation='softmax')\n",
    "    ])\n",
    "    return model\n",
    "def get_model_dense2():\n",
    "    model = keras.Sequential([\n",
    "        keras.layers.Flatten(input_shape=(28, 28, 1)),\n",
    "#         keras.layers.Dense(128, activation='relu'),\n",
    "        keras.layers.Dense(10, activation='softmax')\n",
    "    ])\n",
    "    return model\n",
    "def get_model_dense3():\n",
    "    model = keras.Sequential([\n",
    "        keras.layers.Flatten(input_shape=(28, 28, 1)),\n",
    "        keras.layers.Dense(400, activation='relu'),\n",
    "        keras.layers.Dense(128, activation='relu'),\n",
    "        keras.layers.Dense(10, activation='softmax')\n",
    "    ])\n",
    "    return model"
   ]
  },
  {
   "cell_type": "code",
   "execution_count": 7,
   "metadata": {
    "pycharm": {
     "is_executing": false
    }
   },
   "outputs": [],
   "source": [
    "def get_model_basic_conv():\n",
    "    model = keras.Sequential([\n",
    "        keras.layers.Conv2D(32, (3, 3), activation='relu', input_shape=input_shape),\n",
    "        keras.layers.Flatten(),\n",
    "        keras.layers.Dense(128, activation='relu'),\n",
    "        keras.layers.Dense(10, activation='softmax')\n",
    "    ])\n",
    "    return model"
   ]
  },
  {
   "cell_type": "code",
   "execution_count": 8,
   "metadata": {
    "pycharm": {
     "is_executing": false
    }
   },
   "outputs": [],
   "source": [
    "def get_model_basic_conv2():\n",
    "    model = keras.Sequential([\n",
    "        keras.layers.Conv2D(32, (3, 3), activation='relu', input_shape=input_shape),\n",
    "        keras.layers.Flatten(),\n",
    "#         keras.layers.Dense(128, activation='relu'),\n",
    "        keras.layers.Dense(10, activation='softmax')\n",
    "    ])\n",
    "    return model"
   ]
  },
  {
   "cell_type": "code",
   "execution_count": 110,
   "metadata": {
    "pycharm": {
     "is_executing": false
    }
   },
   "outputs": [],
   "source": [
    "def get_model_basic_conv3():\n",
    "    model = keras.Sequential([\n",
    "        keras.layers.Conv2D(32, (3, 3), activation='relu', input_shape=input_shape),\n",
    "        keras.layers.Flatten(),\n",
    "        keras.layers.Dense(400, activation='relu'),\n",
    "        keras.layers.Dense(128, activation='relu'),\n",
    "        keras.layers.Dense(10, activation='softmax')\n",
    "    ])\n",
    "    return model"
   ]
  },
  {
   "cell_type": "code",
   "execution_count": 111,
   "metadata": {
    "pycharm": {
     "is_executing": false
    }
   },
   "outputs": [],
   "source": [
    "def get_model_basic_rand():\n",
    "    model = keras.Sequential([\n",
    "        keras.layers.Conv2D(32, (3, 3), activation='relu', input_shape=input_shape),\n",
    "        keras.layers.MaxPool2D(pool_size=(2, 2), strides=(1, 1), padding='valid'),\n",
    "        keras.layers.Flatten(),\n",
    "        keras.layers.Dense(128, activation='relu', trainable=False),\n",
    "#         keras.layers.Dense(1280, activation='relu', trainable=False),\n",
    "        keras.layers.Dense(128, activation='relu'),\n",
    "        keras.layers.Dense(10, activation='softmax')\n",
    "    ])\n",
    "    return model"
   ]
  },
  {
   "cell_type": "code",
   "execution_count": 112,
   "metadata": {
    "pycharm": {
     "is_executing": false
    }
   },
   "outputs": [],
   "source": [
    "def get_model_basic_rand2():\n",
    "    model = keras.Sequential([\n",
    "        keras.layers.Conv2D(32, (3, 3), activation='relu', input_shape=input_shape),\n",
    "        keras.layers.MaxPool2D(pool_size=(2, 2), strides=(1, 1), padding='valid'),\n",
    "        keras.layers.Flatten(),\n",
    "#         keras.layers.Dense(128, activation='relu', trainable=False),\n",
    "        keras.layers.Dense(1280, activation='relu', trainable=False),\n",
    "        keras.layers.Dense(128, activation='relu'),\n",
    "        keras.layers.Dense(10, activation='softmax')\n",
    "    ])\n",
    "    return model"
   ]
  },
  {
   "cell_type": "code",
   "execution_count": 113,
   "metadata": {
    "pycharm": {
     "is_executing": false
    }
   },
   "outputs": [],
   "source": [
    "def get_model_basic_rand3():\n",
    "    model = keras.Sequential([\n",
    "        keras.layers.Conv2D(32, (3, 3), activation='relu', input_shape=input_shape),\n",
    "        keras.layers.MaxPool2D(pool_size=(2, 2), strides=(1, 1), padding='valid'),\n",
    "        keras.layers.Flatten(),\n",
    "#         keras.layers.Dense(128, activation='relu', trainable=False),\n",
    "        keras.layers.Dense(400, activation='relu', trainable=False),\n",
    "        keras.layers.Dense(400, activation='relu', trainable=False),\n",
    "        keras.layers.Dense(400, activation='relu', trainable=False),\n",
    "        keras.layers.Dense(400, activation='relu', trainable=False),\n",
    "        keras.layers.Dense(400, activation='relu', trainable=False),\n",
    "        keras.layers.Dense(400, activation='relu', trainable=False),\n",
    "        keras.layers.Dense(400, activation='relu', trainable=False),\n",
    "        keras.layers.Dense(128, activation='relu'),\n",
    "        keras.layers.Dense(10, activation='softmax')\n",
    "    ])\n",
    "    return model"
   ]
  },
  {
   "cell_type": "code",
   "execution_count": 114,
   "metadata": {
    "pycharm": {
     "is_executing": false
    }
   },
   "outputs": [],
   "source": [
    "model = get_model_basic_rand3()"
   ]
  },
  {
   "cell_type": "code",
   "execution_count": 115,
   "metadata": {
    "pycharm": {
     "is_executing": false
    }
   },
   "outputs": [],
   "source": [
    "log_dir=\"logs/fit/\" + datetime.datetime.now().strftime(\"%Y%m%d-%H%M%S\")\n",
    "tensorboard_callback = tf.keras.callbacks.TensorBoard(log_dir=log_dir, histogram_freq=1, profile_batch=1)"
   ]
  },
  {
   "cell_type": "code",
   "execution_count": 116,
   "metadata": {
    "pycharm": {
     "is_executing": false
    }
   },
   "outputs": [],
   "source": [
    "model.compile(optimizer='adam',\n",
    "              loss='sparse_categorical_crossentropy',\n",
    "              metrics=['accuracy'])"
   ]
  },
  {
   "cell_type": "code",
   "execution_count": 97,
   "metadata": {
    "pycharm": {
     "is_executing": false
    }
   },
   "outputs": [
    {
     "ename": "ValueError",
     "evalue": "Error when checking input: expected conv2d_8_input to have 4 dimensions, but got array with shape (5000, 28, 28)",
     "output_type": "error",
     "traceback": [
      "\u001b[0;31m---------------------------------------------------------------------------\u001b[0m",
      "\u001b[0;31mValueError\u001b[0m                                Traceback (most recent call last)",
      "\u001b[0;32m<ipython-input-97-5b033313900e>\u001b[0m in \u001b[0;36m<module>\u001b[0;34m\u001b[0m\n\u001b[1;32m      4\u001b[0m     \u001b[0mepochs\u001b[0m\u001b[0;34m=\u001b[0m\u001b[0;36m10\u001b[0m\u001b[0;34m,\u001b[0m\u001b[0;34m\u001b[0m\u001b[0;34m\u001b[0m\u001b[0m\n\u001b[1;32m      5\u001b[0m     \u001b[0mvalidation_data\u001b[0m\u001b[0;34m=\u001b[0m\u001b[0;34m(\u001b[0m\u001b[0mtest_images\u001b[0m\u001b[0;34m[\u001b[0m\u001b[0;34m:\u001b[0m\u001b[0mhalf_validate\u001b[0m\u001b[0;34m]\u001b[0m\u001b[0;34m,\u001b[0m \u001b[0mtest_labels\u001b[0m\u001b[0;34m[\u001b[0m\u001b[0;34m:\u001b[0m\u001b[0mhalf_validate\u001b[0m\u001b[0;34m]\u001b[0m\u001b[0;34m)\u001b[0m\u001b[0;34m,\u001b[0m\u001b[0;34m\u001b[0m\u001b[0;34m\u001b[0m\u001b[0m\n\u001b[0;32m----> 6\u001b[0;31m     \u001b[0mcallbacks\u001b[0m\u001b[0;34m=\u001b[0m\u001b[0;34m[\u001b[0m\u001b[0mtensorboard_callback\u001b[0m\u001b[0;34m]\u001b[0m\u001b[0;34m\u001b[0m\u001b[0;34m\u001b[0m\u001b[0m\n\u001b[0m\u001b[1;32m      7\u001b[0m )\n",
      "\u001b[0;32m/usr/local/Cellar/python/3.7.4_1/Frameworks/Python.framework/Versions/3.7/lib/python3.7/site-packages/tensorflow_core/python/keras/engine/training.py\u001b[0m in \u001b[0;36mfit\u001b[0;34m(self, x, y, batch_size, epochs, verbose, callbacks, validation_split, validation_data, shuffle, class_weight, sample_weight, initial_epoch, steps_per_epoch, validation_steps, validation_freq, max_queue_size, workers, use_multiprocessing, **kwargs)\u001b[0m\n\u001b[1;32m    726\u001b[0m         \u001b[0mmax_queue_size\u001b[0m\u001b[0;34m=\u001b[0m\u001b[0mmax_queue_size\u001b[0m\u001b[0;34m,\u001b[0m\u001b[0;34m\u001b[0m\u001b[0;34m\u001b[0m\u001b[0m\n\u001b[1;32m    727\u001b[0m         \u001b[0mworkers\u001b[0m\u001b[0;34m=\u001b[0m\u001b[0mworkers\u001b[0m\u001b[0;34m,\u001b[0m\u001b[0;34m\u001b[0m\u001b[0;34m\u001b[0m\u001b[0m\n\u001b[0;32m--> 728\u001b[0;31m         use_multiprocessing=use_multiprocessing)\n\u001b[0m\u001b[1;32m    729\u001b[0m \u001b[0;34m\u001b[0m\u001b[0m\n\u001b[1;32m    730\u001b[0m   def evaluate(self,\n",
      "\u001b[0;32m/usr/local/Cellar/python/3.7.4_1/Frameworks/Python.framework/Versions/3.7/lib/python3.7/site-packages/tensorflow_core/python/keras/engine/training_v2.py\u001b[0m in \u001b[0;36mfit\u001b[0;34m(self, model, x, y, batch_size, epochs, verbose, callbacks, validation_split, validation_data, shuffle, class_weight, sample_weight, initial_epoch, steps_per_epoch, validation_steps, validation_freq, **kwargs)\u001b[0m\n\u001b[1;32m    222\u001b[0m           \u001b[0mvalidation_data\u001b[0m\u001b[0;34m=\u001b[0m\u001b[0mvalidation_data\u001b[0m\u001b[0;34m,\u001b[0m\u001b[0;34m\u001b[0m\u001b[0;34m\u001b[0m\u001b[0m\n\u001b[1;32m    223\u001b[0m           \u001b[0mvalidation_steps\u001b[0m\u001b[0;34m=\u001b[0m\u001b[0mvalidation_steps\u001b[0m\u001b[0;34m,\u001b[0m\u001b[0;34m\u001b[0m\u001b[0;34m\u001b[0m\u001b[0m\n\u001b[0;32m--> 224\u001b[0;31m           distribution_strategy=strategy)\n\u001b[0m\u001b[1;32m    225\u001b[0m \u001b[0;34m\u001b[0m\u001b[0m\n\u001b[1;32m    226\u001b[0m       \u001b[0mtotal_samples\u001b[0m \u001b[0;34m=\u001b[0m \u001b[0m_get_total_number_of_samples\u001b[0m\u001b[0;34m(\u001b[0m\u001b[0mtraining_data_adapter\u001b[0m\u001b[0;34m)\u001b[0m\u001b[0;34m\u001b[0m\u001b[0;34m\u001b[0m\u001b[0m\n",
      "\u001b[0;32m/usr/local/Cellar/python/3.7.4_1/Frameworks/Python.framework/Versions/3.7/lib/python3.7/site-packages/tensorflow_core/python/keras/engine/training_v2.py\u001b[0m in \u001b[0;36m_process_training_inputs\u001b[0;34m(model, x, y, batch_size, epochs, sample_weights, class_weights, steps_per_epoch, validation_split, validation_data, validation_steps, shuffle, distribution_strategy, max_queue_size, workers, use_multiprocessing)\u001b[0m\n\u001b[1;32m    562\u001b[0m                                     \u001b[0mclass_weights\u001b[0m\u001b[0;34m=\u001b[0m\u001b[0mclass_weights\u001b[0m\u001b[0;34m,\u001b[0m\u001b[0;34m\u001b[0m\u001b[0;34m\u001b[0m\u001b[0m\n\u001b[1;32m    563\u001b[0m                                     \u001b[0msteps\u001b[0m\u001b[0;34m=\u001b[0m\u001b[0mvalidation_steps\u001b[0m\u001b[0;34m,\u001b[0m\u001b[0;34m\u001b[0m\u001b[0;34m\u001b[0m\u001b[0m\n\u001b[0;32m--> 564\u001b[0;31m                                     distribution_strategy=distribution_strategy)\n\u001b[0m\u001b[1;32m    565\u001b[0m     \u001b[0;32melif\u001b[0m \u001b[0mvalidation_steps\u001b[0m\u001b[0;34m:\u001b[0m\u001b[0;34m\u001b[0m\u001b[0;34m\u001b[0m\u001b[0m\n\u001b[1;32m    566\u001b[0m       raise ValueError('`validation_steps` should not be specified if '\n",
      "\u001b[0;32m/usr/local/Cellar/python/3.7.4_1/Frameworks/Python.framework/Versions/3.7/lib/python3.7/site-packages/tensorflow_core/python/keras/engine/training_v2.py\u001b[0m in \u001b[0;36m_process_inputs\u001b[0;34m(model, x, y, batch_size, epochs, sample_weights, class_weights, shuffle, steps, distribution_strategy, max_queue_size, workers, use_multiprocessing)\u001b[0m\n\u001b[1;32m    592\u001b[0m         \u001b[0mbatch_size\u001b[0m\u001b[0;34m=\u001b[0m\u001b[0mbatch_size\u001b[0m\u001b[0;34m,\u001b[0m\u001b[0;34m\u001b[0m\u001b[0;34m\u001b[0m\u001b[0m\n\u001b[1;32m    593\u001b[0m         \u001b[0mcheck_steps\u001b[0m\u001b[0;34m=\u001b[0m\u001b[0;32mFalse\u001b[0m\u001b[0;34m,\u001b[0m\u001b[0;34m\u001b[0m\u001b[0;34m\u001b[0m\u001b[0m\n\u001b[0;32m--> 594\u001b[0;31m         steps=steps)\n\u001b[0m\u001b[1;32m    595\u001b[0m   adapter = adapter_cls(\n\u001b[1;32m    596\u001b[0m       \u001b[0mx\u001b[0m\u001b[0;34m,\u001b[0m\u001b[0;34m\u001b[0m\u001b[0;34m\u001b[0m\u001b[0m\n",
      "\u001b[0;32m/usr/local/Cellar/python/3.7.4_1/Frameworks/Python.framework/Versions/3.7/lib/python3.7/site-packages/tensorflow_core/python/keras/engine/training.py\u001b[0m in \u001b[0;36m_standardize_user_data\u001b[0;34m(self, x, y, sample_weight, class_weight, batch_size, check_steps, steps_name, steps, validation_split, shuffle, extract_tensors_from_dataset)\u001b[0m\n\u001b[1;32m   2470\u001b[0m           \u001b[0mfeed_input_shapes\u001b[0m\u001b[0;34m,\u001b[0m\u001b[0;34m\u001b[0m\u001b[0;34m\u001b[0m\u001b[0m\n\u001b[1;32m   2471\u001b[0m           \u001b[0mcheck_batch_axis\u001b[0m\u001b[0;34m=\u001b[0m\u001b[0;32mFalse\u001b[0m\u001b[0;34m,\u001b[0m  \u001b[0;31m# Don't enforce the batch size.\u001b[0m\u001b[0;34m\u001b[0m\u001b[0;34m\u001b[0m\u001b[0m\n\u001b[0;32m-> 2472\u001b[0;31m           exception_prefix='input')\n\u001b[0m\u001b[1;32m   2473\u001b[0m \u001b[0;34m\u001b[0m\u001b[0m\n\u001b[1;32m   2474\u001b[0m     \u001b[0;31m# Get typespecs for the input data and sanitize it if necessary.\u001b[0m\u001b[0;34m\u001b[0m\u001b[0;34m\u001b[0m\u001b[0;34m\u001b[0m\u001b[0m\n",
      "\u001b[0;32m/usr/local/Cellar/python/3.7.4_1/Frameworks/Python.framework/Versions/3.7/lib/python3.7/site-packages/tensorflow_core/python/keras/engine/training_utils.py\u001b[0m in \u001b[0;36mstandardize_input_data\u001b[0;34m(data, names, shapes, check_batch_axis, exception_prefix)\u001b[0m\n\u001b[1;32m    563\u001b[0m                            \u001b[0;34m': expected '\u001b[0m \u001b[0;34m+\u001b[0m \u001b[0mnames\u001b[0m\u001b[0;34m[\u001b[0m\u001b[0mi\u001b[0m\u001b[0;34m]\u001b[0m \u001b[0;34m+\u001b[0m \u001b[0;34m' to have '\u001b[0m \u001b[0;34m+\u001b[0m\u001b[0;34m\u001b[0m\u001b[0;34m\u001b[0m\u001b[0m\n\u001b[1;32m    564\u001b[0m                            \u001b[0mstr\u001b[0m\u001b[0;34m(\u001b[0m\u001b[0mlen\u001b[0m\u001b[0;34m(\u001b[0m\u001b[0mshape\u001b[0m\u001b[0;34m)\u001b[0m\u001b[0;34m)\u001b[0m \u001b[0;34m+\u001b[0m \u001b[0;34m' dimensions, but got array '\u001b[0m\u001b[0;34m\u001b[0m\u001b[0;34m\u001b[0m\u001b[0m\n\u001b[0;32m--> 565\u001b[0;31m                            'with shape ' + str(data_shape))\n\u001b[0m\u001b[1;32m    566\u001b[0m         \u001b[0;32mif\u001b[0m \u001b[0;32mnot\u001b[0m \u001b[0mcheck_batch_axis\u001b[0m\u001b[0;34m:\u001b[0m\u001b[0;34m\u001b[0m\u001b[0;34m\u001b[0m\u001b[0m\n\u001b[1;32m    567\u001b[0m           \u001b[0mdata_shape\u001b[0m \u001b[0;34m=\u001b[0m \u001b[0mdata_shape\u001b[0m\u001b[0;34m[\u001b[0m\u001b[0;36m1\u001b[0m\u001b[0;34m:\u001b[0m\u001b[0;34m]\u001b[0m\u001b[0;34m\u001b[0m\u001b[0;34m\u001b[0m\u001b[0m\n",
      "\u001b[0;31mValueError\u001b[0m: Error when checking input: expected conv2d_8_input to have 4 dimensions, but got array with shape (5000, 28, 28)"
     ]
    }
   ],
   "source": [
    "model.fit(\n",
    "    train_images,\n",
    "    train_labels,\n",
    "    epochs=10,\n",
    "    validation_data=(test_images[:half_validate], test_labels[:half_validate]),\n",
    "    callbacks=[tensorboard_callback]\n",
    ")"
   ]
  },
  {
   "cell_type": "code",
   "execution_count": null,
   "metadata": {},
   "outputs": [],
   "source": [
    "# print(model_dense.summary())\n",
    "# print(model_conv.summary())\n",
    "# print(model_rand.summary())\n",
    "print(model.summary())"
   ]
  },
  {
   "cell_type": "code",
   "execution_count": null,
   "metadata": {},
   "outputs": [],
   "source": [
    "# logdir = \"logs/scalars/\" + datetime.now().strftime(\"%Y%m%d-%H%M%S\")\n",
    "# file_writer = tf.summary.create_file_writer(logdir + \"/metrics\")\n",
    "# file_writer.set_as_default()\n",
    "test_loss, test_acc = model.evaluate(test_images,  test_labels, verbose=2)\n",
    "tf.summary.scalar('test_acc', data=test_acc, step=1)\n",
    "print('\\nModel1 Test accuracy:', test_acc)"
   ]
  },
  {
   "cell_type": "code",
   "execution_count": null,
   "metadata": {},
   "outputs": [],
   "source": [
    "%%time\n",
    "model_dense = get_model_dense()\n",
    "log_dir=\"logs/fit/dense/\" + datetime.datetime.now().strftime(\"%Y%m%d-%H%M%S\")\n",
    "tensorboard_callback = tf.keras.callbacks.TensorBoard(log_dir=log_dir, histogram_freq=1)\n",
    "model_dense.compile(optimizer='adam',\n",
    "              loss='sparse_categorical_crossentropy',\n",
    "              metrics=['accuracy'])\n",
    "model_dense.fit(train_images, train_labels, epochs=10,\n",
    "                validation_data=(test_images[:half_validate], test_labels[:half_validate]), callbacks=[tensorboard_callback])"
   ]
  },
  {
   "cell_type": "code",
   "execution_count": null,
   "metadata": {},
   "outputs": [],
   "source": [
    "%%time\n",
    "model_conv = get_model_basic_conv()\n",
    "log_dir=\"logs/fit/conv/\" + datetime.datetime.now().strftime(\"%Y%m%d-%H%M%S\")\n",
    "tensorboard_callback = tf.keras.callbacks.TensorBoard(log_dir=log_dir, histogram_freq=1)\n",
    "model_conv.compile(optimizer='adam',\n",
    "              loss='sparse_categorical_crossentropy',\n",
    "              metrics=['accuracy'])\n",
    "model_conv.fit(train_images, train_labels, epochs=10, validation_data=(test_images[:half_validate], test_labels[:half_validate]), callbacks=[tensorboard_callback])"
   ]
  },
  {
   "cell_type": "code",
   "execution_count": null,
   "metadata": {},
   "outputs": [],
   "source": [
    "%%time\n",
    "model_rand = get_model_basic_rand()\n",
    "log_dir=\"logs/fit/rand/\" + datetime.datetime.now().strftime(\"%Y%m%d-%H%M%S\")\n",
    "tensorboard_callback = tf.keras.callbacks.TensorBoard(log_dir=log_dir, histogram_freq=1)\n",
    "model_rand.compile(optimizer='adam',\n",
    "              loss='sparse_categorical_crossentropy',\n",
    "              metrics=['accuracy'])\n",
    "model_rand.fit(train_images, train_labels, epochs=10, validation_data=(test_images[:half_validate], test_labels[:half_validate]), callbacks=[tensorboard_callback])"
   ]
  },
  {
   "cell_type": "code",
   "execution_count": 135,
   "metadata": {},
   "outputs": [
    {
     "name": "stdout",
     "output_type": "stream",
     "text": [
      "Train on 60000 samples, validate on 10000 samples\n",
      "Epoch 1/10\n",
      "60000/60000 [==============================] - 113s 2ms/sample - loss: 0.4958 - accuracy: 0.8226 - val_loss: 0.4032 - val_accuracy: 0.8556\n",
      "Epoch 2/10\n",
      "60000/60000 [==============================] - 112s 2ms/sample - loss: 0.3458 - accuracy: 0.8759 - val_loss: 0.3444 - val_accuracy: 0.8759\n",
      "Epoch 3/10\n",
      "60000/60000 [==============================] - 112s 2ms/sample - loss: 0.3005 - accuracy: 0.8905 - val_loss: 0.3164 - val_accuracy: 0.8854\n",
      "Epoch 4/10\n",
      "60000/60000 [==============================] - 112s 2ms/sample - loss: 0.2712 - accuracy: 0.9012 - val_loss: 0.3131 - val_accuracy: 0.8854\n",
      "Epoch 5/10\n",
      "60000/60000 [==============================] - 112s 2ms/sample - loss: 0.2490 - accuracy: 0.9084 - val_loss: 0.3008 - val_accuracy: 0.8930\n",
      "Epoch 6/10\n",
      "60000/60000 [==============================] - 112s 2ms/sample - loss: 0.2297 - accuracy: 0.9141 - val_loss: 0.2938 - val_accuracy: 0.8939\n",
      "Epoch 7/10\n",
      "60000/60000 [==============================] - 112s 2ms/sample - loss: 0.2133 - accuracy: 0.9208 - val_loss: 0.2863 - val_accuracy: 0.8993\n",
      "Epoch 8/10\n",
      "60000/60000 [==============================] - 112s 2ms/sample - loss: 0.1963 - accuracy: 0.9263 - val_loss: 0.2923 - val_accuracy: 0.8991\n",
      "Epoch 9/10\n",
      "60000/60000 [==============================] - 112s 2ms/sample - loss: 0.1835 - accuracy: 0.9310 - val_loss: 0.3046 - val_accuracy: 0.8952\n",
      "Epoch 10/10\n",
      "60000/60000 [==============================] - 112s 2ms/sample - loss: 0.1682 - accuracy: 0.9362 - val_loss: 0.3100 - val_accuracy: 0.8993\n",
      "CPU times: user 1h 55min 14s, sys: 1min 24s, total: 1h 56min 39s\n",
      "Wall time: 18min 42s\n"
     ]
    },
    {
     "data": {
      "text/plain": [
       "<tensorflow.python.keras.callbacks.History at 0x2b3fe104c1d0>"
      ]
     },
     "execution_count": 135,
     "metadata": {},
     "output_type": "execute_result"
    }
   ],
   "source": [
    "%%time\n",
    "model_rand2 = get_model_basic_rand2()\n",
    "log_dir=\"logs/fit/rand2/\" + datetime.datetime.now().strftime(\"%Y%m%d-%H%M%S\")\n",
    "tensorboard_callback = tf.keras.callbacks.TensorBoard(log_dir=log_dir, histogram_freq=1)\n",
    "model_rand2.compile(optimizer='adam',\n",
    "              loss='sparse_categorical_crossentropy',\n",
    "              metrics=['accuracy'])\n",
    "model_rand2.fit(train_images, train_labels, epochs=10, validation_data=(test_images[:half_validate], test_labels[:half_validate]), callbacks=[tensorboard_callback])"
   ]
  },
  {
   "cell_type": "code",
   "execution_count": 75,
   "metadata": {},
   "outputs": [
    {
     "name": "stdout",
     "output_type": "stream",
     "text": [
      "10000/1 - 1s - loss: 0.2323 - accuracy: 0.8807\n",
      "\n",
      "Model_dense Test accuracy: 0.8807\n"
     ]
    }
   ],
   "source": [
    "test_loss, test_acc = model_dense.evaluate(test_images,  test_labels, verbose=2)\n",
    "print('\\nModel_dense Test accuracy:', test_acc)"
   ]
  },
  {
   "cell_type": "code",
   "execution_count": 72,
   "metadata": {},
   "outputs": [
    {
     "name": "stdout",
     "output_type": "stream",
     "text": [
      "10000/1 - 2s - loss: 0.9359 - accuracy: 0.9062\n",
      "\n",
      "Model_cov Test accuracy: 0.9062\n"
     ]
    }
   ],
   "source": [
    "test_loss, test_acc = model_conv.evaluate(test_images,  test_labels, verbose=2)\n",
    "print('\\nModel_cov Test accuracy:', test_acc)"
   ]
  },
  {
   "cell_type": "code",
   "execution_count": 76,
   "metadata": {},
   "outputs": [
    {
     "name": "stdout",
     "output_type": "stream",
     "text": [
      "10000/1 - 2s - loss: 0.2533 - accuracy: 0.8650\n",
      "\n",
      "Model_rand Test accuracy: 0.865\n"
     ]
    }
   ],
   "source": [
    "test_loss, test_acc = model_rand.evaluate(test_images,  test_labels, verbose=2)\n",
    "print('\\nModel_rand Test accuracy:', test_acc)"
   ]
  },
  {
   "cell_type": "code",
   "execution_count": 9,
   "metadata": {},
   "outputs": [
    {
     "name": "stdout",
     "output_type": "stream",
     "text": [
      "10000/1 - 7s - loss: 0.2464 - accuracy: 0.9009\n",
      "\n",
      "Model_rand Test accuracy: 0.9009\n"
     ]
    }
   ],
   "source": [
    "test_loss, test_acc = model_rand2.evaluate(test_images,  test_labels, verbose=2)\n",
    "print('\\nModel_rand Test accuracy:', test_acc)"
   ]
  },
  {
   "cell_type": "code",
   "execution_count": 74,
   "metadata": {},
   "outputs": [
    {
     "ename": "NameError",
     "evalue": "name 'X_train' is not defined",
     "output_type": "error",
     "traceback": [
      "\u001b[0;31m---------------------------------------------------------------------------\u001b[0m",
      "\u001b[0;31mNameError\u001b[0m                                 Traceback (most recent call last)",
      "\u001b[0;32m<ipython-input-74-65cc43a1f294>\u001b[0m in \u001b[0;36m<module>\u001b[0;34m\u001b[0m\n\u001b[0;32m----> 1\u001b[0;31m \u001b[0mprint\u001b[0m\u001b[0;34m(\u001b[0m\u001b[0;34m\"New train data shape: {} | test data: {}\"\u001b[0m\u001b[0;34m.\u001b[0m\u001b[0mformat\u001b[0m\u001b[0;34m(\u001b[0m\u001b[0mX_train\u001b[0m\u001b[0;34m.\u001b[0m\u001b[0mshape\u001b[0m\u001b[0;34m,\u001b[0m \u001b[0mX_test\u001b[0m\u001b[0;34m.\u001b[0m\u001b[0mshape\u001b[0m\u001b[0;34m)\u001b[0m\u001b[0;34m)\u001b[0m\u001b[0;34m\u001b[0m\u001b[0;34m\u001b[0m\u001b[0m\n\u001b[0m",
      "\u001b[0;31mNameError\u001b[0m: name 'X_train' is not defined"
     ]
    }
   ],
   "source": [
    "print(\"New train data shape: {} | test data: {}\".format(X_train.shape, X_test.shape))\n"
   ]
  },
  {
   "cell_type": "code",
   "execution_count": 23,
   "metadata": {},
   "outputs": [
    {
     "data": {
      "text/plain": [
       "28"
      ]
     },
     "execution_count": 23,
     "metadata": {},
     "output_type": "execute_result"
    }
   ],
   "source": [
    "train_images[0].shape[0]"
   ]
  },
  {
   "cell_type": "code",
   "execution_count": 47,
   "metadata": {},
   "outputs": [
    {
     "data": {
      "text/plain": [
       "(60000, 28, 28, 1)"
      ]
     },
     "execution_count": 47,
     "metadata": {},
     "output_type": "execute_result"
    }
   ],
   "source": [
    "train_images.shape"
   ]
  },
  {
   "cell_type": "code",
   "execution_count": 171,
   "metadata": {},
   "outputs": [],
   "source": [
    "models = [\n",
    "    [(\"dense\", get_model_dense()), (\"dense2\", get_model_dense2()), (\"dense3\", get_model_dense3())],\n",
    "    [(\"conv\", get_model_basic_conv()), (\"conv2\", get_model_basic_conv2()), (\"conv3\", get_model_basic_conv3())],\n",
    "    [(\"rand\", get_model_basic_rand()), (\"rand2\", get_model_basic_rand2()), (\"rand3\", get_model_basic_rand3())]\n",
    "#     (\"rand2\", get_model_basic_rand2()),\n",
    "#     (\"rand3\", get_model_basic_rand3())\n",
    "]"
   ]
  },
  {
   "cell_type": "code",
   "execution_count": 172,
   "metadata": {},
   "outputs": [],
   "source": [
    "for model_type in models:\n",
    "    for _, model in model_type:\n",
    "        model.compile(\n",
    "            optimizer='adam',\n",
    "            loss='sparse_categorical_crossentropy',\n",
    "            metrics=['accuracy']\n",
    "        )"
   ]
  },
  {
   "cell_type": "code",
   "execution_count": 173,
   "metadata": {
    "scrolled": true
   },
   "outputs": [
    {
     "name": "stdout",
     "output_type": "stream",
     "text": [
      "Train on 60000 samples, validate on 5000 samples\n",
      "Epoch 1/100\n",
      "60000/60000 [==============================] - 6s 104us/sample - loss: 0.5008 - accuracy: 0.8243 - val_loss: 0.4392 - val_accuracy: 0.8404\n",
      "Epoch 2/100\n",
      "60000/60000 [==============================] - 5s 90us/sample - loss: 0.3756 - accuracy: 0.8642 - val_loss: 0.3950 - val_accuracy: 0.8534\n",
      "Epoch 3/100\n",
      "60000/60000 [==============================] - 5s 85us/sample - loss: 0.3370 - accuracy: 0.8779 - val_loss: 0.3907 - val_accuracy: 0.8610\n",
      "Epoch 4/100\n",
      "60000/60000 [==============================] - 6s 103us/sample - loss: 0.3114 - accuracy: 0.8857 - val_loss: 0.3537 - val_accuracy: 0.8726\n",
      "Epoch 5/100\n",
      "60000/60000 [==============================] - 6s 102us/sample - loss: 0.2955 - accuracy: 0.8909 - val_loss: 0.3627 - val_accuracy: 0.8640\n",
      "Epoch 6/100\n",
      "60000/60000 [==============================] - 4s 74us/sample - loss: 0.2802 - accuracy: 0.8954 - val_loss: 0.3409 - val_accuracy: 0.8788\n",
      "Epoch 7/100\n",
      "60000/60000 [==============================] - 4s 74us/sample - loss: 0.2671 - accuracy: 0.9008 - val_loss: 0.3559 - val_accuracy: 0.8734\n",
      "Epoch 8/100\n",
      "60000/60000 [==============================] - 4s 73us/sample - loss: 0.2569 - accuracy: 0.9046 - val_loss: 0.3457 - val_accuracy: 0.8798\n",
      "Epoch 9/100\n",
      "60000/60000 [==============================] - 4s 74us/sample - loss: 0.2452 - accuracy: 0.9082 - val_loss: 0.3357 - val_accuracy: 0.8824\n",
      "Epoch 10/100\n",
      "60000/60000 [==============================] - 4s 74us/sample - loss: 0.2364 - accuracy: 0.9133 - val_loss: 0.3370 - val_accuracy: 0.8800\n",
      "Epoch 11/100\n",
      "60000/60000 [==============================] - 4s 73us/sample - loss: 0.2286 - accuracy: 0.9147 - val_loss: 0.3422 - val_accuracy: 0.8818\n",
      "Epoch 12/100\n",
      "60000/60000 [==============================] - 4s 73us/sample - loss: 0.2234 - accuracy: 0.9161 - val_loss: 0.3551 - val_accuracy: 0.8812\n",
      "Epoch 13/100\n",
      "60000/60000 [==============================] - 4s 73us/sample - loss: 0.2155 - accuracy: 0.9194 - val_loss: 0.3365 - val_accuracy: 0.8858\n",
      "Epoch 14/100\n",
      "60000/60000 [==============================] - 4s 73us/sample - loss: 0.2096 - accuracy: 0.9222 - val_loss: 0.3568 - val_accuracy: 0.8840\n",
      "Train on 60000 samples, validate on 5000 samples\n",
      "Epoch 1/100\n",
      "60000/60000 [==============================] - 3s 58us/sample - loss: 0.5982 - accuracy: 0.7975 - val_loss: 0.5208 - val_accuracy: 0.8214\n",
      "Epoch 2/100\n",
      "60000/60000 [==============================] - 4s 64us/sample - loss: 0.4619 - accuracy: 0.8433 - val_loss: 0.4645 - val_accuracy: 0.8432\n",
      "Epoch 3/100\n",
      "60000/60000 [==============================] - 3s 53us/sample - loss: 0.4357 - accuracy: 0.8514 - val_loss: 0.4540 - val_accuracy: 0.8464\n",
      "Epoch 4/100\n",
      "60000/60000 [==============================] - 3s 52us/sample - loss: 0.4209 - accuracy: 0.8552 - val_loss: 0.4528 - val_accuracy: 0.8464\n",
      "Epoch 5/100\n",
      "60000/60000 [==============================] - 3s 52us/sample - loss: 0.4130 - accuracy: 0.8576 - val_loss: 0.4445 - val_accuracy: 0.8492\n",
      "Epoch 6/100\n",
      "60000/60000 [==============================] - 3s 53us/sample - loss: 0.4080 - accuracy: 0.8586 - val_loss: 0.4371 - val_accuracy: 0.8492\n",
      "Epoch 7/100\n",
      "60000/60000 [==============================] - 3s 57us/sample - loss: 0.4018 - accuracy: 0.8603 - val_loss: 0.4466 - val_accuracy: 0.8470\n",
      "Epoch 8/100\n",
      "60000/60000 [==============================] - 3s 52us/sample - loss: 0.3975 - accuracy: 0.8614 - val_loss: 0.4372 - val_accuracy: 0.8488\n",
      "Epoch 9/100\n",
      "60000/60000 [==============================] - 3s 52us/sample - loss: 0.3932 - accuracy: 0.8626 - val_loss: 0.4521 - val_accuracy: 0.8402\n",
      "Epoch 10/100\n",
      "60000/60000 [==============================] - 3s 52us/sample - loss: 0.3919 - accuracy: 0.8634 - val_loss: 0.4460 - val_accuracy: 0.8458\n",
      "Epoch 11/100\n",
      "60000/60000 [==============================] - 4s 72us/sample - loss: 0.3896 - accuracy: 0.8641 - val_loss: 0.4419 - val_accuracy: 0.8462\n",
      "Train on 60000 samples, validate on 5000 samples\n",
      "Epoch 1/100\n",
      "60000/60000 [==============================] - 8s 138us/sample - loss: 0.4749 - accuracy: 0.8287 - val_loss: 0.4192 - val_accuracy: 0.8434\n",
      "Epoch 2/100\n",
      "60000/60000 [==============================] - 9s 145us/sample - loss: 0.3592 - accuracy: 0.8672 - val_loss: 0.3856 - val_accuracy: 0.8656\n",
      "Epoch 3/100\n",
      "60000/60000 [==============================] - 8s 138us/sample - loss: 0.3196 - accuracy: 0.8814 - val_loss: 0.3804 - val_accuracy: 0.8638\n",
      "Epoch 4/100\n",
      "60000/60000 [==============================] - 8s 132us/sample - loss: 0.2985 - accuracy: 0.8885 - val_loss: 0.3971 - val_accuracy: 0.8632\n",
      "Epoch 5/100\n",
      "60000/60000 [==============================] - 7s 122us/sample - loss: 0.2794 - accuracy: 0.8955 - val_loss: 0.3492 - val_accuracy: 0.8736\n",
      "Epoch 6/100\n",
      "60000/60000 [==============================] - 7s 122us/sample - loss: 0.2669 - accuracy: 0.8997 - val_loss: 0.3398 - val_accuracy: 0.8832\n",
      "Epoch 7/100\n",
      "60000/60000 [==============================] - 7s 118us/sample - loss: 0.2524 - accuracy: 0.9062 - val_loss: 0.3609 - val_accuracy: 0.8772\n",
      "Epoch 8/100\n",
      "60000/60000 [==============================] - 8s 139us/sample - loss: 0.2409 - accuracy: 0.9086 - val_loss: 0.3367 - val_accuracy: 0.8806\n",
      "Epoch 9/100\n",
      "60000/60000 [==============================] - 11s 177us/sample - loss: 0.2327 - accuracy: 0.9123 - val_loss: 0.3339 - val_accuracy: 0.8822\n",
      "Epoch 10/100\n",
      "60000/60000 [==============================] - 10s 173us/sample - loss: 0.2246 - accuracy: 0.9148 - val_loss: 0.3372 - val_accuracy: 0.8842\n",
      "Epoch 11/100\n",
      "60000/60000 [==============================] - 8s 141us/sample - loss: 0.2140 - accuracy: 0.9174 - val_loss: 0.3254 - val_accuracy: 0.8886\n",
      "Epoch 12/100\n",
      "60000/60000 [==============================] - 9s 153us/sample - loss: 0.2084 - accuracy: 0.9202 - val_loss: 0.3554 - val_accuracy: 0.8828\n",
      "Epoch 13/100\n",
      "60000/60000 [==============================] - 8s 136us/sample - loss: 0.1998 - accuracy: 0.9233 - val_loss: 0.3467 - val_accuracy: 0.8880\n",
      "Epoch 14/100\n",
      "60000/60000 [==============================] - 7s 120us/sample - loss: 0.1926 - accuracy: 0.9263 - val_loss: 0.3326 - val_accuracy: 0.8914\n",
      "Epoch 15/100\n",
      "60000/60000 [==============================] - 8s 130us/sample - loss: 0.1851 - accuracy: 0.9287 - val_loss: 0.3578 - val_accuracy: 0.8856\n",
      "Epoch 16/100\n",
      "60000/60000 [==============================] - 8s 136us/sample - loss: 0.1780 - accuracy: 0.9313 - val_loss: 0.3557 - val_accuracy: 0.8890\n",
      "Train on 60000 samples, validate on 5000 samples\n",
      "Epoch 1/100\n",
      "60000/60000 [==============================] - 59s 975us/sample - loss: 0.3735 - accuracy: 0.8653 - val_loss: 0.3269 - val_accuracy: 0.8826\n",
      "Epoch 2/100\n",
      "60000/60000 [==============================] - 54s 900us/sample - loss: 0.2477 - accuracy: 0.9090 - val_loss: 0.2813 - val_accuracy: 0.8984\n",
      "Epoch 3/100\n",
      "60000/60000 [==============================] - 54s 904us/sample - loss: 0.1899 - accuracy: 0.9297 - val_loss: 0.2859 - val_accuracy: 0.8960\n",
      "Epoch 4/100\n",
      "60000/60000 [==============================] - 58s 971us/sample - loss: 0.1485 - accuracy: 0.9451 - val_loss: 0.2972 - val_accuracy: 0.9046\n",
      "Epoch 5/100\n",
      "60000/60000 [==============================] - 59s 992us/sample - loss: 0.1136 - accuracy: 0.9582 - val_loss: 0.3182 - val_accuracy: 0.9084\n",
      "Epoch 6/100\n",
      "60000/60000 [==============================] - 55s 923us/sample - loss: 0.0858 - accuracy: 0.9686 - val_loss: 0.3728 - val_accuracy: 0.8994\n",
      "Epoch 7/100\n",
      "60000/60000 [==============================] - 53s 875us/sample - loss: 0.0658 - accuracy: 0.9762 - val_loss: 0.3974 - val_accuracy: 0.9062\n",
      "Train on 60000 samples, validate on 5000 samples\n",
      "Epoch 1/100\n",
      "60000/60000 [==============================] - 18s 298us/sample - loss: 0.4039 - accuracy: 0.8570 - val_loss: 0.3463 - val_accuracy: 0.8820\n",
      "Epoch 2/100\n",
      "60000/60000 [==============================] - 18s 299us/sample - loss: 0.2898 - accuracy: 0.8966 - val_loss: 0.3142 - val_accuracy: 0.8878\n",
      "Epoch 3/100\n",
      "60000/60000 [==============================] - 18s 294us/sample - loss: 0.2513 - accuracy: 0.9095 - val_loss: 0.3098 - val_accuracy: 0.8892\n",
      "Epoch 4/100\n",
      "60000/60000 [==============================] - 18s 307us/sample - loss: 0.2237 - accuracy: 0.9195 - val_loss: 0.3138 - val_accuracy: 0.8928\n",
      "Epoch 5/100\n",
      "60000/60000 [==============================] - 18s 307us/sample - loss: 0.2000 - accuracy: 0.9280 - val_loss: 0.2990 - val_accuracy: 0.8968\n",
      "Epoch 6/100\n",
      "60000/60000 [==============================] - 17s 283us/sample - loss: 0.1800 - accuracy: 0.9355 - val_loss: 0.3143 - val_accuracy: 0.8944\n",
      "Epoch 7/100\n",
      "60000/60000 [==============================] - 18s 299us/sample - loss: 0.1628 - accuracy: 0.9419 - val_loss: 0.3313 - val_accuracy: 0.8920\n",
      "Epoch 8/100\n",
      "60000/60000 [==============================] - 17s 290us/sample - loss: 0.1488 - accuracy: 0.9473 - val_loss: 0.3237 - val_accuracy: 0.8956\n",
      "Epoch 9/100\n",
      "60000/60000 [==============================] - 18s 308us/sample - loss: 0.1359 - accuracy: 0.9518 - val_loss: 0.3271 - val_accuracy: 0.8980\n",
      "Epoch 10/100\n",
      "60000/60000 [==============================] - 18s 297us/sample - loss: 0.1246 - accuracy: 0.9553 - val_loss: 0.3589 - val_accuracy: 0.8906\n",
      "Train on 60000 samples, validate on 5000 samples\n",
      "Epoch 1/100\n",
      "60000/60000 [==============================] - 169s 3ms/sample - loss: 0.3717 - accuracy: 0.8647 - val_loss: 0.3160 - val_accuracy: 0.8796\n",
      "Epoch 2/100\n",
      "60000/60000 [==============================] - 164s 3ms/sample - loss: 0.2375 - accuracy: 0.9121 - val_loss: 0.3101 - val_accuracy: 0.8880\n",
      "Epoch 3/100\n",
      "60000/60000 [==============================] - 152s 3ms/sample - loss: 0.1770 - accuracy: 0.9335 - val_loss: 0.2926 - val_accuracy: 0.9050\n",
      "Epoch 4/100\n",
      "60000/60000 [==============================] - 150s 2ms/sample - loss: 0.1316 - accuracy: 0.9514 - val_loss: 0.3211 - val_accuracy: 0.9030\n",
      "Epoch 5/100\n",
      "60000/60000 [==============================] - 151s 3ms/sample - loss: 0.0953 - accuracy: 0.9650 - val_loss: 0.3756 - val_accuracy: 0.9028\n",
      "Epoch 6/100\n",
      "60000/60000 [==============================] - 163s 3ms/sample - loss: 0.0695 - accuracy: 0.9734 - val_loss: 0.3984 - val_accuracy: 0.9050\n",
      "Epoch 7/100\n",
      "60000/60000 [==============================] - 172s 3ms/sample - loss: 0.0512 - accuracy: 0.9813 - val_loss: 0.4745 - val_accuracy: 0.8988\n",
      "Epoch 8/100\n",
      "60000/60000 [==============================] - 171s 3ms/sample - loss: 0.0387 - accuracy: 0.9862 - val_loss: 0.5636 - val_accuracy: 0.8972\n",
      "Train on 60000 samples, validate on 5000 samples\n",
      "Epoch 1/100\n",
      "60000/60000 [==============================] - 55s 919us/sample - loss: 0.6387 - accuracy: 0.7714 - val_loss: 0.5353 - val_accuracy: 0.8068\n",
      "Epoch 2/100\n",
      "60000/60000 [==============================] - 55s 923us/sample - loss: 0.4686 - accuracy: 0.8320 - val_loss: 0.4563 - val_accuracy: 0.8420\n",
      "Epoch 3/100\n",
      "60000/60000 [==============================] - 56s 929us/sample - loss: 0.4289 - accuracy: 0.8460 - val_loss: 0.4274 - val_accuracy: 0.8504\n",
      "Epoch 4/100\n",
      "60000/60000 [==============================] - 56s 936us/sample - loss: 0.4040 - accuracy: 0.8550 - val_loss: 0.4161 - val_accuracy: 0.8518\n",
      "Epoch 5/100\n",
      "60000/60000 [==============================] - 59s 978us/sample - loss: 0.3847 - accuracy: 0.8604 - val_loss: 0.4167 - val_accuracy: 0.8510\n",
      "Epoch 6/100\n",
      "60000/60000 [==============================] - 56s 942us/sample - loss: 0.3705 - accuracy: 0.8647 - val_loss: 0.4132 - val_accuracy: 0.8560\n",
      "Epoch 7/100\n",
      "60000/60000 [==============================] - 56s 929us/sample - loss: 0.3579 - accuracy: 0.8687 - val_loss: 0.3901 - val_accuracy: 0.8616\n",
      "Epoch 8/100\n",
      "60000/60000 [==============================] - 57s 953us/sample - loss: 0.3454 - accuracy: 0.8740 - val_loss: 0.3893 - val_accuracy: 0.8586\n",
      "Epoch 9/100\n",
      "60000/60000 [==============================] - 58s 962us/sample - loss: 0.3381 - accuracy: 0.8752 - val_loss: 0.3804 - val_accuracy: 0.8670\n",
      "Epoch 10/100\n",
      "60000/60000 [==============================] - 59s 977us/sample - loss: 0.3282 - accuracy: 0.8794 - val_loss: 0.3791 - val_accuracy: 0.8656\n",
      "Epoch 11/100\n",
      "60000/60000 [==============================] - 57s 950us/sample - loss: 0.3207 - accuracy: 0.8828 - val_loss: 0.3649 - val_accuracy: 0.8692\n",
      "Epoch 12/100\n",
      "60000/60000 [==============================] - 56s 937us/sample - loss: 0.3151 - accuracy: 0.8846 - val_loss: 0.4060 - val_accuracy: 0.8486\n",
      "Epoch 13/100\n",
      "60000/60000 [==============================] - 57s 953us/sample - loss: 0.3085 - accuracy: 0.8857 - val_loss: 0.3619 - val_accuracy: 0.8692\n",
      "Epoch 14/100\n",
      "60000/60000 [==============================] - 57s 948us/sample - loss: 0.3051 - accuracy: 0.8878 - val_loss: 0.3609 - val_accuracy: 0.8740\n",
      "Epoch 15/100\n",
      "60000/60000 [==============================] - 57s 953us/sample - loss: 0.2996 - accuracy: 0.8891 - val_loss: 0.3566 - val_accuracy: 0.8720\n",
      "Epoch 16/100\n",
      "60000/60000 [==============================] - 57s 953us/sample - loss: 0.2928 - accuracy: 0.8922 - val_loss: 0.3854 - val_accuracy: 0.8612\n",
      "Epoch 17/100\n",
      "60000/60000 [==============================] - 57s 952us/sample - loss: 0.2903 - accuracy: 0.8935 - val_loss: 0.3684 - val_accuracy: 0.8682\n",
      "Epoch 18/100\n",
      "60000/60000 [==============================] - 58s 963us/sample - loss: 0.2857 - accuracy: 0.8944 - val_loss: 0.3551 - val_accuracy: 0.8736\n",
      "Epoch 19/100\n",
      "60000/60000 [==============================] - 57s 948us/sample - loss: 0.2818 - accuracy: 0.8958 - val_loss: 0.3619 - val_accuracy: 0.8706\n",
      "Epoch 20/100\n",
      "60000/60000 [==============================] - 57s 953us/sample - loss: 0.2771 - accuracy: 0.8971 - val_loss: 0.3543 - val_accuracy: 0.8726\n",
      "Epoch 21/100\n",
      "60000/60000 [==============================] - 57s 956us/sample - loss: 0.2742 - accuracy: 0.8990 - val_loss: 0.3764 - val_accuracy: 0.8678\n",
      "Epoch 22/100\n",
      "60000/60000 [==============================] - 57s 948us/sample - loss: 0.2703 - accuracy: 0.9006 - val_loss: 0.3665 - val_accuracy: 0.8690\n",
      "Epoch 23/100\n",
      "60000/60000 [==============================] - 58s 962us/sample - loss: 0.2675 - accuracy: 0.9026 - val_loss: 0.3595 - val_accuracy: 0.8750\n",
      "Epoch 24/100\n",
      "60000/60000 [==============================] - 57s 952us/sample - loss: 0.2638 - accuracy: 0.9028 - val_loss: 0.3594 - val_accuracy: 0.8724\n",
      "Epoch 25/100\n",
      "60000/60000 [==============================] - 58s 961us/sample - loss: 0.2612 - accuracy: 0.9029 - val_loss: 0.3598 - val_accuracy: 0.8732\n",
      "Train on 60000 samples, validate on 5000 samples\n",
      "Epoch 1/100\n",
      "60000/60000 [==============================] - 214s 4ms/sample - loss: 0.4982 - accuracy: 0.8229 - val_loss: 0.3917 - val_accuracy: 0.8654\n",
      "Epoch 2/100\n",
      "60000/60000 [==============================] - 198s 3ms/sample - loss: 0.3469 - accuracy: 0.8763 - val_loss: 0.3466 - val_accuracy: 0.8812\n",
      "Epoch 3/100\n",
      "60000/60000 [==============================] - 181s 3ms/sample - loss: 0.3028 - accuracy: 0.8899 - val_loss: 0.3373 - val_accuracy: 0.8836\n",
      "Epoch 4/100\n",
      "60000/60000 [==============================] - 180s 3ms/sample - loss: 0.2762 - accuracy: 0.8991 - val_loss: 0.3299 - val_accuracy: 0.8852\n",
      "Epoch 5/100\n",
      "60000/60000 [==============================] - 181s 3ms/sample - loss: 0.2529 - accuracy: 0.9071 - val_loss: 0.3306 - val_accuracy: 0.8822\n",
      "Epoch 6/100\n",
      "60000/60000 [==============================] - 180s 3ms/sample - loss: 0.2348 - accuracy: 0.9120 - val_loss: 0.3280 - val_accuracy: 0.8856\n",
      "Epoch 7/100\n",
      "60000/60000 [==============================] - 180s 3ms/sample - loss: 0.2173 - accuracy: 0.9182 - val_loss: 0.3188 - val_accuracy: 0.8926\n",
      "Epoch 8/100\n",
      "60000/60000 [==============================] - 181s 3ms/sample - loss: 0.2037 - accuracy: 0.9234 - val_loss: 0.3280 - val_accuracy: 0.8914\n",
      "Epoch 9/100\n",
      "60000/60000 [==============================] - 180s 3ms/sample - loss: 0.1894 - accuracy: 0.9288 - val_loss: 0.3116 - val_accuracy: 0.8990\n",
      "Epoch 10/100\n",
      "60000/60000 [==============================] - 180s 3ms/sample - loss: 0.1763 - accuracy: 0.9329 - val_loss: 0.3229 - val_accuracy: 0.8932\n",
      "Epoch 11/100\n",
      "60000/60000 [==============================] - 181s 3ms/sample - loss: 0.1637 - accuracy: 0.9382 - val_loss: 0.3344 - val_accuracy: 0.8938\n",
      "Epoch 12/100\n",
      "60000/60000 [==============================] - 180s 3ms/sample - loss: 0.1536 - accuracy: 0.9413 - val_loss: 0.3397 - val_accuracy: 0.8940\n",
      "Epoch 13/100\n",
      "60000/60000 [==============================] - 184s 3ms/sample - loss: 0.1422 - accuracy: 0.9463 - val_loss: 0.3412 - val_accuracy: 0.8962\n",
      "Epoch 14/100\n",
      "60000/60000 [==============================] - 185s 3ms/sample - loss: 0.1312 - accuracy: 0.9507 - val_loss: 0.3444 - val_accuracy: 0.8994\n",
      "Train on 60000 samples, validate on 5000 samples\n"
     ]
    },
    {
     "name": "stdout",
     "output_type": "stream",
     "text": [
      "Epoch 1/100\n",
      "60000/60000 [==============================] - 80s 1ms/sample - loss: 0.7949 - accuracy: 0.7114 - val_loss: 0.6264 - val_accuracy: 0.7654\n",
      "Epoch 2/100\n",
      "60000/60000 [==============================] - 78s 1ms/sample - loss: 0.5587 - accuracy: 0.7955 - val_loss: 0.5628 - val_accuracy: 0.7944\n",
      "Epoch 3/100\n",
      "60000/60000 [==============================] - 78s 1ms/sample - loss: 0.5157 - accuracy: 0.8144 - val_loss: 0.5139 - val_accuracy: 0.8190\n",
      "Epoch 4/100\n",
      "60000/60000 [==============================] - 78s 1ms/sample - loss: 0.4892 - accuracy: 0.8257 - val_loss: 0.5255 - val_accuracy: 0.8124\n",
      "Epoch 5/100\n",
      "60000/60000 [==============================] - 78s 1ms/sample - loss: 0.4727 - accuracy: 0.8318 - val_loss: 0.4756 - val_accuracy: 0.8310\n",
      "Epoch 6/100\n",
      "60000/60000 [==============================] - 78s 1ms/sample - loss: 0.4604 - accuracy: 0.8356 - val_loss: 0.5098 - val_accuracy: 0.8158\n",
      "Epoch 7/100\n",
      "60000/60000 [==============================] - 79s 1ms/sample - loss: 0.4482 - accuracy: 0.8393 - val_loss: 0.4715 - val_accuracy: 0.8316\n",
      "Epoch 8/100\n",
      "60000/60000 [==============================] - 79s 1ms/sample - loss: 0.4380 - accuracy: 0.8414 - val_loss: 0.4632 - val_accuracy: 0.8326\n",
      "Epoch 9/100\n",
      "60000/60000 [==============================] - 79s 1ms/sample - loss: 0.4318 - accuracy: 0.8449 - val_loss: 0.4649 - val_accuracy: 0.8382\n",
      "Epoch 10/100\n",
      "60000/60000 [==============================] - 78s 1ms/sample - loss: 0.4221 - accuracy: 0.8478 - val_loss: 0.4504 - val_accuracy: 0.8400\n",
      "Epoch 11/100\n",
      "60000/60000 [==============================] - 78s 1ms/sample - loss: 0.4168 - accuracy: 0.8495 - val_loss: 0.4456 - val_accuracy: 0.8446\n",
      "Epoch 12/100\n",
      "60000/60000 [==============================] - 79s 1ms/sample - loss: 0.4098 - accuracy: 0.8511 - val_loss: 0.4388 - val_accuracy: 0.8438\n",
      "Epoch 13/100\n",
      "60000/60000 [==============================] - 78s 1ms/sample - loss: 0.4059 - accuracy: 0.8520 - val_loss: 0.4636 - val_accuracy: 0.8252\n",
      "Epoch 14/100\n",
      "60000/60000 [==============================] - 78s 1ms/sample - loss: 0.3992 - accuracy: 0.8557 - val_loss: 0.4306 - val_accuracy: 0.8446\n",
      "Epoch 15/100\n",
      "60000/60000 [==============================] - 78s 1ms/sample - loss: 0.3936 - accuracy: 0.8578 - val_loss: 0.4312 - val_accuracy: 0.8436\n",
      "Epoch 16/100\n",
      "60000/60000 [==============================] - 78s 1ms/sample - loss: 0.3891 - accuracy: 0.8584 - val_loss: 0.4297 - val_accuracy: 0.8454\n",
      "Epoch 17/100\n",
      "60000/60000 [==============================] - 79s 1ms/sample - loss: 0.3845 - accuracy: 0.8606 - val_loss: 0.4327 - val_accuracy: 0.8444\n",
      "Epoch 18/100\n",
      "60000/60000 [==============================] - 78s 1ms/sample - loss: 0.3817 - accuracy: 0.8608 - val_loss: 0.4228 - val_accuracy: 0.8530\n",
      "Epoch 19/100\n",
      "60000/60000 [==============================] - 78s 1ms/sample - loss: 0.3766 - accuracy: 0.8631 - val_loss: 0.4213 - val_accuracy: 0.8494\n",
      "Epoch 20/100\n",
      "60000/60000 [==============================] - 78s 1ms/sample - loss: 0.3744 - accuracy: 0.8613 - val_loss: 0.4326 - val_accuracy: 0.8452\n",
      "Epoch 21/100\n",
      "60000/60000 [==============================] - 78s 1ms/sample - loss: 0.3703 - accuracy: 0.8642 - val_loss: 0.4130 - val_accuracy: 0.8504\n",
      "Epoch 22/100\n",
      "60000/60000 [==============================] - 78s 1ms/sample - loss: 0.3648 - accuracy: 0.8670 - val_loss: 0.4205 - val_accuracy: 0.8500\n",
      "Epoch 23/100\n",
      "60000/60000 [==============================] - 79s 1ms/sample - loss: 0.3647 - accuracy: 0.8672 - val_loss: 0.4136 - val_accuracy: 0.8554\n",
      "Epoch 24/100\n",
      "60000/60000 [==============================] - 78s 1ms/sample - loss: 0.3616 - accuracy: 0.8684 - val_loss: 0.4242 - val_accuracy: 0.8430\n",
      "Epoch 25/100\n",
      "60000/60000 [==============================] - 78s 1ms/sample - loss: 0.3579 - accuracy: 0.8677 - val_loss: 0.4188 - val_accuracy: 0.8492\n",
      "Epoch 26/100\n",
      "60000/60000 [==============================] - 78s 1ms/sample - loss: 0.3561 - accuracy: 0.8688 - val_loss: 0.4312 - val_accuracy: 0.8456\n"
     ]
    }
   ],
   "source": [
    "date_of_training = datetime.datetime.now().strftime(\"%Y%m%d-%H%M%S\");\n",
    "for model_type in models:\n",
    "    for name, model in model_type:\n",
    "        log_dir=\"logs/fit/\" + name + \"/\" + date_of_training\n",
    "        tensorboard_callback = tf.keras.callbacks.TensorBoard(log_dir=log_dir, histogram_freq=1)\n",
    "        model.fit(\n",
    "            train_images,\n",
    "            train_labels,\n",
    "            epochs=100,\n",
    "            shuffle=True,\n",
    "            validation_data=(test_images[:half_validate], test_labels[:half_validate]),\n",
    "            callbacks=[\n",
    "                keras.callbacks.EarlyStopping(\n",
    "                    patience=5,\n",
    "                    restore_best_weights=True,\n",
    "                ),\n",
    "                tensorboard_callback\n",
    "            ]\n",
    "        )\n",
    "#     models[i][j].fit(\n",
    "#         train[train_ids], labels[train_ids],\n",
    "#         32,\n",
    "#         epochs=100,\n",
    "#         shuffle=True,\n",
    "#         validation_data=(\n",
    "#             train[test_ids][:half_validate], labels[test_ids][:half_validate],\n",
    "#         ),\n",
    "#         callbacks=[\n",
    "#             keras.callbacks.EarlyStopping(\n",
    "#                 patience=5,\n",
    "#                 restore_best_weights=True,\n",
    "#             ),\n",
    "#             PlotLosses(),\n",
    "#         ],\n",
    "#     )        "
   ]
  },
  {
   "cell_type": "code",
   "execution_count": 174,
   "metadata": {
    "pycharm": {
     "name": "#%%\n"
    }
   },
   "outputs": [],
   "source": [
    "results = [\n",
    "    [\n",
    "        model.evaluate(\n",
    "            test_images[half_validate:],\n",
    "            test_labels[half_validate:],\n",
    "            verbose=0,\n",
    "        ) for _, model in model_type\n",
    "    ] for model_type in models\n",
    "]"
   ]
  },
  {
   "cell_type": "code",
   "execution_count": 175,
   "metadata": {
    "pycharm": {
     "name": "#%%\n"
    }
   },
   "outputs": [],
   "source": [
    "results = [[idx2[1] for idx2 in idx] for idx in results]"
   ]
  },
  {
   "cell_type": "code",
   "execution_count": 176,
   "metadata": {
    "pycharm": {
     "name": "#%%\n"
    }
   },
   "outputs": [],
   "source": [
    "results = np.array(results)"
   ]
  },
  {
   "cell_type": "code",
   "execution_count": 181,
   "metadata": {},
   "outputs": [
    {
     "data": {
      "text/plain": [
       "array([[0.8828, 0.8398, 0.8946],\n",
       "       [0.9052, 0.903 , 0.9102],\n",
       "       [0.8762, 0.899 , 0.8548]], dtype=float32)"
      ]
     },
     "execution_count": 181,
     "metadata": {},
     "output_type": "execute_result"
    }
   ],
   "source": [
    "results"
   ]
  },
  {
   "cell_type": "code",
   "execution_count": 183,
   "metadata": {},
   "outputs": [],
   "source": [
    "with open(\"output/resultMnist.output\", 'w+') as file:\n",
    "    file.writelines([str(results.shape).lstrip(\"(\").rstrip(\")\") + \"\\n\"])\n",
    "    np.savetxt(file, results.reshape(-1, 1))"
   ]
  },
  {
   "cell_type": "code",
   "execution_count": 9,
   "metadata": {},
   "outputs": [],
   "source": [
    "file = open(\"output/resultMnist.output\", \"r\")"
   ]
  },
  {
   "cell_type": "code",
   "execution_count": 10,
   "metadata": {},
   "outputs": [],
   "source": [
    "shape = tuple(map(int, file.readline().rstrip().split(\",\")))"
   ]
  },
  {
   "cell_type": "code",
   "execution_count": 11,
   "metadata": {},
   "outputs": [
    {
     "data": {
      "text/plain": [
       "(3, 3)"
      ]
     },
     "execution_count": 11,
     "metadata": {},
     "output_type": "execute_result"
    }
   ],
   "source": [
    "shape"
   ]
  },
  {
   "cell_type": "code",
   "execution_count": 12,
   "metadata": {},
   "outputs": [],
   "source": [
    "dim_of_interest = 0"
   ]
  },
  {
   "cell_type": "code",
   "execution_count": 13,
   "metadata": {},
   "outputs": [],
   "source": [
    "data = np.genfromtxt(StringIO(file.read()))"
   ]
  },
  {
   "cell_type": "code",
   "execution_count": 14,
   "metadata": {},
   "outputs": [],
   "source": [
    "data = data.reshape(shape)"
   ]
  },
  {
   "cell_type": "code",
   "execution_count": 15,
   "metadata": {},
   "outputs": [
    {
     "data": {
      "text/plain": [
       "array([[0.88279998, 0.8398    , 0.89459997],\n",
       "       [0.9052    , 0.903     , 0.9102    ],\n",
       "       [0.87620002, 0.89899999, 0.85479999]])"
      ]
     },
     "execution_count": 15,
     "metadata": {},
     "output_type": "execute_result"
    }
   ],
   "source": [
    "data"
   ]
  },
  {
   "cell_type": "code",
   "execution_count": 16,
   "metadata": {},
   "outputs": [],
   "source": [
    "dimension_meaning = [\"Layers before\", \"Random layer size\", \"Number of random layers\", \"Layers after\"]"
   ]
  },
  {
   "cell_type": "code",
   "execution_count": 17,
   "metadata": {},
   "outputs": [],
   "source": [
    "values = [\n",
    "    [\"Dense\", \"Conv\", \"Random layers\"],\n",
    "    [\"11\"]\n",
    "]"
   ]
  },
  {
   "cell_type": "code",
   "execution_count": 22,
   "metadata": {},
   "outputs": [
    {
     "ename": "SyntaxError",
     "evalue": "invalid syntax (<ipython-input-22-9938d5336f87>, line 4)",
     "output_type": "error",
     "traceback": [
      "\u001b[0;36m  File \u001b[0;32m\"<ipython-input-22-9938d5336f87>\"\u001b[0;36m, line \u001b[0;32m4\u001b[0m\n\u001b[0;31m    import plotter\u001b[0m\n\u001b[0m         ^\u001b[0m\n\u001b[0;31mSyntaxError\u001b[0m\u001b[0;31m:\u001b[0m invalid syntax\n"
     ]
    }
   ],
   "source": [
    "import sys, os\n",
    "sys.path.append(os.path.abspath(\"../../plots/\"))\n",
    "import plotter"
   ]
  },
  {
   "cell_type": "code",
   "execution_count": 20,
   "metadata": {},
   "outputs": [
    {
     "data": {
      "image/png": "[encoded data removed]",
      "text/plain": [
       "<Figure size 1152x648 with 1 Axes>"
      ]
     },
     "metadata": {
      "needs_background": "light"
     },
     "output_type": "display_data"
    }
   ],
   "source": [
    "plotter.plot_marginals(\n",
    "    data,\n",
    "    dimension_meaning,\n",
    "    values,\n",
    "    0\n",
    ")"
   ]
  },
  {
   "cell_type": "code",
   "execution_count": null,
   "metadata": {},
   "outputs": [],
   "source": []
  },
  {
   "cell_type": "code",
   "execution_count": null,
   "metadata": {},
   "outputs": [],
   "source": []
  }
 ],
 "metadata": {
  "kernelspec": {
   "display_name": "Python (myenv)",
   "language": "python",
   "name": "myenv"
  },
  "language_info": {
   "codemirror_mode": {
    "name": "ipython",
    "version": 3
   },
   "file_extension": ".py",
   "mimetype": "text/x-python",
   "name": "python",
   "nbconvert_exporter": "python",
   "pygments_lexer": "ipython3",
   "version": "3.7.4"
  },
  "pycharm": {
   "stem_cell": {
    "cell_type": "raw",
    "metadata": {
     "collapsed": false
    },
    "source": []
   }
  }
 },
 "nbformat": 4,
 "nbformat_minor": 2
}
