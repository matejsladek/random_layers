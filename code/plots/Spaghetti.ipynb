{
 "cells": [
  {
   "cell_type": "code",
   "execution_count": 1,
   "metadata": {
    "scrolled": true
   },
   "outputs": [
    {
     "name": "stderr",
     "output_type": "stream",
     "text": [
      "Loading required package: ggplot2\n",
      "\n",
      "Loading required package: ggvis\n",
      "\n",
      "Warning message in library(package, lib.loc = lib.loc, character.only = TRUE, logical.return = TRUE, :\n",
      "“there is no package called ‘ggvis’”\n",
      "Loading required package: gridExtra\n",
      "\n"
     ]
    }
   ],
   "source": [
    "require(ggplot2)\n",
    "require(ggvis)\n",
    "require(gridExtra)"
   ]
  },
  {
   "cell_type": "code",
   "execution_count": 2,
   "metadata": {},
   "outputs": [],
   "source": [
    "options(jupyter.plot_mimetypes = 'image/png')"
   ]
  },
  {
   "cell_type": "code",
   "execution_count": 3,
   "metadata": {},
   "outputs": [],
   "source": [
    "fake_data <- sapply(c(3, 4, 5), function (x) rnorm(10, x))"
   ]
  },
  {
   "cell_type": "code",
   "execution_count": 4,
   "metadata": {},
   "outputs": [],
   "source": [
    "fake_data_frame = data.frame(fake_data)"
   ]
  },
  {
   "cell_type": "code",
   "execution_count": 5,
   "metadata": {},
   "outputs": [],
   "source": [
    "fake_data_frame[\"model_id\"] <- rownames(fake_data_frame)"
   ]
  },
  {
   "cell_type": "code",
   "execution_count": 6,
   "metadata": {},
   "outputs": [
    {
     "data": {
      "text/html": [
       "<table>\n",
       "<caption>A data.frame: 10 × 4</caption>\n",
       "<thead>\n",
       "\t<tr><th scope=col>X1</th><th scope=col>X2</th><th scope=col>X3</th><th scope=col>model_id</th></tr>\n",
       "\t<tr><th scope=col>&lt;dbl&gt;</th><th scope=col>&lt;dbl&gt;</th><th scope=col>&lt;dbl&gt;</th><th scope=col>&lt;chr&gt;</th></tr>\n",
       "</thead>\n",
       "<tbody>\n",
       "\t<tr><td>0.2871691</td><td>3.509800</td><td>4.197031</td><td>1 </td></tr>\n",
       "\t<tr><td>3.0184325</td><td>2.904180</td><td>3.191550</td><td>2 </td></tr>\n",
       "\t<tr><td>2.9463256</td><td>2.140136</td><td>6.621672</td><td>3 </td></tr>\n",
       "\t<tr><td>4.6330963</td><td>2.300311</td><td>4.269229</td><td>4 </td></tr>\n",
       "\t<tr><td>2.3674430</td><td>5.582902</td><td>7.150849</td><td>5 </td></tr>\n",
       "\t<tr><td>4.1599826</td><td>4.522359</td><td>5.192299</td><td>6 </td></tr>\n",
       "\t<tr><td>2.7656976</td><td>3.778295</td><td>5.297450</td><td>7 </td></tr>\n",
       "\t<tr><td>4.2733294</td><td>2.743307</td><td>5.655653</td><td>8 </td></tr>\n",
       "\t<tr><td>2.7663767</td><td>3.530483</td><td>4.659773</td><td>9 </td></tr>\n",
       "\t<tr><td>2.5983542</td><td>4.525126</td><td>4.756867</td><td>10</td></tr>\n",
       "</tbody>\n",
       "</table>\n"
      ],
      "text/latex": [
       "A data.frame: 10 × 4\n",
       "\\begin{tabular}{llll}\n",
       " X1 & X2 & X3 & model\\_id\\\\\n",
       " <dbl> & <dbl> & <dbl> & <chr>\\\\\n",
       "\\hline\n",
       "\t 0.2871691 & 3.509800 & 4.197031 & 1 \\\\\n",
       "\t 3.0184325 & 2.904180 & 3.191550 & 2 \\\\\n",
       "\t 2.9463256 & 2.140136 & 6.621672 & 3 \\\\\n",
       "\t 4.6330963 & 2.300311 & 4.269229 & 4 \\\\\n",
       "\t 2.3674430 & 5.582902 & 7.150849 & 5 \\\\\n",
       "\t 4.1599826 & 4.522359 & 5.192299 & 6 \\\\\n",
       "\t 2.7656976 & 3.778295 & 5.297450 & 7 \\\\\n",
       "\t 4.2733294 & 2.743307 & 5.655653 & 8 \\\\\n",
       "\t 2.7663767 & 3.530483 & 4.659773 & 9 \\\\\n",
       "\t 2.5983542 & 4.525126 & 4.756867 & 10\\\\\n",
       "\\end{tabular}\n"
      ],
      "text/markdown": [
       "\n",
       "A data.frame: 10 × 4\n",
       "\n",
       "| X1 &lt;dbl&gt; | X2 &lt;dbl&gt; | X3 &lt;dbl&gt; | model_id &lt;chr&gt; |\n",
       "|---|---|---|---|\n",
       "| 0.2871691 | 3.509800 | 4.197031 | 1  |\n",
       "| 3.0184325 | 2.904180 | 3.191550 | 2  |\n",
       "| 2.9463256 | 2.140136 | 6.621672 | 3  |\n",
       "| 4.6330963 | 2.300311 | 4.269229 | 4  |\n",
       "| 2.3674430 | 5.582902 | 7.150849 | 5  |\n",
       "| 4.1599826 | 4.522359 | 5.192299 | 6  |\n",
       "| 2.7656976 | 3.778295 | 5.297450 | 7  |\n",
       "| 4.2733294 | 2.743307 | 5.655653 | 8  |\n",
       "| 2.7663767 | 3.530483 | 4.659773 | 9  |\n",
       "| 2.5983542 | 4.525126 | 4.756867 | 10 |\n",
       "\n"
      ],
      "text/plain": [
       "   X1        X2       X3       model_id\n",
       "1  0.2871691 3.509800 4.197031 1       \n",
       "2  3.0184325 2.904180 3.191550 2       \n",
       "3  2.9463256 2.140136 6.621672 3       \n",
       "4  4.6330963 2.300311 4.269229 4       \n",
       "5  2.3674430 5.582902 7.150849 5       \n",
       "6  4.1599826 4.522359 5.192299 6       \n",
       "7  2.7656976 3.778295 5.297450 7       \n",
       "8  4.2733294 2.743307 5.655653 8       \n",
       "9  2.7663767 3.530483 4.659773 9       \n",
       "10 2.5983542 4.525126 4.756867 10      "
      ]
     },
     "metadata": {},
     "output_type": "display_data"
    }
   ],
   "source": [
    "fake_data_frame"
   ]
  },
  {
   "cell_type": "code",
   "execution_count": 7,
   "metadata": {},
   "outputs": [],
   "source": [
    "library(tidyr)"
   ]
  },
  {
   "cell_type": "code",
   "execution_count": 8,
   "metadata": {},
   "outputs": [
    {
     "data": {
      "text/html": [
       "<table>\n",
       "<caption>A data.frame: 30 × 3</caption>\n",
       "<thead>\n",
       "\t<tr><th scope=col>model_id</th><th scope=col>model_version</th><th scope=col>score</th></tr>\n",
       "\t<tr><th scope=col>&lt;chr&gt;</th><th scope=col>&lt;chr&gt;</th><th scope=col>&lt;dbl&gt;</th></tr>\n",
       "</thead>\n",
       "<tbody>\n",
       "\t<tr><td>1 </td><td>X1</td><td>0.2871691</td></tr>\n",
       "\t<tr><td>2 </td><td>X1</td><td>3.0184325</td></tr>\n",
       "\t<tr><td>3 </td><td>X1</td><td>2.9463256</td></tr>\n",
       "\t<tr><td>4 </td><td>X1</td><td>4.6330963</td></tr>\n",
       "\t<tr><td>5 </td><td>X1</td><td>2.3674430</td></tr>\n",
       "\t<tr><td>6 </td><td>X1</td><td>4.1599826</td></tr>\n",
       "\t<tr><td>7 </td><td>X1</td><td>2.7656976</td></tr>\n",
       "\t<tr><td>8 </td><td>X1</td><td>4.2733294</td></tr>\n",
       "\t<tr><td>9 </td><td>X1</td><td>2.7663767</td></tr>\n",
       "\t<tr><td>10</td><td>X1</td><td>2.5983542</td></tr>\n",
       "\t<tr><td>1 </td><td>X2</td><td>3.5098001</td></tr>\n",
       "\t<tr><td>2 </td><td>X2</td><td>2.9041802</td></tr>\n",
       "\t<tr><td>3 </td><td>X2</td><td>2.1401363</td></tr>\n",
       "\t<tr><td>4 </td><td>X2</td><td>2.3003111</td></tr>\n",
       "\t<tr><td>5 </td><td>X2</td><td>5.5829021</td></tr>\n",
       "\t<tr><td>6 </td><td>X2</td><td>4.5223587</td></tr>\n",
       "\t<tr><td>7 </td><td>X2</td><td>3.7782953</td></tr>\n",
       "\t<tr><td>8 </td><td>X2</td><td>2.7433070</td></tr>\n",
       "\t<tr><td>9 </td><td>X2</td><td>3.5304834</td></tr>\n",
       "\t<tr><td>10</td><td>X2</td><td>4.5251256</td></tr>\n",
       "\t<tr><td>1 </td><td>X3</td><td>4.1970311</td></tr>\n",
       "\t<tr><td>2 </td><td>X3</td><td>3.1915501</td></tr>\n",
       "\t<tr><td>3 </td><td>X3</td><td>6.6216718</td></tr>\n",
       "\t<tr><td>4 </td><td>X3</td><td>4.2692286</td></tr>\n",
       "\t<tr><td>5 </td><td>X3</td><td>7.1508487</td></tr>\n",
       "\t<tr><td>6 </td><td>X3</td><td>5.1922994</td></tr>\n",
       "\t<tr><td>7 </td><td>X3</td><td>5.2974504</td></tr>\n",
       "\t<tr><td>8 </td><td>X3</td><td>5.6556533</td></tr>\n",
       "\t<tr><td>9 </td><td>X3</td><td>4.6597732</td></tr>\n",
       "\t<tr><td>10</td><td>X3</td><td>4.7568670</td></tr>\n",
       "</tbody>\n",
       "</table>\n"
      ],
      "text/latex": [
       "A data.frame: 30 × 3\n",
       "\\begin{tabular}{lll}\n",
       " model\\_id & model\\_version & score\\\\\n",
       " <chr> & <chr> & <dbl>\\\\\n",
       "\\hline\n",
       "\t 1  & X1 & 0.2871691\\\\\n",
       "\t 2  & X1 & 3.0184325\\\\\n",
       "\t 3  & X1 & 2.9463256\\\\\n",
       "\t 4  & X1 & 4.6330963\\\\\n",
       "\t 5  & X1 & 2.3674430\\\\\n",
       "\t 6  & X1 & 4.1599826\\\\\n",
       "\t 7  & X1 & 2.7656976\\\\\n",
       "\t 8  & X1 & 4.2733294\\\\\n",
       "\t 9  & X1 & 2.7663767\\\\\n",
       "\t 10 & X1 & 2.5983542\\\\\n",
       "\t 1  & X2 & 3.5098001\\\\\n",
       "\t 2  & X2 & 2.9041802\\\\\n",
       "\t 3  & X2 & 2.1401363\\\\\n",
       "\t 4  & X2 & 2.3003111\\\\\n",
       "\t 5  & X2 & 5.5829021\\\\\n",
       "\t 6  & X2 & 4.5223587\\\\\n",
       "\t 7  & X2 & 3.7782953\\\\\n",
       "\t 8  & X2 & 2.7433070\\\\\n",
       "\t 9  & X2 & 3.5304834\\\\\n",
       "\t 10 & X2 & 4.5251256\\\\\n",
       "\t 1  & X3 & 4.1970311\\\\\n",
       "\t 2  & X3 & 3.1915501\\\\\n",
       "\t 3  & X3 & 6.6216718\\\\\n",
       "\t 4  & X3 & 4.2692286\\\\\n",
       "\t 5  & X3 & 7.1508487\\\\\n",
       "\t 6  & X3 & 5.1922994\\\\\n",
       "\t 7  & X3 & 5.2974504\\\\\n",
       "\t 8  & X3 & 5.6556533\\\\\n",
       "\t 9  & X3 & 4.6597732\\\\\n",
       "\t 10 & X3 & 4.7568670\\\\\n",
       "\\end{tabular}\n"
      ],
      "text/markdown": [
       "\n",
       "A data.frame: 30 × 3\n",
       "\n",
       "| model_id &lt;chr&gt; | model_version &lt;chr&gt; | score &lt;dbl&gt; |\n",
       "|---|---|---|\n",
       "| 1  | X1 | 0.2871691 |\n",
       "| 2  | X1 | 3.0184325 |\n",
       "| 3  | X1 | 2.9463256 |\n",
       "| 4  | X1 | 4.6330963 |\n",
       "| 5  | X1 | 2.3674430 |\n",
       "| 6  | X1 | 4.1599826 |\n",
       "| 7  | X1 | 2.7656976 |\n",
       "| 8  | X1 | 4.2733294 |\n",
       "| 9  | X1 | 2.7663767 |\n",
       "| 10 | X1 | 2.5983542 |\n",
       "| 1  | X2 | 3.5098001 |\n",
       "| 2  | X2 | 2.9041802 |\n",
       "| 3  | X2 | 2.1401363 |\n",
       "| 4  | X2 | 2.3003111 |\n",
       "| 5  | X2 | 5.5829021 |\n",
       "| 6  | X2 | 4.5223587 |\n",
       "| 7  | X2 | 3.7782953 |\n",
       "| 8  | X2 | 2.7433070 |\n",
       "| 9  | X2 | 3.5304834 |\n",
       "| 10 | X2 | 4.5251256 |\n",
       "| 1  | X3 | 4.1970311 |\n",
       "| 2  | X3 | 3.1915501 |\n",
       "| 3  | X3 | 6.6216718 |\n",
       "| 4  | X3 | 4.2692286 |\n",
       "| 5  | X3 | 7.1508487 |\n",
       "| 6  | X3 | 5.1922994 |\n",
       "| 7  | X3 | 5.2974504 |\n",
       "| 8  | X3 | 5.6556533 |\n",
       "| 9  | X3 | 4.6597732 |\n",
       "| 10 | X3 | 4.7568670 |\n",
       "\n"
      ],
      "text/plain": [
       "   model_id model_version score    \n",
       "1  1        X1            0.2871691\n",
       "2  2        X1            3.0184325\n",
       "3  3        X1            2.9463256\n",
       "4  4        X1            4.6330963\n",
       "5  5        X1            2.3674430\n",
       "6  6        X1            4.1599826\n",
       "7  7        X1            2.7656976\n",
       "8  8        X1            4.2733294\n",
       "9  9        X1            2.7663767\n",
       "10 10       X1            2.5983542\n",
       "11 1        X2            3.5098001\n",
       "12 2        X2            2.9041802\n",
       "13 3        X2            2.1401363\n",
       "14 4        X2            2.3003111\n",
       "15 5        X2            5.5829021\n",
       "16 6        X2            4.5223587\n",
       "17 7        X2            3.7782953\n",
       "18 8        X2            2.7433070\n",
       "19 9        X2            3.5304834\n",
       "20 10       X2            4.5251256\n",
       "21 1        X3            4.1970311\n",
       "22 2        X3            3.1915501\n",
       "23 3        X3            6.6216718\n",
       "24 4        X3            4.2692286\n",
       "25 5        X3            7.1508487\n",
       "26 6        X3            5.1922994\n",
       "27 7        X3            5.2974504\n",
       "28 8        X3            5.6556533\n",
       "29 9        X3            4.6597732\n",
       "30 10       X3            4.7568670"
      ]
     },
     "metadata": {},
     "output_type": "display_data"
    }
   ],
   "source": [
    "long_version <- fake_data_frame %>% gather(\"model_version\", \"score\", X1:X3)\n",
    "long_version"
   ]
  },
  {
   "cell_type": "code",
   "execution_count": 9,
   "metadata": {},
   "outputs": [],
   "source": [
    "mytheme <- theme_classic() %+replace% \n",
    "        theme(axis.title.x = element_blank(), \n",
    "        axis.title.y = element_text(face=\"bold\",angle=90))  "
   ]
  },
  {
   "cell_type": "code",
   "execution_count": 10,
   "metadata": {},
   "outputs": [],
   "source": [
    "p1 <- ggplot(data = long_version, aes(x = model_version, y = score, group = model_id)) +\n",
    "    mytheme +\n",
    "    coord_trans(limy=c(0,10)) +\n",
    "    labs(list(title = \"Score for model variant ...\", y = paste(\"MSE over x-fold CV\"))) + \n",
    "    geom_line(size=1) + theme(legend.position=\"none\")"
   ]
  },
  {
   "cell_type": "code",
   "execution_count": 11,
   "metadata": {},
   "outputs": [
    {
     "data": {
      "image/png": "[encoded data removed]"
     },
     "metadata": {
      "image/png": {
       "height": 420,
       "width": 420
      }
     },
     "output_type": "display_data"
    }
   ],
   "source": [
    "p1"
   ]
  },
  {
   "cell_type": "code",
   "execution_count": null,
   "metadata": {},
   "outputs": [],
   "source": []
  }
 ],
 "metadata": {
  "kernelspec": {
   "display_name": "R",
   "language": "R",
   "name": "ir"
  },
  "language_info": {
   "codemirror_mode": "r",
   "file_extension": ".r",
   "mimetype": "text/x-r-source",
   "name": "R",
   "pygments_lexer": "r",
   "version": "3.6.2"
  }
 },
 "nbformat": 4,
 "nbformat_minor": 2
}
