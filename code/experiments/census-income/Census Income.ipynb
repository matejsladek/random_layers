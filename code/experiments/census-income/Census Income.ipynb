{
 "cells": [
  {
   "cell_type": "code",
   "execution_count": 1,
   "metadata": {},
   "outputs": [],
   "source": [
    "import pandas as pd\n",
    "import numpy as np"
   ]
  },
  {
   "cell_type": "code",
   "execution_count": 2,
   "metadata": {},
   "outputs": [],
   "source": [
    "from tensorflow import keras"
   ]
  },
  {
   "cell_type": "code",
   "execution_count": 3,
   "metadata": {},
   "outputs": [],
   "source": [
    "from sklearn.preprocessing import LabelEncoder"
   ]
  },
  {
   "cell_type": "code",
   "execution_count": 4,
   "metadata": {},
   "outputs": [],
   "source": [
    "from sklearn.model_selection import KFold"
   ]
  },
  {
   "cell_type": "code",
   "execution_count": 5,
   "metadata": {},
   "outputs": [],
   "source": [
    "from IPython.display import clear_output"
   ]
  },
  {
   "cell_type": "code",
   "execution_count": 6,
   "metadata": {},
   "outputs": [],
   "source": [
    "from matplotlib import pyplot as plt"
   ]
  },
  {
   "cell_type": "code",
   "execution_count": 7,
   "metadata": {},
   "outputs": [],
   "source": [
    "from itertools import product"
   ]
  },
  {
   "cell_type": "code",
   "execution_count": 8,
   "metadata": {},
   "outputs": [],
   "source": [
    "from math import prod"
   ]
  },
  {
   "cell_type": "code",
   "execution_count": 9,
   "metadata": {},
   "outputs": [],
   "source": [
    "from GPyOpt.methods import BayesianOptimization"
   ]
  },
  {
   "cell_type": "markdown",
   "metadata": {},
   "source": [
    "# Data preparation"
   ]
  },
  {
   "cell_type": "markdown",
   "metadata": {},
   "source": [
    "Data can be found [here](http://mlr.cs.umass.edu/ml/machine-learning-databases/census-income/)."
   ]
  },
  {
   "cell_type": "code",
   "execution_count": 10,
   "metadata": {},
   "outputs": [],
   "source": [
    "data = pd.read_csv(\n",
    "#     \"/cluster/scratch/bramva/deep-learning-course/data/census-income/census-income.data\",\n",
    "    \"data/census-income.data\",\n",
    "    names=[\n",
    "        \"age\",\n",
    "        \"workclass\",\n",
    "        \"fnlwgt\",\n",
    "        \"education\",\n",
    "        \"education-num\",\n",
    "        \"marital-status\",\n",
    "        \"occupation\",\n",
    "        \"relationship\",\n",
    "        \"race\",\n",
    "        \"sex\",\n",
    "        \"capital-gain\",\n",
    "        \"capital-loss\",\n",
    "        \"hours-per-week\",\n",
    "        \"native-country\",\n",
    "        \"income\",\n",
    "    ],\n",
    ")"
   ]
  },
  {
   "cell_type": "code",
   "execution_count": 11,
   "metadata": {},
   "outputs": [],
   "source": [
    "categoricals = [\n",
    "    \"workclass\",\n",
    "    \"education\",\n",
    "    \"marital-status\",\n",
    "    \"occupation\",\n",
    "    \"relationship\",\n",
    "    \"race\",\n",
    "    \"sex\",\n",
    "    \"native-country\",\n",
    "    \"income\",\n",
    "]"
   ]
  },
  {
   "cell_type": "code",
   "execution_count": 12,
   "metadata": {},
   "outputs": [
    {
     "data": {
      "text/html": [
       "<div>\n",
       "<style scoped>\n",
       "    .dataframe tbody tr th:only-of-type {\n",
       "        vertical-align: middle;\n",
       "    }\n",
       "\n",
       "    .dataframe tbody tr th {\n",
       "        vertical-align: top;\n",
       "    }\n",
       "\n",
       "    .dataframe thead th {\n",
       "        text-align: right;\n",
       "    }\n",
       "</style>\n",
       "<table border=\"1\" class=\"dataframe\">\n",
       "  <thead>\n",
       "    <tr style=\"text-align: right;\">\n",
       "      <th></th>\n",
       "      <th>age</th>\n",
       "      <th>workclass</th>\n",
       "      <th>fnlwgt</th>\n",
       "      <th>education</th>\n",
       "      <th>education-num</th>\n",
       "      <th>marital-status</th>\n",
       "      <th>occupation</th>\n",
       "      <th>relationship</th>\n",
       "      <th>race</th>\n",
       "      <th>sex</th>\n",
       "      <th>capital-gain</th>\n",
       "      <th>capital-loss</th>\n",
       "      <th>hours-per-week</th>\n",
       "      <th>native-country</th>\n",
       "      <th>income</th>\n",
       "    </tr>\n",
       "  </thead>\n",
       "  <tbody>\n",
       "    <tr>\n",
       "      <th>count</th>\n",
       "      <td>32561.000000</td>\n",
       "      <td>32561</td>\n",
       "      <td>3.256100e+04</td>\n",
       "      <td>32561</td>\n",
       "      <td>32561.000000</td>\n",
       "      <td>32561</td>\n",
       "      <td>32561</td>\n",
       "      <td>32561</td>\n",
       "      <td>32561</td>\n",
       "      <td>32561</td>\n",
       "      <td>32561.000000</td>\n",
       "      <td>32561.000000</td>\n",
       "      <td>32561.000000</td>\n",
       "      <td>32561</td>\n",
       "      <td>32561</td>\n",
       "    </tr>\n",
       "    <tr>\n",
       "      <th>unique</th>\n",
       "      <td>NaN</td>\n",
       "      <td>9</td>\n",
       "      <td>NaN</td>\n",
       "      <td>16</td>\n",
       "      <td>NaN</td>\n",
       "      <td>7</td>\n",
       "      <td>15</td>\n",
       "      <td>6</td>\n",
       "      <td>5</td>\n",
       "      <td>2</td>\n",
       "      <td>NaN</td>\n",
       "      <td>NaN</td>\n",
       "      <td>NaN</td>\n",
       "      <td>42</td>\n",
       "      <td>2</td>\n",
       "    </tr>\n",
       "    <tr>\n",
       "      <th>top</th>\n",
       "      <td>NaN</td>\n",
       "      <td>Private</td>\n",
       "      <td>NaN</td>\n",
       "      <td>HS-grad</td>\n",
       "      <td>NaN</td>\n",
       "      <td>Married-civ-spouse</td>\n",
       "      <td>Prof-specialty</td>\n",
       "      <td>Husband</td>\n",
       "      <td>White</td>\n",
       "      <td>Male</td>\n",
       "      <td>NaN</td>\n",
       "      <td>NaN</td>\n",
       "      <td>NaN</td>\n",
       "      <td>United-States</td>\n",
       "      <td>&lt;=50K</td>\n",
       "    </tr>\n",
       "    <tr>\n",
       "      <th>freq</th>\n",
       "      <td>NaN</td>\n",
       "      <td>22696</td>\n",
       "      <td>NaN</td>\n",
       "      <td>10501</td>\n",
       "      <td>NaN</td>\n",
       "      <td>14976</td>\n",
       "      <td>4140</td>\n",
       "      <td>13193</td>\n",
       "      <td>27816</td>\n",
       "      <td>21790</td>\n",
       "      <td>NaN</td>\n",
       "      <td>NaN</td>\n",
       "      <td>NaN</td>\n",
       "      <td>29170</td>\n",
       "      <td>24720</td>\n",
       "    </tr>\n",
       "    <tr>\n",
       "      <th>mean</th>\n",
       "      <td>38.581647</td>\n",
       "      <td>NaN</td>\n",
       "      <td>1.897784e+05</td>\n",
       "      <td>NaN</td>\n",
       "      <td>10.080679</td>\n",
       "      <td>NaN</td>\n",
       "      <td>NaN</td>\n",
       "      <td>NaN</td>\n",
       "      <td>NaN</td>\n",
       "      <td>NaN</td>\n",
       "      <td>1077.648844</td>\n",
       "      <td>87.303830</td>\n",
       "      <td>40.437456</td>\n",
       "      <td>NaN</td>\n",
       "      <td>NaN</td>\n",
       "    </tr>\n",
       "    <tr>\n",
       "      <th>std</th>\n",
       "      <td>13.640433</td>\n",
       "      <td>NaN</td>\n",
       "      <td>1.055500e+05</td>\n",
       "      <td>NaN</td>\n",
       "      <td>2.572720</td>\n",
       "      <td>NaN</td>\n",
       "      <td>NaN</td>\n",
       "      <td>NaN</td>\n",
       "      <td>NaN</td>\n",
       "      <td>NaN</td>\n",
       "      <td>7385.292085</td>\n",
       "      <td>402.960219</td>\n",
       "      <td>12.347429</td>\n",
       "      <td>NaN</td>\n",
       "      <td>NaN</td>\n",
       "    </tr>\n",
       "    <tr>\n",
       "      <th>min</th>\n",
       "      <td>17.000000</td>\n",
       "      <td>NaN</td>\n",
       "      <td>1.228500e+04</td>\n",
       "      <td>NaN</td>\n",
       "      <td>1.000000</td>\n",
       "      <td>NaN</td>\n",
       "      <td>NaN</td>\n",
       "      <td>NaN</td>\n",
       "      <td>NaN</td>\n",
       "      <td>NaN</td>\n",
       "      <td>0.000000</td>\n",
       "      <td>0.000000</td>\n",
       "      <td>1.000000</td>\n",
       "      <td>NaN</td>\n",
       "      <td>NaN</td>\n",
       "    </tr>\n",
       "    <tr>\n",
       "      <th>25%</th>\n",
       "      <td>28.000000</td>\n",
       "      <td>NaN</td>\n",
       "      <td>1.178270e+05</td>\n",
       "      <td>NaN</td>\n",
       "      <td>9.000000</td>\n",
       "      <td>NaN</td>\n",
       "      <td>NaN</td>\n",
       "      <td>NaN</td>\n",
       "      <td>NaN</td>\n",
       "      <td>NaN</td>\n",
       "      <td>0.000000</td>\n",
       "      <td>0.000000</td>\n",
       "      <td>40.000000</td>\n",
       "      <td>NaN</td>\n",
       "      <td>NaN</td>\n",
       "    </tr>\n",
       "    <tr>\n",
       "      <th>50%</th>\n",
       "      <td>37.000000</td>\n",
       "      <td>NaN</td>\n",
       "      <td>1.783560e+05</td>\n",
       "      <td>NaN</td>\n",
       "      <td>10.000000</td>\n",
       "      <td>NaN</td>\n",
       "      <td>NaN</td>\n",
       "      <td>NaN</td>\n",
       "      <td>NaN</td>\n",
       "      <td>NaN</td>\n",
       "      <td>0.000000</td>\n",
       "      <td>0.000000</td>\n",
       "      <td>40.000000</td>\n",
       "      <td>NaN</td>\n",
       "      <td>NaN</td>\n",
       "    </tr>\n",
       "    <tr>\n",
       "      <th>75%</th>\n",
       "      <td>48.000000</td>\n",
       "      <td>NaN</td>\n",
       "      <td>2.370510e+05</td>\n",
       "      <td>NaN</td>\n",
       "      <td>12.000000</td>\n",
       "      <td>NaN</td>\n",
       "      <td>NaN</td>\n",
       "      <td>NaN</td>\n",
       "      <td>NaN</td>\n",
       "      <td>NaN</td>\n",
       "      <td>0.000000</td>\n",
       "      <td>0.000000</td>\n",
       "      <td>45.000000</td>\n",
       "      <td>NaN</td>\n",
       "      <td>NaN</td>\n",
       "    </tr>\n",
       "    <tr>\n",
       "      <th>max</th>\n",
       "      <td>90.000000</td>\n",
       "      <td>NaN</td>\n",
       "      <td>1.484705e+06</td>\n",
       "      <td>NaN</td>\n",
       "      <td>16.000000</td>\n",
       "      <td>NaN</td>\n",
       "      <td>NaN</td>\n",
       "      <td>NaN</td>\n",
       "      <td>NaN</td>\n",
       "      <td>NaN</td>\n",
       "      <td>99999.000000</td>\n",
       "      <td>4356.000000</td>\n",
       "      <td>99.000000</td>\n",
       "      <td>NaN</td>\n",
       "      <td>NaN</td>\n",
       "    </tr>\n",
       "  </tbody>\n",
       "</table>\n",
       "</div>"
      ],
      "text/plain": [
       "                 age workclass        fnlwgt education  education-num  \\\n",
       "count   32561.000000     32561  3.256100e+04     32561   32561.000000   \n",
       "unique           NaN         9           NaN        16            NaN   \n",
       "top              NaN   Private           NaN   HS-grad            NaN   \n",
       "freq             NaN     22696           NaN     10501            NaN   \n",
       "mean       38.581647       NaN  1.897784e+05       NaN      10.080679   \n",
       "std        13.640433       NaN  1.055500e+05       NaN       2.572720   \n",
       "min        17.000000       NaN  1.228500e+04       NaN       1.000000   \n",
       "25%        28.000000       NaN  1.178270e+05       NaN       9.000000   \n",
       "50%        37.000000       NaN  1.783560e+05       NaN      10.000000   \n",
       "75%        48.000000       NaN  2.370510e+05       NaN      12.000000   \n",
       "max        90.000000       NaN  1.484705e+06       NaN      16.000000   \n",
       "\n",
       "             marital-status       occupation relationship    race    sex  \\\n",
       "count                 32561            32561        32561   32561  32561   \n",
       "unique                    7               15            6       5      2   \n",
       "top      Married-civ-spouse   Prof-specialty      Husband   White   Male   \n",
       "freq                  14976             4140        13193   27816  21790   \n",
       "mean                    NaN              NaN          NaN     NaN    NaN   \n",
       "std                     NaN              NaN          NaN     NaN    NaN   \n",
       "min                     NaN              NaN          NaN     NaN    NaN   \n",
       "25%                     NaN              NaN          NaN     NaN    NaN   \n",
       "50%                     NaN              NaN          NaN     NaN    NaN   \n",
       "75%                     NaN              NaN          NaN     NaN    NaN   \n",
       "max                     NaN              NaN          NaN     NaN    NaN   \n",
       "\n",
       "        capital-gain  capital-loss  hours-per-week  native-country  income  \n",
       "count   32561.000000  32561.000000    32561.000000           32561   32561  \n",
       "unique           NaN           NaN             NaN              42       2  \n",
       "top              NaN           NaN             NaN   United-States   <=50K  \n",
       "freq             NaN           NaN             NaN           29170   24720  \n",
       "mean     1077.648844     87.303830       40.437456             NaN     NaN  \n",
       "std      7385.292085    402.960219       12.347429             NaN     NaN  \n",
       "min         0.000000      0.000000        1.000000             NaN     NaN  \n",
       "25%         0.000000      0.000000       40.000000             NaN     NaN  \n",
       "50%         0.000000      0.000000       40.000000             NaN     NaN  \n",
       "75%         0.000000      0.000000       45.000000             NaN     NaN  \n",
       "max     99999.000000   4356.000000       99.000000             NaN     NaN  "
      ]
     },
     "execution_count": 12,
     "metadata": {},
     "output_type": "execute_result"
    }
   ],
   "source": [
    "data.describe(include=\"all\")"
   ]
  },
  {
   "cell_type": "code",
   "execution_count": 13,
   "metadata": {},
   "outputs": [
    {
     "data": {
      "text/plain": [
       "age                           39\n",
       "workclass              State-gov\n",
       "fnlwgt                     77516\n",
       "education              Bachelors\n",
       "education-num                 13\n",
       "marital-status     Never-married\n",
       "occupation          Adm-clerical\n",
       "relationship       Not-in-family\n",
       "race                       White\n",
       "sex                         Male\n",
       "capital-gain                2174\n",
       "capital-loss                   0\n",
       "hours-per-week                40\n",
       "native-country     United-States\n",
       "income                     <=50K\n",
       "Name: 0, dtype: object"
      ]
     },
     "execution_count": 13,
     "metadata": {},
     "output_type": "execute_result"
    }
   ],
   "source": [
    "data.iloc[0, :]"
   ]
  },
  {
   "cell_type": "code",
   "execution_count": 14,
   "metadata": {},
   "outputs": [],
   "source": [
    "for categorical in categoricals:\n",
    "    data[categorical] = LabelEncoder().fit_transform(data[categorical])\n",
    "    values = data[categorical].unique()\n",
    "    np.random.shuffle(values)\n",
    "    data[categorical] = values[data[categorical]]"
   ]
  },
  {
   "cell_type": "code",
   "execution_count": 15,
   "metadata": {},
   "outputs": [],
   "source": [
    "means = data.mean()"
   ]
  },
  {
   "cell_type": "code",
   "execution_count": 16,
   "metadata": {},
   "outputs": [],
   "source": [
    "data -= means"
   ]
  },
  {
   "cell_type": "code",
   "execution_count": 17,
   "metadata": {},
   "outputs": [],
   "source": [
    "stds = data.std()"
   ]
  },
  {
   "cell_type": "code",
   "execution_count": 18,
   "metadata": {},
   "outputs": [],
   "source": [
    "data /= stds"
   ]
  },
  {
   "cell_type": "code",
   "execution_count": 19,
   "metadata": {},
   "outputs": [],
   "source": [
    "dataset = data.values"
   ]
  },
  {
   "cell_type": "code",
   "execution_count": 20,
   "metadata": {},
   "outputs": [],
   "source": [
    "ordering = np.arange(dataset.shape[0])\n",
    "np.random.shuffle(ordering)\n",
    "dataset = dataset[ordering]"
   ]
  },
  {
   "cell_type": "code",
   "execution_count": 21,
   "metadata": {},
   "outputs": [],
   "source": [
    "cutoff = round(dataset.shape[0] * .1)"
   ]
  },
  {
   "cell_type": "code",
   "execution_count": 22,
   "metadata": {},
   "outputs": [],
   "source": [
    "train, labels = dataset[:, 1:], dataset[:, 0]"
   ]
  },
  {
   "cell_type": "markdown",
   "metadata": {},
   "source": [
    "# Utilities"
   ]
  },
  {
   "cell_type": "code",
   "execution_count": 23,
   "metadata": {},
   "outputs": [],
   "source": [
    "class PlotLosses(keras.callbacks.Callback):\n",
    "    def __init__(\n",
    "        self,\n",
    "        metrics=None,\n",
    "        validation=True,\n",
    "    ):\n",
    "        self.metrics = [\"loss\"]\n",
    "        if metrics:\n",
    "            self.metrics += metrics\n",
    "        if validation:\n",
    "            for i in reversed(range(len(self.metrics))):\n",
    "                self.metrics.insert(i + 1, \"val_\" + self.metrics[i])\n",
    "        self.hist_metrics = [list() for metric in self.metrics]\n",
    "        \n",
    "    def on_train_begin(self, logs={}):\n",
    "        self.logs = []\n",
    "\n",
    "    def on_epoch_end(self, epoch, logs={}):\n",
    "        self.logs.append(logs)\n",
    "        for metric, hist_metric in zip(self.metrics, self.hist_metrics):\n",
    "            hist_metric.append(logs.get(metric))\n",
    "\n",
    "        clear_output(wait=True)\n",
    "        \n",
    "        self.fig = plt.figure(figsize=(15, 7))\n",
    "        for metric, hist_metric in zip(self.metrics, self.hist_metrics):\n",
    "            plt.plot(range(len(self.hist_metrics[0])), hist_metric, label=metric)\n",
    "        plt.legend()\n",
    "        plt.show()\n",
    "\n",
    "    def __len__(self):\n",
    "        return len(self.hist_metrics[0])"
   ]
  },
  {
   "cell_type": "markdown",
   "metadata": {},
   "source": [
    "# Model"
   ]
  },
  {
   "cell_type": "code",
   "execution_count": 24,
   "metadata": {},
   "outputs": [],
   "source": [
    "def build_model(\n",
    "    before_trainable_layers=[],\n",
    "    random_layers=[],\n",
    "    after_trainable_layers=[],\n",
    "    regularization=1e-6,\n",
    "):\n",
    "    model = keras.models.Sequential()\n",
    "    model.add(keras.layers.InputLayer(input_shape=(train.shape[1])))\n",
    "    \n",
    "    for i, layer_size in enumerate(before_trainable_layers):\n",
    "        model.add(keras.layers.Dense(\n",
    "            layer_size,\n",
    "            activation=\"relu\",\n",
    "            kernel_regularizer=keras.regularizers.l2(regularization),\n",
    "        ))\n",
    "        \n",
    "    for random_layer_size in random_layers:\n",
    "        model.add(keras.layers.Dense(\n",
    "            random_layer_size,\n",
    "            activation=\"tanh\",\n",
    "            trainable=False,\n",
    "        ))\n",
    "    \n",
    "    previous_size = random_layers[-1] if random_layers else before_trainable_layers[-1] if before_trainable_layers else train.shape[1]\n",
    "    for i, layer_size in enumerate(after_trainable_layers):\n",
    "        model.add(keras.layers.Dense(\n",
    "            layer_size,\n",
    "            activation=\"relu\",\n",
    "            kernel_regularizer=keras.regularizers.l2(regularization),\n",
    "        ))\n",
    "        \n",
    "    model.add(keras.layers.Dense(1))\n",
    "    return model"
   ]
  },
  {
   "cell_type": "code",
   "execution_count": 25,
   "metadata": {},
   "outputs": [],
   "source": [
    "folds = 10"
   ]
  },
  {
   "cell_type": "code",
   "execution_count": 26,
   "metadata": {},
   "outputs": [],
   "source": [
    "sizes = [10, 100]\n",
    "max_depth = 2\n",
    "\n",
    "before_options = [[], [100]]\n",
    "random_options = [[size] * i for size in sizes for i in range(max_depth + 1)]\n",
    "after_options = [[], [10]]"
   ]
  },
  {
   "cell_type": "code",
   "execution_count": 27,
   "metadata": {
    "scrolled": true
   },
   "outputs": [
    {
     "data": {
      "text/plain": [
       "((2, 2, 3, 2, 3), 72, 720)"
      ]
     },
     "execution_count": 27,
     "metadata": {},
     "output_type": "execute_result"
    }
   ],
   "source": [
    "model_configurations = np.array(list(product(before_options, random_options, after_options)))\n",
    "model_configurations = model_configurations.reshape(\n",
    "    len(before_options), \n",
    "    len(sizes),\n",
    "    max_depth + 1,\n",
    "    len(after_options),\n",
    "    len((before_options, random_options, after_options)),\n",
    ")\n",
    "model_configurations.shape, prod(model_configurations.shape), prod(model_configurations.shape) * folds"
   ]
  },
  {
   "cell_type": "code",
   "execution_count": 28,
   "metadata": {},
   "outputs": [],
   "source": [
    "model = build_model([100], [100, 100], [100])\n",
    "model.compile(optimizer=\"adam\", loss=\"mean_squared_error\")"
   ]
  },
  {
   "cell_type": "code",
   "execution_count": 29,
   "metadata": {},
   "outputs": [],
   "source": [
    "epsilon = 1e-12\n",
    "def log_space(x): return np.log(x + epsilon)\n",
    "def un_log_space(x): return np.exp(x) - epsilon"
   ]
  },
  {
   "cell_type": "code",
   "execution_count": 30,
   "metadata": {},
   "outputs": [],
   "source": [
    "domain = [\n",
    "    {\n",
    "        \"name\": \"l1_factor\",\n",
    "        \"type\": \"continuous\",\n",
    "        \"domain\": (log_space(0), log_space(1e1)),\n",
    "    }\n",
    "]"
   ]
  },
  {
   "cell_type": "code",
   "execution_count": 47,
   "metadata": {},
   "outputs": [],
   "source": [
    "def test(hyperparameters):\n",
    "    l1_factor = hyperparameters[0, 0]\n",
    "    \n",
    "    model = build_model([100], [100, 100], [100], un_log_space(l1_factor))\n",
    "    model.compile(optimizer=\"adam\", loss=\"mean_squared_error\")\n",
    "    \n",
    "    train_ids, test_ids = next(KFold(n_splits=10, shuffle=True).split(np.arange(dataset.shape[0])))\n",
    "    half_validate = round(len(test_ids) / 2)\n",
    "    \n",
    "    model.fit(\n",
    "        train[train_ids], labels[train_ids],\n",
    "        64,\n",
    "        epochs=20,\n",
    "        shuffle=True,\n",
    "        validation_data=(\n",
    "            train[test_ids][:half_validate], labels[test_ids][:half_validate],\n",
    "        ),\n",
    "        callbacks=[\n",
    "            keras.callbacks.EarlyStopping(\n",
    "                patience=3,\n",
    "                restore_best_weights=True,\n",
    "            ),\n",
    "            PlotLosses(),\n",
    "        ],\n",
    "    )\n",
    "    \n",
    "    score = model.evaluate(\n",
    "        train[test_ids][half_validate:], labels[test_ids][half_validate:],\n",
    "        verbose=0,\n",
    "    )\n",
    "    \n",
    "    return score"
   ]
  },
  {
   "cell_type": "code",
   "execution_count": 48,
   "metadata": {},
   "outputs": [],
   "source": [
    "middle_sizes = [10, 100, 1_000]\n",
    "grid_res = 30\n",
    "scan_l2 = np.zeros((len(middle_sizes), grid_res, 2))"
   ]
  },
  {
   "cell_type": "code",
   "execution_count": 49,
   "metadata": {
    "scrolled": true
   },
   "outputs": [
    {
     "data": {
      "image/png": "[encoded data removed]",
      "text/plain": [
       "<Figure size 1080x504 with 1 Axes>"
      ]
     },
     "metadata": {
      "needs_background": "light"
     },
     "output_type": "display_data"
    },
    {
     "name": "stdout",
     "output_type": "stream",
     "text": [
      "\b\b\b\b\b\b\b\b\b\b\b\b\b\b\b\b\b\b\b\b\b\b\b\b\b\b\b\b\b\b\b\b\b\b\b\b\b\b\b\b\b\b\b\b\b\b\b\b\b\b\b\b\b\b\b\b\b\b\b\b\b\b\b\b\b\b\b\b\b\r",
      "29304/29304 [==============================] - 1s 38us/sample - loss: 0.6638 - val_loss: 0.6288\n"
     ]
    }
   ],
   "source": [
    "for i, middle_size in enumerate(middle_sizes):\n",
    "    for j, l1 in enumerate(np.linspace(log_space(0), log_space(1e-1), grid_res)):\n",
    "        scan_l2[i, j, 0] = l1\n",
    "        scan_l2[i, j, 1] = test(np.array([[l1]]))"
   ]
  },
  {
   "cell_type": "code",
   "execution_count": 50,
   "metadata": {},
   "outputs": [],
   "source": [
    "ms = np.array(middle_sizes).reshape(-1, 1)"
   ]
  },
  {
   "cell_type": "code",
   "execution_count": 228,
   "metadata": {
    "collapsed": true
   },
   "outputs": [
    {
     "data": {
      "text/plain": [
       "<matplotlib.collections.LineCollection at 0x7f683f13e700>"
      ]
     },
     "execution_count": 228,
     "metadata": {},
     "output_type": "execute_result"
    },
    {
     "data": {
      "image/png": "[encoded data removed]",
      "text/plain": [
       "<Figure size 432x288 with 1 Axes>"
      ]
     },
     "metadata": {
      "needs_background": "light"
     },
     "output_type": "display_data"
    }
   ],
   "source": [
    "plt.loglog(\n",
    "    (un_log_space(scan[:, :, 0])).transpose(),\n",
    "    (scan[:, :, 1]).transpose(),\n",
    ")\n",
    "plt.vlines(un_log_space(scan[np.arange(scan.shape[0]), np.argmin(scan[:, :, 1], axis=1), 0]), ymin=0, ymax=1e7)"
   ]
  },
  {
   "cell_type": "code",
   "execution_count": 234,
   "metadata": {},
   "outputs": [
    {
     "data": {
      "text/plain": [
       "array([-2.53284360e+00, -1.84206807e-01, -2.53284360e-02, -2.30258509e-03])"
      ]
     },
     "execution_count": 234,
     "metadata": {},
     "output_type": "execute_result"
    }
   ],
   "source": [
    "scan[np.arange(scan.shape[0]), np.argmin(scan[:, :, 1], axis=1), 0] / ms.reshape(-1)"
   ]
  },
  {
   "cell_type": "code",
   "execution_count": 51,
   "metadata": {},
   "outputs": [
    {
     "ename": "NameError",
     "evalue": "name 'scan' is not defined",
     "output_type": "error",
     "traceback": [
      "\u001b[0;31m---------------------------------------------------------------------------\u001b[0m",
      "\u001b[0;31mNameError\u001b[0m                                 Traceback (most recent call last)",
      "\u001b[0;32m<ipython-input-51-8a5118cbbdf5>\u001b[0m in \u001b[0;36m<module>\u001b[0;34m\u001b[0m\n\u001b[1;32m      1\u001b[0m plt.loglog(\n\u001b[0;32m----> 2\u001b[0;31m     \u001b[0;34m(\u001b[0m\u001b[0mun_log_space\u001b[0m\u001b[0;34m(\u001b[0m\u001b[0mscan\u001b[0m\u001b[0;34m[\u001b[0m\u001b[0;34m:\u001b[0m\u001b[0;34m,\u001b[0m \u001b[0;34m:\u001b[0m\u001b[0;34m,\u001b[0m \u001b[0;36m0\u001b[0m\u001b[0;34m]\u001b[0m\u001b[0;34m)\u001b[0m \u001b[0;34m/\u001b[0m \u001b[0mms\u001b[0m\u001b[0;34m)\u001b[0m\u001b[0;34m.\u001b[0m\u001b[0mtranspose\u001b[0m\u001b[0;34m(\u001b[0m\u001b[0;34m)\u001b[0m\u001b[0;34m,\u001b[0m\u001b[0;34m\u001b[0m\u001b[0;34m\u001b[0m\u001b[0m\n\u001b[0m\u001b[1;32m      3\u001b[0m     \u001b[0;34m(\u001b[0m\u001b[0mscan\u001b[0m\u001b[0;34m[\u001b[0m\u001b[0;34m:\u001b[0m\u001b[0;34m,\u001b[0m \u001b[0;34m:\u001b[0m\u001b[0;34m,\u001b[0m \u001b[0;36m1\u001b[0m\u001b[0;34m]\u001b[0m\u001b[0;34m)\u001b[0m\u001b[0;34m.\u001b[0m\u001b[0mtranspose\u001b[0m\u001b[0;34m(\u001b[0m\u001b[0;34m)\u001b[0m\u001b[0;34m,\u001b[0m\u001b[0;34m\u001b[0m\u001b[0;34m\u001b[0m\u001b[0m\n\u001b[1;32m      4\u001b[0m )\n\u001b[1;32m      5\u001b[0m plt.vlines(\n",
      "\u001b[0;31mNameError\u001b[0m: name 'scan' is not defined"
     ]
    }
   ],
   "source": [
    "plt.loglog(\n",
    "    (un_log_space(scan[:, :, 0]) / ms).transpose(),\n",
    "    (scan[:, :, 1]).transpose(),\n",
    ")\n",
    "plt.vlines(\n",
    "    un_log_space(scan[np.arange(scan.shape[0]), np.argmin(scan[:, :, 1], axis=1), 0]) / ms.reshape(-1),\n",
    "    ymin=0, ymax=1e7,\n",
    ")"
   ]
  },
  {
   "cell_type": "code",
   "execution_count": 56,
   "metadata": {},
   "outputs": [
    {
     "data": {
      "text/plain": [
       "<matplotlib.collections.LineCollection at 0x7f15106c18e0>"
      ]
     },
     "execution_count": 56,
     "metadata": {},
     "output_type": "execute_result"
    },
    {
     "data": {
      "image/png": "[encoded data removed]",
      "text/plain": [
       "<Figure size 1440x360 with 1 Axes>"
      ]
     },
     "metadata": {
      "needs_background": "light"
     },
     "output_type": "display_data"
    }
   ],
   "source": [
    "plt.figure(figsize=(20, 5))\n",
    "plt.loglog(\n",
    "    (un_log_space(scan_l2[:, :, 0])).transpose(),\n",
    "    (scan_l2[:, :, 1]).transpose(),\n",
    ")\n",
    "plt.vlines(un_log_space(scan_l2[np.arange(scan_l2.shape[0]), np.argmin(scan_l2[:, :, 1], axis=1), 0]), ymin=0, ymax=.7)"
   ]
  },
  {
   "cell_type": "code",
   "execution_count": 57,
   "metadata": {},
   "outputs": [
    {
     "data": {
      "text/plain": [
       "array([1.08163673e-09, 1.17210130e-06, 3.19034456e-11])"
      ]
     },
     "execution_count": 57,
     "metadata": {},
     "output_type": "execute_result"
    }
   ],
   "source": [
    "un_log_space(scan_l2[np.arange(scan_l2.shape[0]), np.argmin(scan_l2[:, :, 1], axis=1), 0])"
   ]
  },
  {
   "cell_type": "code",
   "execution_count": 78,
   "metadata": {
    "scrolled": true
   },
   "outputs": [
    {
     "data": {
      "text/plain": [
       "[(10, array([3.52170344e-12])),\n",
       " (100, array([0.00016391])),\n",
       " (1000, array([3.16736597e-05])),\n",
       " (10000, array([5.154616e-11]))]"
      ]
     },
     "execution_count": 78,
     "metadata": {},
     "output_type": "execute_result"
    }
   ],
   "source": [
    "list(map(lambda t: (t[0], un_log_space(t[1])), results))"
   ]
  },
  {
   "cell_type": "code",
   "execution_count": 68,
   "metadata": {},
   "outputs": [],
   "source": [
    "results = np.zeros(model_configurations.shape[:-1] + (folds,))"
   ]
  },
  {
   "cell_type": "code",
   "execution_count": 71,
   "metadata": {},
   "outputs": [
    {
     "data": {
      "image/png": "[encoded data removed]",
      "text/plain": [
       "<Figure size 1080x504 with 1 Axes>"
      ]
     },
     "metadata": {
      "needs_background": "light"
     },
     "output_type": "display_data"
    },
    {
     "name": "stdout",
     "output_type": "stream",
     "text": [
      "\b\b\b\b\b\b\b\b\b\b\b\b\b\b\b\b\b\b\b\b\b\b\b\b\b\b\b\b\b\b\b\b\b\b\b\b\b\b\b\b\b\b\b\b\b\b\b\b\b\b\b\b\b\b\b\b\b\b\b\b\b\b\b\b\b\b\b\b\b\r",
      "29305/29305 [==============================] - 1s 37us/sample - loss: 0.5169 - val_loss: 0.5690\n"
     ]
    }
   ],
   "source": [
    "for i, model_type in enumerate(model_configurations.reshape(-1, 3)):\n",
    "    for j, (train_ids, test_ids) in enumerate(KFold(n_splits=10, shuffle=True).split(np.arange(dataset.shape[0]))):\n",
    "        half_validate = round(len(test_ids) / 2)\n",
    "        \n",
    "        model = build_model(*model_type)\n",
    "        model.compile(optimizer=\"adam\", loss=\"mean_squared_error\")\n",
    "        model.fit(\n",
    "            train[train_ids], labels[train_ids],\n",
    "            64,\n",
    "            epochs=100,\n",
    "            shuffle=True,\n",
    "            validation_data=(\n",
    "                train[test_ids][:half_validate], labels[test_ids][:half_validate],\n",
    "            ),\n",
    "            callbacks=[\n",
    "                keras.callbacks.EarlyStopping(\n",
    "                    patience=5,\n",
    "                    restore_best_weights=True,\n",
    "                ),\n",
    "                PlotLosses(),\n",
    "            ],\n",
    "        )\n",
    "        \n",
    "        score = model.evaluate(\n",
    "            train[test_ids][round(len(test_ids) / 2):], labels[test_ids][round(len(test_ids) / 2):],\n",
    "            verbose=0,\n",
    "        )\n",
    "        results.reshape(-1, folds)[i, j] = score"
   ]
  },
  {
   "cell_type": "code",
   "execution_count": 72,
   "metadata": {
    "scrolled": false
   },
   "outputs": [
    {
     "name": "stdout",
     "output_type": "stream",
     "text": [
      "[] [] []\n",
      "\n",
      " score: 0.8099410301659324 \t 0.020408590917771537 \n",
      "\n",
      "\n",
      "[] [] [10]\n",
      "\n",
      " score: 0.5930019931833502 \t 0.02905636500807743 \n",
      "\n",
      "\n",
      "[] [10] []\n",
      "\n",
      " score: 0.8832208156235213 \t 0.0438907938436414 \n",
      "\n",
      "\n",
      "[] [10] [10]\n",
      "\n",
      " score: 0.7228511023146049 \t 0.029488262546903284 \n",
      "\n",
      "\n",
      "[] [10, 10] []\n",
      "\n",
      " score: 0.8875837666640531 \t 0.042122057197221625 \n",
      "\n",
      "\n",
      "[] [10, 10] [10]\n",
      "\n",
      " score: 0.7671968796530242 \t 0.03063710406322782 \n",
      "\n",
      "\n",
      "[] [] []\n",
      "\n",
      " score: 0.8108844328067475 \t 0.04049126715179144 \n",
      "\n",
      "\n",
      "[] [] [10]\n",
      "\n",
      " score: 0.6005331129374636 \t 0.033070992294900854 \n",
      "\n",
      "\n",
      "[] [100] []\n",
      "\n",
      " score: 0.7990432056660464 \t 0.028825968726679096 \n",
      "\n",
      "\n",
      "[] [100] [10]\n",
      "\n",
      " score: 0.601352504587921 \t 0.019412449602074285 \n",
      "\n",
      "\n",
      "[] [100, 100] []\n",
      "\n",
      " score: 0.7923302110674351 \t 0.036066740365039124 \n",
      "\n",
      "\n",
      "[] [100, 100] [10]\n",
      "\n",
      " score: 0.5997796718780836 \t 0.025396633836939672 \n",
      "\n",
      "\n",
      "[100] [] []\n",
      "\n",
      " score: 0.5620647714719396 \t 0.018116027170175557 \n",
      "\n",
      "\n",
      "[100] [] [10]\n",
      "\n",
      " score: 0.5559563268745333 \t 0.023824483528513317 \n",
      "\n",
      "\n",
      "[100] [10] []\n",
      "\n",
      " score: 0.5595715071900955 \t 0.01844073021865352 \n",
      "\n",
      "\n",
      "[100] [10] [10]\n",
      "\n",
      " score: 0.5572728142784842 \t 0.02770803491325332 \n",
      "\n",
      "\n",
      "[100] [10, 10] []\n",
      "\n",
      " score: 0.5657826832805096 \t 0.02561530938345534 \n",
      "\n",
      "\n",
      "[100] [10, 10] [10]\n",
      "\n",
      " score: 0.5562184639340039 \t 0.020856037021812122 \n",
      "\n",
      "\n",
      "[100] [] []\n",
      "\n",
      " score: 0.5598999556082378 \t 0.024585515306513005 \n",
      "\n",
      "\n",
      "[100] [] [10]\n",
      "\n",
      " score: 0.5609246708493214 \t 0.015679591468561137 \n",
      "\n",
      "\n",
      "[100] [100] []\n",
      "\n",
      " score: 0.5596412889646358 \t 0.016318882128570446 \n",
      "\n",
      "\n",
      "[100] [100] [10]\n",
      "\n",
      " score: 0.5542513317172474 \t 0.023808145168872072 \n",
      "\n",
      "\n",
      "[100] [100, 100] []\n",
      "\n",
      " score: 0.5607720130006142 \t 0.03193263145212856 \n",
      "\n",
      "\n",
      "[100] [100, 100] [10]\n",
      "\n",
      " score: 0.5555969125522358 \t 0.02544839941023462 \n",
      "\n",
      "\n"
     ]
    }
   ],
   "source": [
    "for model_type, result_list in zip(model_configurations.reshape(-1, 3), results.reshape(-1, folds)):\n",
    "    print(*model_type)\n",
    "    print(\"\\n\", \"score:\", np.mean(result_list), \"\\t\", np.std(result_list), \"\\n\\n\")"
   ]
  },
  {
   "cell_type": "code",
   "execution_count": 76,
   "metadata": {},
   "outputs": [],
   "source": [
    "np.savetxt(\"output/results.np\", results.reshape(-1, folds))"
   ]
  }
 ],
 "metadata": {
  "kernelspec": {
   "display_name": "Python 3",
   "language": "python",
   "name": "python3"
  },
  "language_info": {
   "codemirror_mode": {
    "name": "ipython",
    "version": 3
   },
   "file_extension": ".py",
   "mimetype": "text/x-python",
   "name": "python",
   "nbconvert_exporter": "python",
   "pygments_lexer": "ipython3",
   "version": "3.8.1"
  }
 },
 "nbformat": 4,
 "nbformat_minor": 2
}
