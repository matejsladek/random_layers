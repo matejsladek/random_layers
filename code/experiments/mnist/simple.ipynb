{
 "cells": [
  {
   "cell_type": "code",
   "execution_count": 71,
   "metadata": {},
   "outputs": [
    {
     "name": "stdout",
     "output_type": "stream",
     "text": [
      "2.0.0\n"
     ]
    }
   ],
   "source": [
    "from __future__ import absolute_import, division, print_function, unicode_literals\n",
    "\n",
    "# TensorFlow and tf.keras\n",
    "import tensorflow as tf\n",
    "from tensorflow import keras\n",
    "from keras.utils import to_categorical\n",
    "from keras.callbacks import ProgbarLogger, TensorBoard, LambdaCallback\n",
    "\n",
    "# Helper libraries\n",
    "import numpy as np\n",
    "import matplotlib.pyplot as plt\n",
    "import datetime\n",
    "\n",
    "print(tf.__version__)"
   ]
  },
  {
   "cell_type": "code",
   "execution_count": 72,
   "metadata": {},
   "outputs": [],
   "source": [
    "fashion_mnist = keras.datasets.fashion_mnist\n",
    "\n",
    "(train_images, train_labels), (test_images, test_labels) = fashion_mnist.load_data()\n",
    "\n",
    "train_images = train_images / 255.0\n",
    "test_images = test_images / 255.0"
   ]
  },
  {
   "cell_type": "code",
   "execution_count": 73,
   "metadata": {},
   "outputs": [],
   "source": [
    "img_rows, img_cols = (28, 28)\n",
    "train_images = train_images.reshape(train_images.shape[0], img_rows, img_cols, 1)\n",
    "test_images = test_images.reshape(test_images.shape[0], img_rows, img_cols, 1)\n",
    "input_shape = (img_rows, img_cols, 1)\n",
    "half_validate = round(test_images.shape[0] / 2)"
   ]
  },
  {
   "cell_type": "code",
   "execution_count": 74,
   "metadata": {},
   "outputs": [],
   "source": [
    "logdir = \"logs/scalars/\" + datetime.datetime.now().strftime(\"%Y%m%d-%H%M%S\")\n",
    "file_writer = tf.summary.create_file_writer(logdir + \"/metrics\")\n",
    "file_writer.set_as_default()"
   ]
  },
  {
   "cell_type": "code",
   "execution_count": 75,
   "metadata": {},
   "outputs": [],
   "source": [
    "def get_model_dense():\n",
    "    model = keras.Sequential([\n",
    "        keras.layers.Flatten(input_shape=(28, 28, 1)),\n",
    "        keras.layers.Dense(128, activation='relu'),\n",
    "        keras.layers.Dense(10, activation='softmax')\n",
    "    ])\n",
    "    return model\n",
    "def get_model_dense2():\n",
    "    model = keras.Sequential([\n",
    "        keras.layers.Flatten(input_shape=(28, 28, 1)),\n",
    "#         keras.layers.Dense(128, activation='relu'),\n",
    "        keras.layers.Dense(10, activation='softmax')\n",
    "    ])\n",
    "    return model\n",
    "def get_model_dense3():\n",
    "    model = keras.Sequential([\n",
    "        keras.layers.Flatten(input_shape=(28, 28, 1)),\n",
    "        keras.layers.Dense(400, activation='relu'),\n",
    "        keras.layers.Dense(128, activation='relu'),\n",
    "        keras.layers.Dense(10, activation='softmax')\n",
    "    ])\n",
    "    return model"
   ]
  },
  {
   "cell_type": "code",
   "execution_count": 76,
   "metadata": {},
   "outputs": [],
   "source": [
    "def get_model_basic_conv():\n",
    "    model = keras.Sequential([\n",
    "        keras.layers.Conv2D(32, (3, 3), activation='relu', input_shape=input_shape),\n",
    "        keras.layers.Flatten(),\n",
    "        keras.layers.Dense(128, activation='relu'),\n",
    "        keras.layers.Dense(10, activation='softmax')\n",
    "    ])\n",
    "    return model"
   ]
  },
  {
   "cell_type": "code",
   "execution_count": 77,
   "metadata": {},
   "outputs": [],
   "source": [
    "def get_model_basic_conv2():\n",
    "    model = keras.Sequential([\n",
    "        keras.layers.Conv2D(32, (3, 3), activation='relu', input_shape=input_shape),\n",
    "        keras.layers.Flatten(),\n",
    "#         keras.layers.Dense(128, activation='relu'),\n",
    "        keras.layers.Dense(10, activation='softmax')\n",
    "    ])\n",
    "    return model"
   ]
  },
  {
   "cell_type": "code",
   "execution_count": 78,
   "metadata": {},
   "outputs": [],
   "source": [
    "def get_model_basic_conv3():\n",
    "    model = keras.Sequential([\n",
    "        keras.layers.Conv2D(32, (3, 3), activation='relu', input_shape=input_shape),\n",
    "        keras.layers.Flatten(),\n",
    "        keras.layers.Dense(400, activation='relu'),\n",
    "        keras.layers.Dense(128, activation='relu'),\n",
    "        keras.layers.Dense(10, activation='softmax')\n",
    "    ])\n",
    "    return model"
   ]
  },
  {
   "cell_type": "code",
   "execution_count": 79,
   "metadata": {},
   "outputs": [],
   "source": [
    "def get_model_basic_rand():\n",
    "    model = keras.Sequential([\n",
    "        keras.layers.Conv2D(32, (3, 3), activation='relu', input_shape=input_shape),\n",
    "        keras.layers.MaxPool2D(pool_size=(2, 2), strides=(1, 1), padding='valid'),\n",
    "        keras.layers.Flatten(),\n",
    "        keras.layers.Dense(128, activation='relu', trainable=False),\n",
    "#         keras.layers.Dense(1280, activation='relu', trainable=False),\n",
    "        keras.layers.Dense(128, activation='relu'),\n",
    "        keras.layers.Dense(10, activation='softmax')\n",
    "    ])\n",
    "    return model"
   ]
  },
  {
   "cell_type": "code",
   "execution_count": 80,
   "metadata": {},
   "outputs": [],
   "source": [
    "def get_model_basic_rand2():\n",
    "    model = keras.Sequential([\n",
    "        keras.layers.Conv2D(32, (3, 3), activation='relu', input_shape=input_shape),\n",
    "        keras.layers.MaxPool2D(pool_size=(2, 2), strides=(1, 1), padding='valid'),\n",
    "        keras.layers.Flatten(),\n",
    "#         keras.layers.Dense(128, activation='relu', trainable=False),\n",
    "        keras.layers.Dense(1280, activation='relu', trainable=False),\n",
    "        keras.layers.Dense(128, activation='relu'),\n",
    "        keras.layers.Dense(10, activation='softmax')\n",
    "    ])\n",
    "    return model"
   ]
  },
  {
   "cell_type": "code",
   "execution_count": 81,
   "metadata": {},
   "outputs": [],
   "source": [
    "def get_model_basic_rand3():\n",
    "    model = keras.Sequential([\n",
    "        keras.layers.Conv2D(32, (3, 3), activation='relu', input_shape=input_shape),\n",
    "        keras.layers.MaxPool2D(pool_size=(2, 2), strides=(1, 1), padding='valid'),\n",
    "        keras.layers.Flatten(),\n",
    "#         keras.layers.Dense(128, activation='relu', trainable=False),\n",
    "        keras.layers.Dense(400, activation='relu', trainable=False),\n",
    "        keras.layers.Dense(400, activation='relu', trainable=False),\n",
    "        keras.layers.Dense(400, activation='relu', trainable=False),\n",
    "        keras.layers.Dense(400, activation='relu', trainable=False),\n",
    "        keras.layers.Dense(400, activation='relu', trainable=False),\n",
    "        keras.layers.Dense(400, activation='relu', trainable=False),\n",
    "        keras.layers.Dense(400, activation='relu', trainable=False),\n",
    "        keras.layers.Dense(128, activation='relu'),\n",
    "        keras.layers.Dense(10, activation='softmax')\n",
    "    ])\n",
    "    return model"
   ]
  },
  {
   "cell_type": "code",
   "execution_count": 82,
   "metadata": {},
   "outputs": [],
   "source": [
    "model = get_model_basic_rand3()"
   ]
  },
  {
   "cell_type": "code",
   "execution_count": 62,
   "metadata": {},
   "outputs": [],
   "source": [
    "log_dir=\"logs/fit/\" + datetime.datetime.now().strftime(\"%Y%m%d-%H%M%S\")\n",
    "tensorboard_callback = tf.keras.callbacks.TensorBoard(log_dir=log_dir, histogram_freq=1, profile_batch=1)"
   ]
  },
  {
   "cell_type": "code",
   "execution_count": 13,
   "metadata": {},
   "outputs": [],
   "source": [
    "model.compile(optimizer='adam',\n",
    "              loss='sparse_categorical_crossentropy',\n",
    "              metrics=['accuracy'])"
   ]
  },
  {
   "cell_type": "code",
   "execution_count": 14,
   "metadata": {},
   "outputs": [
    {
     "name": "stdout",
     "output_type": "stream",
     "text": [
      "Train on 60000 samples, validate on 5000 samples\n",
      "Epoch 1/10\n",
      "   32/60000 [..............................] - ETA: 1:13:20 - loss: 2.2995 - accuracy: 0.0625WARNING:tensorflow:Method (on_train_batch_end) is slow compared to the batch update (0.215328). Check your callbacks.\n",
      "60000/60000 [==============================] - 85s 1ms/sample - loss: 0.7484 - accuracy: 0.7284 - val_loss: 0.5885 - val_accuracy: 0.7828\n",
      "Epoch 2/10\n",
      "60000/60000 [==============================] - 83s 1ms/sample - loss: 0.5366 - accuracy: 0.8029 - val_loss: 0.5509 - val_accuracy: 0.7982\n",
      "Epoch 3/10\n",
      "60000/60000 [==============================] - 83s 1ms/sample - loss: 0.4971 - accuracy: 0.8168 - val_loss: 0.5099 - val_accuracy: 0.8176\n",
      "Epoch 4/10\n",
      "60000/60000 [==============================] - 81s 1ms/sample - loss: 0.4755 - accuracy: 0.8256 - val_loss: 0.5116 - val_accuracy: 0.8160\n",
      "Epoch 5/10\n",
      "60000/60000 [==============================] - 81s 1ms/sample - loss: 0.4609 - accuracy: 0.8302 - val_loss: 0.5154 - val_accuracy: 0.8132\n",
      "Epoch 6/10\n",
      "60000/60000 [==============================] - 81s 1ms/sample - loss: 0.4465 - accuracy: 0.8370 - val_loss: 0.4775 - val_accuracy: 0.8266\n",
      "Epoch 7/10\n",
      "60000/60000 [==============================] - 80s 1ms/sample - loss: 0.4346 - accuracy: 0.8410 - val_loss: 0.4867 - val_accuracy: 0.8224\n",
      "Epoch 8/10\n",
      "60000/60000 [==============================] - 81s 1ms/sample - loss: 0.4246 - accuracy: 0.8444 - val_loss: 0.4709 - val_accuracy: 0.8362\n",
      "Epoch 9/10\n",
      "60000/60000 [==============================] - 81s 1ms/sample - loss: 0.4165 - accuracy: 0.8463 - val_loss: 0.4683 - val_accuracy: 0.8298\n",
      "Epoch 10/10\n",
      "60000/60000 [==============================] - 81s 1ms/sample - loss: 0.4083 - accuracy: 0.8503 - val_loss: 0.4598 - val_accuracy: 0.8366\n"
     ]
    },
    {
     "data": {
      "text/plain": [
       "<tensorflow.python.keras.callbacks.History at 0x2aed72f171d0>"
      ]
     },
     "execution_count": 14,
     "metadata": {},
     "output_type": "execute_result"
    }
   ],
   "source": [
    "model.fit(\n",
    "    train_images,\n",
    "    train_labels,\n",
    "    epochs=10,\n",
    "    validation_data=(test_images[:half_validate], test_labels[:half_validate]),\n",
    "    callbacks=[tensorboard_callback]\n",
    ")"
   ]
  },
  {
   "cell_type": "code",
   "execution_count": 18,
   "metadata": {},
   "outputs": [
    {
     "name": "stdout",
     "output_type": "stream",
     "text": [
      "Model: \"sequential_1\"\n",
      "_________________________________________________________________\n",
      "Layer (type)                 Output Shape              Param #   \n",
      "=================================================================\n",
      "conv2d (Conv2D)              (None, 26, 26, 32)        320       \n",
      "_________________________________________________________________\n",
      "max_pooling2d (MaxPooling2D) (None, 25, 25, 32)        0         \n",
      "_________________________________________________________________\n",
      "flatten_1 (Flatten)          (None, 20000)             0         \n",
      "_________________________________________________________________\n",
      "dense_2 (Dense)              (None, 400)               8000400   \n",
      "_________________________________________________________________\n",
      "dense_3 (Dense)              (None, 400)               160400    \n",
      "_________________________________________________________________\n",
      "dense_4 (Dense)              (None, 400)               160400    \n",
      "_________________________________________________________________\n",
      "dense_5 (Dense)              (None, 128)               51328     \n",
      "_________________________________________________________________\n",
      "dense_6 (Dense)              (None, 10)                1290      \n",
      "=================================================================\n",
      "Total params: 8,374,138\n",
      "Trainable params: 52,938\n",
      "Non-trainable params: 8,321,200\n",
      "_________________________________________________________________\n",
      "None\n"
     ]
    }
   ],
   "source": [
    "# print(model_dense.summary())\n",
    "# print(model_conv.summary())\n",
    "# print(model_rand.summary())\n",
    "print(model.summary())"
   ]
  },
  {
   "cell_type": "code",
   "execution_count": 120,
   "metadata": {},
   "outputs": [
    {
     "name": "stdout",
     "output_type": "stream",
     "text": [
      "10000/1 - 1s - loss: 0.2883 - accuracy: 0.8707\n",
      "\n",
      "Model1 Test accuracy: 0.8707\n"
     ]
    }
   ],
   "source": [
    "# logdir = \"logs/scalars/\" + datetime.now().strftime(\"%Y%m%d-%H%M%S\")\n",
    "# file_writer = tf.summary.create_file_writer(logdir + \"/metrics\")\n",
    "# file_writer.set_as_default()\n",
    "test_loss, test_acc = model.evaluate(test_images,  test_labels, verbose=2)\n",
    "tf.summary.scalar('test_acc', data=test_acc, step=1)\n",
    "print('\\nModel1 Test accuracy:', test_acc)"
   ]
  },
  {
   "cell_type": "code",
   "execution_count": 68,
   "metadata": {},
   "outputs": [
    {
     "name": "stdout",
     "output_type": "stream",
     "text": [
      "Train on 60000 samples, validate on 5000 samples\n",
      "Epoch 1/10\n",
      "60000/60000 [==============================] - 11s 176us/sample - loss: 0.4962 - accuracy: 0.8260 - val_loss: 0.4226 - val_accuracy: 0.8488\n",
      "Epoch 2/10\n",
      "60000/60000 [==============================] - 9s 147us/sample - loss: 0.3745 - accuracy: 0.8639 - val_loss: 0.4036 - val_accuracy: 0.8528\n",
      "Epoch 3/10\n",
      "60000/60000 [==============================] - 8s 130us/sample - loss: 0.3380 - accuracy: 0.8766 - val_loss: 0.3703 - val_accuracy: 0.8644\n",
      "Epoch 4/10\n",
      "60000/60000 [==============================] - 10s 162us/sample - loss: 0.3108 - accuracy: 0.8860 - val_loss: 0.3473 - val_accuracy: 0.8714\n",
      "Epoch 5/10\n",
      "60000/60000 [==============================] - 11s 178us/sample - loss: 0.2946 - accuracy: 0.8923 - val_loss: 0.3508 - val_accuracy: 0.8690\n",
      "Epoch 6/10\n",
      "25536/60000 [===========>..................] - ETA: 5s - loss: 0.2815 - accuracy: 0.8950"
     ]
    },
    {
     "ename": "KeyboardInterrupt",
     "evalue": "",
     "output_type": "error",
     "traceback": [
      "\u001b[0;31m---------------------------------------------------------------------------\u001b[0m",
      "\u001b[0;31mKeyboardInterrupt\u001b[0m                         Traceback (most recent call last)",
      "\u001b[0;32m<timed exec>\u001b[0m in \u001b[0;36m<module>\u001b[0;34m\u001b[0m\n",
      "\u001b[0;32m/cluster/apps/python/3.7.4_gpu_gcc630/x86_64/lib64/python3.7/site-packages/tensorflow_core/python/keras/engine/training.py\u001b[0m in \u001b[0;36mfit\u001b[0;34m(self, x, y, batch_size, epochs, verbose, callbacks, validation_split, validation_data, shuffle, class_weight, sample_weight, initial_epoch, steps_per_epoch, validation_steps, validation_freq, max_queue_size, workers, use_multiprocessing, **kwargs)\u001b[0m\n\u001b[1;32m    726\u001b[0m         \u001b[0mmax_queue_size\u001b[0m\u001b[0;34m=\u001b[0m\u001b[0mmax_queue_size\u001b[0m\u001b[0;34m,\u001b[0m\u001b[0;34m\u001b[0m\u001b[0;34m\u001b[0m\u001b[0m\n\u001b[1;32m    727\u001b[0m         \u001b[0mworkers\u001b[0m\u001b[0;34m=\u001b[0m\u001b[0mworkers\u001b[0m\u001b[0;34m,\u001b[0m\u001b[0;34m\u001b[0m\u001b[0;34m\u001b[0m\u001b[0m\n\u001b[0;32m--> 728\u001b[0;31m         use_multiprocessing=use_multiprocessing)\n\u001b[0m\u001b[1;32m    729\u001b[0m \u001b[0;34m\u001b[0m\u001b[0m\n\u001b[1;32m    730\u001b[0m   def evaluate(self,\n",
      "\u001b[0;32m/cluster/apps/python/3.7.4_gpu_gcc630/x86_64/lib64/python3.7/site-packages/tensorflow_core/python/keras/engine/training_v2.py\u001b[0m in \u001b[0;36mfit\u001b[0;34m(self, model, x, y, batch_size, epochs, verbose, callbacks, validation_split, validation_data, shuffle, class_weight, sample_weight, initial_epoch, steps_per_epoch, validation_steps, validation_freq, **kwargs)\u001b[0m\n\u001b[1;32m    322\u001b[0m                 \u001b[0mmode\u001b[0m\u001b[0;34m=\u001b[0m\u001b[0mModeKeys\u001b[0m\u001b[0;34m.\u001b[0m\u001b[0mTRAIN\u001b[0m\u001b[0;34m,\u001b[0m\u001b[0;34m\u001b[0m\u001b[0;34m\u001b[0m\u001b[0m\n\u001b[1;32m    323\u001b[0m                 \u001b[0mtraining_context\u001b[0m\u001b[0;34m=\u001b[0m\u001b[0mtraining_context\u001b[0m\u001b[0;34m,\u001b[0m\u001b[0;34m\u001b[0m\u001b[0;34m\u001b[0m\u001b[0m\n\u001b[0;32m--> 324\u001b[0;31m                 total_epochs=epochs)\n\u001b[0m\u001b[1;32m    325\u001b[0m             \u001b[0mcbks\u001b[0m\u001b[0;34m.\u001b[0m\u001b[0mmake_logs\u001b[0m\u001b[0;34m(\u001b[0m\u001b[0mmodel\u001b[0m\u001b[0;34m,\u001b[0m \u001b[0mepoch_logs\u001b[0m\u001b[0;34m,\u001b[0m \u001b[0mtraining_result\u001b[0m\u001b[0;34m,\u001b[0m \u001b[0mModeKeys\u001b[0m\u001b[0;34m.\u001b[0m\u001b[0mTRAIN\u001b[0m\u001b[0;34m)\u001b[0m\u001b[0;34m\u001b[0m\u001b[0;34m\u001b[0m\u001b[0m\n\u001b[1;32m    326\u001b[0m \u001b[0;34m\u001b[0m\u001b[0m\n",
      "\u001b[0;32m/cluster/apps/python/3.7.4_gpu_gcc630/x86_64/lib64/python3.7/site-packages/tensorflow_core/python/keras/engine/training_v2.py\u001b[0m in \u001b[0;36mrun_one_epoch\u001b[0;34m(model, iterator, execution_function, dataset_size, batch_size, strategy, steps_per_epoch, num_samples, mode, training_context, total_epochs)\u001b[0m\n\u001b[1;32m    172\u001b[0m             batch_end=step * batch_size + current_batch_size)\n\u001b[1;32m    173\u001b[0m       \u001b[0mcbks\u001b[0m\u001b[0;34m.\u001b[0m\u001b[0mmake_logs\u001b[0m\u001b[0;34m(\u001b[0m\u001b[0mmodel\u001b[0m\u001b[0;34m,\u001b[0m \u001b[0mbatch_logs\u001b[0m\u001b[0;34m,\u001b[0m \u001b[0mbatch_outs\u001b[0m\u001b[0;34m,\u001b[0m \u001b[0mmode\u001b[0m\u001b[0;34m)\u001b[0m\u001b[0;34m\u001b[0m\u001b[0;34m\u001b[0m\u001b[0m\n\u001b[0;32m--> 174\u001b[0;31m       \u001b[0mstep\u001b[0m \u001b[0;34m+=\u001b[0m \u001b[0;36m1\u001b[0m\u001b[0;34m\u001b[0m\u001b[0;34m\u001b[0m\u001b[0m\n\u001b[0m\u001b[1;32m    175\u001b[0m \u001b[0;34m\u001b[0m\u001b[0m\n\u001b[1;32m    176\u001b[0m     \u001b[0;32mif\u001b[0m \u001b[0mcallbacks\u001b[0m\u001b[0;34m.\u001b[0m\u001b[0mmodel\u001b[0m\u001b[0;34m.\u001b[0m\u001b[0mstop_training\u001b[0m\u001b[0;34m:\u001b[0m\u001b[0;34m\u001b[0m\u001b[0;34m\u001b[0m\u001b[0m\n",
      "\u001b[0;32m/cluster/apps/python/3.7.4_gpu_gcc630/x86_64/lib64/python3.7/contextlib.py\u001b[0m in \u001b[0;36m__exit__\u001b[0;34m(self, type, value, traceback)\u001b[0m\n\u001b[1;32m    117\u001b[0m         \u001b[0;32mif\u001b[0m \u001b[0mtype\u001b[0m \u001b[0;32mis\u001b[0m \u001b[0;32mNone\u001b[0m\u001b[0;34m:\u001b[0m\u001b[0;34m\u001b[0m\u001b[0;34m\u001b[0m\u001b[0m\n\u001b[1;32m    118\u001b[0m             \u001b[0;32mtry\u001b[0m\u001b[0;34m:\u001b[0m\u001b[0;34m\u001b[0m\u001b[0;34m\u001b[0m\u001b[0m\n\u001b[0;32m--> 119\u001b[0;31m                 \u001b[0mnext\u001b[0m\u001b[0;34m(\u001b[0m\u001b[0mself\u001b[0m\u001b[0;34m.\u001b[0m\u001b[0mgen\u001b[0m\u001b[0;34m)\u001b[0m\u001b[0;34m\u001b[0m\u001b[0;34m\u001b[0m\u001b[0m\n\u001b[0m\u001b[1;32m    120\u001b[0m             \u001b[0;32mexcept\u001b[0m \u001b[0mStopIteration\u001b[0m\u001b[0;34m:\u001b[0m\u001b[0;34m\u001b[0m\u001b[0;34m\u001b[0m\u001b[0m\n\u001b[1;32m    121\u001b[0m                 \u001b[0;32mreturn\u001b[0m \u001b[0;32mFalse\u001b[0m\u001b[0;34m\u001b[0m\u001b[0;34m\u001b[0m\u001b[0m\n",
      "\u001b[0;32m/cluster/apps/python/3.7.4_gpu_gcc630/x86_64/lib64/python3.7/site-packages/tensorflow_core/python/keras/engine/training_v2.py\u001b[0m in \u001b[0;36mon_batch\u001b[0;34m(self, step, mode, size)\u001b[0m\n\u001b[1;32m    698\u001b[0m       \u001b[0;32mif\u001b[0m \u001b[0;32mnot\u001b[0m \u001b[0mbatch_logs\u001b[0m\u001b[0;34m.\u001b[0m\u001b[0mpop\u001b[0m\u001b[0;34m(\u001b[0m\u001b[0;34m'data_exhausted'\u001b[0m\u001b[0;34m,\u001b[0m \u001b[0;32mFalse\u001b[0m\u001b[0;34m)\u001b[0m\u001b[0;34m:\u001b[0m\u001b[0;34m\u001b[0m\u001b[0;34m\u001b[0m\u001b[0m\n\u001b[1;32m    699\u001b[0m         self.callbacks._call_batch_hook(\n\u001b[0;32m--> 700\u001b[0;31m             mode, 'end', step, batch_logs)\n\u001b[0m\u001b[1;32m    701\u001b[0m         \u001b[0mself\u001b[0m\u001b[0;34m.\u001b[0m\u001b[0mprogbar\u001b[0m\u001b[0;34m.\u001b[0m\u001b[0mon_batch_end\u001b[0m\u001b[0;34m(\u001b[0m\u001b[0mstep\u001b[0m\u001b[0;34m,\u001b[0m \u001b[0mbatch_logs\u001b[0m\u001b[0;34m)\u001b[0m\u001b[0;34m\u001b[0m\u001b[0;34m\u001b[0m\u001b[0m\n",
      "\u001b[0;32m/cluster/apps/python/3.7.4_gpu_gcc630/x86_64/lib64/python3.7/site-packages/tensorflow_core/python/keras/callbacks.py\u001b[0m in \u001b[0;36m_call_batch_hook\u001b[0;34m(self, mode, hook, batch, logs)\u001b[0m\n\u001b[1;32m    236\u001b[0m     \u001b[0mself\u001b[0m\u001b[0;34m.\u001b[0m\u001b[0m_delta_ts\u001b[0m\u001b[0;34m[\u001b[0m\u001b[0mhook_name\u001b[0m\u001b[0;34m]\u001b[0m\u001b[0;34m.\u001b[0m\u001b[0mappend\u001b[0m\u001b[0;34m(\u001b[0m\u001b[0mtime\u001b[0m\u001b[0;34m.\u001b[0m\u001b[0mtime\u001b[0m\u001b[0;34m(\u001b[0m\u001b[0;34m)\u001b[0m \u001b[0;34m-\u001b[0m \u001b[0mt_before_callbacks\u001b[0m\u001b[0;34m)\u001b[0m\u001b[0;34m\u001b[0m\u001b[0;34m\u001b[0m\u001b[0m\n\u001b[1;32m    237\u001b[0m \u001b[0;34m\u001b[0m\u001b[0m\n\u001b[0;32m--> 238\u001b[0;31m     \u001b[0mdelta_t_median\u001b[0m \u001b[0;34m=\u001b[0m \u001b[0mnp\u001b[0m\u001b[0;34m.\u001b[0m\u001b[0mmedian\u001b[0m\u001b[0;34m(\u001b[0m\u001b[0mself\u001b[0m\u001b[0;34m.\u001b[0m\u001b[0m_delta_ts\u001b[0m\u001b[0;34m[\u001b[0m\u001b[0mhook_name\u001b[0m\u001b[0;34m]\u001b[0m\u001b[0;34m)\u001b[0m\u001b[0;34m\u001b[0m\u001b[0;34m\u001b[0m\u001b[0m\n\u001b[0m\u001b[1;32m    239\u001b[0m     if (self._delta_t_batch > 0. and\n\u001b[1;32m    240\u001b[0m         delta_t_median > 0.95 * self._delta_t_batch and delta_t_median > 0.1):\n",
      "\u001b[0;32m<__array_function__ internals>\u001b[0m in \u001b[0;36mmedian\u001b[0;34m(*args, **kwargs)\u001b[0m\n",
      "\u001b[0;32m/cluster/apps/python/3.7.4_gpu_gcc630/x86_64/lib64/python3.7/site-packages/numpy/lib/function_base.py\u001b[0m in \u001b[0;36mmedian\u001b[0;34m(a, axis, out, overwrite_input, keepdims)\u001b[0m\n\u001b[1;32m   3500\u001b[0m     \"\"\"\n\u001b[1;32m   3501\u001b[0m     r, k = _ureduce(a, func=_median, axis=axis, out=out,\n\u001b[0;32m-> 3502\u001b[0;31m                     overwrite_input=overwrite_input)\n\u001b[0m\u001b[1;32m   3503\u001b[0m     \u001b[0;32mif\u001b[0m \u001b[0mkeepdims\u001b[0m\u001b[0;34m:\u001b[0m\u001b[0;34m\u001b[0m\u001b[0;34m\u001b[0m\u001b[0m\n\u001b[1;32m   3504\u001b[0m         \u001b[0;32mreturn\u001b[0m \u001b[0mr\u001b[0m\u001b[0;34m.\u001b[0m\u001b[0mreshape\u001b[0m\u001b[0;34m(\u001b[0m\u001b[0mk\u001b[0m\u001b[0;34m)\u001b[0m\u001b[0;34m\u001b[0m\u001b[0;34m\u001b[0m\u001b[0m\n",
      "\u001b[0;32m/cluster/apps/python/3.7.4_gpu_gcc630/x86_64/lib64/python3.7/site-packages/numpy/lib/function_base.py\u001b[0m in \u001b[0;36m_ureduce\u001b[0;34m(a, func, **kwargs)\u001b[0m\n\u001b[1;32m   3408\u001b[0m         \u001b[0mkeepdim\u001b[0m \u001b[0;34m=\u001b[0m \u001b[0;34m(\u001b[0m\u001b[0;36m1\u001b[0m\u001b[0;34m,\u001b[0m\u001b[0;34m)\u001b[0m \u001b[0;34m*\u001b[0m \u001b[0ma\u001b[0m\u001b[0;34m.\u001b[0m\u001b[0mndim\u001b[0m\u001b[0;34m\u001b[0m\u001b[0;34m\u001b[0m\u001b[0m\n\u001b[1;32m   3409\u001b[0m \u001b[0;34m\u001b[0m\u001b[0m\n\u001b[0;32m-> 3410\u001b[0;31m     \u001b[0mr\u001b[0m \u001b[0;34m=\u001b[0m \u001b[0mfunc\u001b[0m\u001b[0;34m(\u001b[0m\u001b[0ma\u001b[0m\u001b[0;34m,\u001b[0m \u001b[0;34m**\u001b[0m\u001b[0mkwargs\u001b[0m\u001b[0;34m)\u001b[0m\u001b[0;34m\u001b[0m\u001b[0;34m\u001b[0m\u001b[0m\n\u001b[0m\u001b[1;32m   3411\u001b[0m     \u001b[0;32mreturn\u001b[0m \u001b[0mr\u001b[0m\u001b[0;34m,\u001b[0m \u001b[0mkeepdim\u001b[0m\u001b[0;34m\u001b[0m\u001b[0;34m\u001b[0m\u001b[0m\n\u001b[1;32m   3412\u001b[0m \u001b[0;34m\u001b[0m\u001b[0m\n",
      "\u001b[0;32m/cluster/apps/python/3.7.4_gpu_gcc630/x86_64/lib64/python3.7/site-packages/numpy/lib/function_base.py\u001b[0m in \u001b[0;36m_median\u001b[0;34m(a, axis, out, overwrite_input)\u001b[0m\n\u001b[1;32m   3554\u001b[0m         \u001b[0;31m# warn and return nans like mean would\u001b[0m\u001b[0;34m\u001b[0m\u001b[0;34m\u001b[0m\u001b[0;34m\u001b[0m\u001b[0m\n\u001b[1;32m   3555\u001b[0m         \u001b[0mrout\u001b[0m \u001b[0;34m=\u001b[0m \u001b[0mmean\u001b[0m\u001b[0;34m(\u001b[0m\u001b[0mpart\u001b[0m\u001b[0;34m[\u001b[0m\u001b[0mindexer\u001b[0m\u001b[0;34m]\u001b[0m\u001b[0;34m,\u001b[0m \u001b[0maxis\u001b[0m\u001b[0;34m=\u001b[0m\u001b[0maxis\u001b[0m\u001b[0;34m,\u001b[0m \u001b[0mout\u001b[0m\u001b[0;34m=\u001b[0m\u001b[0mout\u001b[0m\u001b[0;34m)\u001b[0m\u001b[0;34m\u001b[0m\u001b[0;34m\u001b[0m\u001b[0m\n\u001b[0;32m-> 3556\u001b[0;31m         \u001b[0;32mreturn\u001b[0m \u001b[0mnp\u001b[0m\u001b[0;34m.\u001b[0m\u001b[0mlib\u001b[0m\u001b[0;34m.\u001b[0m\u001b[0mutils\u001b[0m\u001b[0;34m.\u001b[0m\u001b[0m_median_nancheck\u001b[0m\u001b[0;34m(\u001b[0m\u001b[0mpart\u001b[0m\u001b[0;34m,\u001b[0m \u001b[0mrout\u001b[0m\u001b[0;34m,\u001b[0m \u001b[0maxis\u001b[0m\u001b[0;34m,\u001b[0m \u001b[0mout\u001b[0m\u001b[0;34m)\u001b[0m\u001b[0;34m\u001b[0m\u001b[0;34m\u001b[0m\u001b[0m\n\u001b[0m\u001b[1;32m   3557\u001b[0m     \u001b[0;32melse\u001b[0m\u001b[0;34m:\u001b[0m\u001b[0;34m\u001b[0m\u001b[0;34m\u001b[0m\u001b[0m\n\u001b[1;32m   3558\u001b[0m         \u001b[0;31m# if there are no nans\u001b[0m\u001b[0;34m\u001b[0m\u001b[0;34m\u001b[0m\u001b[0;34m\u001b[0m\u001b[0m\n",
      "\u001b[0;32m/cluster/apps/python/3.7.4_gpu_gcc630/x86_64/lib64/python3.7/site-packages/numpy/lib/utils.py\u001b[0m in \u001b[0;36m_median_nancheck\u001b[0;34m(data, result, axis, out)\u001b[0m\n\u001b[1;32m   1162\u001b[0m     \u001b[0;32mif\u001b[0m \u001b[0mdata\u001b[0m\u001b[0;34m.\u001b[0m\u001b[0msize\u001b[0m \u001b[0;34m==\u001b[0m \u001b[0;36m0\u001b[0m\u001b[0;34m:\u001b[0m\u001b[0;34m\u001b[0m\u001b[0;34m\u001b[0m\u001b[0m\n\u001b[1;32m   1163\u001b[0m         \u001b[0;32mreturn\u001b[0m \u001b[0mresult\u001b[0m\u001b[0;34m\u001b[0m\u001b[0;34m\u001b[0m\u001b[0m\n\u001b[0;32m-> 1164\u001b[0;31m     \u001b[0mdata\u001b[0m \u001b[0;34m=\u001b[0m \u001b[0mnp\u001b[0m\u001b[0;34m.\u001b[0m\u001b[0mmoveaxis\u001b[0m\u001b[0;34m(\u001b[0m\u001b[0mdata\u001b[0m\u001b[0;34m,\u001b[0m \u001b[0maxis\u001b[0m\u001b[0;34m,\u001b[0m \u001b[0;34m-\u001b[0m\u001b[0;36m1\u001b[0m\u001b[0;34m)\u001b[0m\u001b[0;34m\u001b[0m\u001b[0;34m\u001b[0m\u001b[0m\n\u001b[0m\u001b[1;32m   1165\u001b[0m     \u001b[0mn\u001b[0m \u001b[0;34m=\u001b[0m \u001b[0mnp\u001b[0m\u001b[0;34m.\u001b[0m\u001b[0misnan\u001b[0m\u001b[0;34m(\u001b[0m\u001b[0mdata\u001b[0m\u001b[0;34m[\u001b[0m\u001b[0;34m...\u001b[0m\u001b[0;34m,\u001b[0m \u001b[0;34m-\u001b[0m\u001b[0;36m1\u001b[0m\u001b[0;34m]\u001b[0m\u001b[0;34m)\u001b[0m\u001b[0;34m\u001b[0m\u001b[0;34m\u001b[0m\u001b[0m\n\u001b[1;32m   1166\u001b[0m     \u001b[0;31m# masked NaN values are ok\u001b[0m\u001b[0;34m\u001b[0m\u001b[0;34m\u001b[0m\u001b[0;34m\u001b[0m\u001b[0m\n",
      "\u001b[0;32m<__array_function__ internals>\u001b[0m in \u001b[0;36mmoveaxis\u001b[0;34m(*args, **kwargs)\u001b[0m\n",
      "\u001b[0;32m/cluster/apps/python/3.7.4_gpu_gcc630/x86_64/lib64/python3.7/site-packages/numpy/core/numeric.py\u001b[0m in \u001b[0;36mmoveaxis\u001b[0;34m(a, source, destination)\u001b[0m\n\u001b[1;32m   1391\u001b[0m         \u001b[0mtranspose\u001b[0m \u001b[0;34m=\u001b[0m \u001b[0ma\u001b[0m\u001b[0;34m.\u001b[0m\u001b[0mtranspose\u001b[0m\u001b[0;34m\u001b[0m\u001b[0;34m\u001b[0m\u001b[0m\n\u001b[1;32m   1392\u001b[0m \u001b[0;34m\u001b[0m\u001b[0m\n\u001b[0;32m-> 1393\u001b[0;31m     \u001b[0msource\u001b[0m \u001b[0;34m=\u001b[0m \u001b[0mnormalize_axis_tuple\u001b[0m\u001b[0;34m(\u001b[0m\u001b[0msource\u001b[0m\u001b[0;34m,\u001b[0m \u001b[0ma\u001b[0m\u001b[0;34m.\u001b[0m\u001b[0mndim\u001b[0m\u001b[0;34m,\u001b[0m \u001b[0;34m'source'\u001b[0m\u001b[0;34m)\u001b[0m\u001b[0;34m\u001b[0m\u001b[0;34m\u001b[0m\u001b[0m\n\u001b[0m\u001b[1;32m   1394\u001b[0m     \u001b[0mdestination\u001b[0m \u001b[0;34m=\u001b[0m \u001b[0mnormalize_axis_tuple\u001b[0m\u001b[0;34m(\u001b[0m\u001b[0mdestination\u001b[0m\u001b[0;34m,\u001b[0m \u001b[0ma\u001b[0m\u001b[0;34m.\u001b[0m\u001b[0mndim\u001b[0m\u001b[0;34m,\u001b[0m \u001b[0;34m'destination'\u001b[0m\u001b[0;34m)\u001b[0m\u001b[0;34m\u001b[0m\u001b[0;34m\u001b[0m\u001b[0m\n\u001b[1;32m   1395\u001b[0m     \u001b[0;32mif\u001b[0m \u001b[0mlen\u001b[0m\u001b[0;34m(\u001b[0m\u001b[0msource\u001b[0m\u001b[0;34m)\u001b[0m \u001b[0;34m!=\u001b[0m \u001b[0mlen\u001b[0m\u001b[0;34m(\u001b[0m\u001b[0mdestination\u001b[0m\u001b[0;34m)\u001b[0m\u001b[0;34m:\u001b[0m\u001b[0;34m\u001b[0m\u001b[0;34m\u001b[0m\u001b[0m\n",
      "\u001b[0;32m/cluster/apps/python/3.7.4_gpu_gcc630/x86_64/lib64/python3.7/site-packages/numpy/core/numeric.py\u001b[0m in \u001b[0;36mnormalize_axis_tuple\u001b[0;34m(axis, ndim, argname, allow_duplicate)\u001b[0m\n\u001b[1;32m   1322\u001b[0m     \u001b[0;31m# Going via an iterator directly is slower than via list comprehension.\u001b[0m\u001b[0;34m\u001b[0m\u001b[0;34m\u001b[0m\u001b[0;34m\u001b[0m\u001b[0m\n\u001b[1;32m   1323\u001b[0m     \u001b[0maxis\u001b[0m \u001b[0;34m=\u001b[0m \u001b[0mtuple\u001b[0m\u001b[0;34m(\u001b[0m\u001b[0;34m[\u001b[0m\u001b[0mnormalize_axis_index\u001b[0m\u001b[0;34m(\u001b[0m\u001b[0max\u001b[0m\u001b[0;34m,\u001b[0m \u001b[0mndim\u001b[0m\u001b[0;34m,\u001b[0m \u001b[0margname\u001b[0m\u001b[0;34m)\u001b[0m \u001b[0;32mfor\u001b[0m \u001b[0max\u001b[0m \u001b[0;32min\u001b[0m \u001b[0maxis\u001b[0m\u001b[0;34m]\u001b[0m\u001b[0;34m)\u001b[0m\u001b[0;34m\u001b[0m\u001b[0;34m\u001b[0m\u001b[0m\n\u001b[0;32m-> 1324\u001b[0;31m     \u001b[0;32mif\u001b[0m \u001b[0;32mnot\u001b[0m \u001b[0mallow_duplicate\u001b[0m \u001b[0;32mand\u001b[0m \u001b[0mlen\u001b[0m\u001b[0;34m(\u001b[0m\u001b[0mset\u001b[0m\u001b[0;34m(\u001b[0m\u001b[0maxis\u001b[0m\u001b[0;34m)\u001b[0m\u001b[0;34m)\u001b[0m \u001b[0;34m!=\u001b[0m \u001b[0mlen\u001b[0m\u001b[0;34m(\u001b[0m\u001b[0maxis\u001b[0m\u001b[0;34m)\u001b[0m\u001b[0;34m:\u001b[0m\u001b[0;34m\u001b[0m\u001b[0;34m\u001b[0m\u001b[0m\n\u001b[0m\u001b[1;32m   1325\u001b[0m         \u001b[0;32mif\u001b[0m \u001b[0margname\u001b[0m\u001b[0;34m:\u001b[0m\u001b[0;34m\u001b[0m\u001b[0;34m\u001b[0m\u001b[0m\n\u001b[1;32m   1326\u001b[0m             \u001b[0;32mraise\u001b[0m \u001b[0mValueError\u001b[0m\u001b[0;34m(\u001b[0m\u001b[0;34m'repeated axis in `{}` argument'\u001b[0m\u001b[0;34m.\u001b[0m\u001b[0mformat\u001b[0m\u001b[0;34m(\u001b[0m\u001b[0margname\u001b[0m\u001b[0;34m)\u001b[0m\u001b[0;34m)\u001b[0m\u001b[0;34m\u001b[0m\u001b[0;34m\u001b[0m\u001b[0m\n",
      "\u001b[0;31mKeyboardInterrupt\u001b[0m: "
     ]
    }
   ],
   "source": [
    "%%time\n",
    "model_dense = get_model_dense()\n",
    "log_dir=\"logs/fit/dense/\" + datetime.datetime.now().strftime(\"%Y%m%d-%H%M%S\")\n",
    "tensorboard_callback = tf.keras.callbacks.TensorBoard(log_dir=log_dir, histogram_freq=1)\n",
    "model_dense.compile(optimizer='adam',\n",
    "              loss='sparse_categorical_crossentropy',\n",
    "              metrics=['accuracy'])\n",
    "model_dense.fit(train_images, train_labels, epochs=10,\n",
    "                validation_data=(test_images[:half_validate], test_labels[:half_validate]), callbacks=[tensorboard_callback])"
   ]
  },
  {
   "cell_type": "code",
   "execution_count": 132,
   "metadata": {},
   "outputs": [
    {
     "name": "stdout",
     "output_type": "stream",
     "text": [
      "Train on 60000 samples, validate on 10000 samples\n",
      "Epoch 1/10\n",
      "60000/60000 [==============================] - 38s 638us/sample - loss: 0.3879 - accuracy: 0.8613 - val_loss: 0.3156 - val_accuracy: 0.8854\n",
      "Epoch 2/10\n",
      "60000/60000 [==============================] - 38s 626us/sample - loss: 0.2528 - accuracy: 0.9066 - val_loss: 0.2864 - val_accuracy: 0.8964\n",
      "Epoch 3/10\n",
      "60000/60000 [==============================] - 38s 629us/sample - loss: 0.2031 - accuracy: 0.9244 - val_loss: 0.2751 - val_accuracy: 0.9000\n",
      "Epoch 4/10\n",
      "60000/60000 [==============================] - 38s 637us/sample - loss: 0.1640 - accuracy: 0.9392 - val_loss: 0.2864 - val_accuracy: 0.9038\n",
      "Epoch 5/10\n",
      "60000/60000 [==============================] - 38s 629us/sample - loss: 0.1337 - accuracy: 0.9500 - val_loss: 0.2941 - val_accuracy: 0.9088\n",
      "Epoch 6/10\n",
      "60000/60000 [==============================] - 37s 625us/sample - loss: 0.1048 - accuracy: 0.9618 - val_loss: 0.3014 - val_accuracy: 0.9093\n",
      "Epoch 7/10\n",
      "60000/60000 [==============================] - 37s 622us/sample - loss: 0.0824 - accuracy: 0.9694 - val_loss: 0.3408 - val_accuracy: 0.9096\n",
      "Epoch 8/10\n",
      "60000/60000 [==============================] - 37s 617us/sample - loss: 0.0665 - accuracy: 0.9759 - val_loss: 0.3754 - val_accuracy: 0.9075\n",
      "Epoch 9/10\n",
      "60000/60000 [==============================] - 37s 617us/sample - loss: 0.0520 - accuracy: 0.9811 - val_loss: 0.4061 - val_accuracy: 0.9090\n",
      "Epoch 10/10\n",
      "60000/60000 [==============================] - 38s 626us/sample - loss: 0.0426 - accuracy: 0.9848 - val_loss: 0.4226 - val_accuracy: 0.9048\n",
      "CPU times: user 26min 24s, sys: 2min 58s, total: 29min 23s\n",
      "Wall time: 6min 17s\n"
     ]
    },
    {
     "data": {
      "text/plain": [
       "<tensorflow.python.keras.callbacks.History at 0x2b3fcea79c50>"
      ]
     },
     "execution_count": 132,
     "metadata": {},
     "output_type": "execute_result"
    }
   ],
   "source": [
    "%%time\n",
    "model_conv = get_model_basic_conv()\n",
    "log_dir=\"logs/fit/conv/\" + datetime.datetime.now().strftime(\"%Y%m%d-%H%M%S\")\n",
    "tensorboard_callback = tf.keras.callbacks.TensorBoard(log_dir=log_dir, histogram_freq=1)\n",
    "model_conv.compile(optimizer='adam',\n",
    "              loss='sparse_categorical_crossentropy',\n",
    "              metrics=['accuracy'])\n",
    "model_conv.fit(train_images, train_labels, epochs=10, validation_data=(test_images[:half_validate], test_labels[:half_validate]), callbacks=[tensorboard_callback])"
   ]
  },
  {
   "cell_type": "code",
   "execution_count": 133,
   "metadata": {},
   "outputs": [
    {
     "name": "stdout",
     "output_type": "stream",
     "text": [
      "Train on 60000 samples, validate on 10000 samples\n",
      "Epoch 1/10\n",
      "60000/60000 [==============================] - 37s 614us/sample - loss: 0.6189 - accuracy: 0.7787 - val_loss: 0.5145 - val_accuracy: 0.8213\n",
      "Epoch 2/10\n",
      "60000/60000 [==============================] - 36s 599us/sample - loss: 0.4564 - accuracy: 0.8364 - val_loss: 0.4559 - val_accuracy: 0.8372\n",
      "Epoch 3/10\n",
      "60000/60000 [==============================] - 35s 586us/sample - loss: 0.4183 - accuracy: 0.8500 - val_loss: 0.4355 - val_accuracy: 0.8431\n",
      "Epoch 4/10\n",
      "60000/60000 [==============================] - 36s 593us/sample - loss: 0.3907 - accuracy: 0.8584 - val_loss: 0.4117 - val_accuracy: 0.8537\n",
      "Epoch 5/10\n",
      "60000/60000 [==============================] - 36s 601us/sample - loss: 0.3734 - accuracy: 0.8640 - val_loss: 0.4003 - val_accuracy: 0.8519\n",
      "Epoch 6/10\n",
      "60000/60000 [==============================] - 36s 606us/sample - loss: 0.3579 - accuracy: 0.8699 - val_loss: 0.3999 - val_accuracy: 0.8560\n",
      "Epoch 7/10\n",
      "60000/60000 [==============================] - 36s 604us/sample - loss: 0.3446 - accuracy: 0.8733 - val_loss: 0.3794 - val_accuracy: 0.8621\n",
      "Epoch 8/10\n",
      "60000/60000 [==============================] - 36s 600us/sample - loss: 0.3364 - accuracy: 0.8766 - val_loss: 0.3788 - val_accuracy: 0.8640\n",
      "Epoch 9/10\n",
      "60000/60000 [==============================] - 36s 604us/sample - loss: 0.3262 - accuracy: 0.8795 - val_loss: 0.3674 - val_accuracy: 0.8688\n",
      "Epoch 10/10\n",
      "60000/60000 [==============================] - 36s 601us/sample - loss: 0.3178 - accuracy: 0.8839 - val_loss: 0.3617 - val_accuracy: 0.8695\n",
      "CPU times: user 25min 59s, sys: 46.3 s, total: 26min 45s\n",
      "Wall time: 6min 1s\n"
     ]
    },
    {
     "data": {
      "text/plain": [
       "<tensorflow.python.keras.callbacks.History at 0x2b3fdf956850>"
      ]
     },
     "execution_count": 133,
     "metadata": {},
     "output_type": "execute_result"
    }
   ],
   "source": [
    "%%time\n",
    "model_rand = get_model_basic_rand()\n",
    "log_dir=\"logs/fit/rand/\" + datetime.datetime.now().strftime(\"%Y%m%d-%H%M%S\")\n",
    "tensorboard_callback = tf.keras.callbacks.TensorBoard(log_dir=log_dir, histogram_freq=1)\n",
    "model_rand.compile(optimizer='adam',\n",
    "              loss='sparse_categorical_crossentropy',\n",
    "              metrics=['accuracy'])\n",
    "model_rand.fit(train_images, train_labels, epochs=10, validation_data=(test_images[:half_validate], test_labels[:half_validate]), callbacks=[tensorboard_callback])"
   ]
  },
  {
   "cell_type": "code",
   "execution_count": 135,
   "metadata": {},
   "outputs": [
    {
     "name": "stdout",
     "output_type": "stream",
     "text": [
      "Train on 60000 samples, validate on 10000 samples\n",
      "Epoch 1/10\n",
      "60000/60000 [==============================] - 113s 2ms/sample - loss: 0.4958 - accuracy: 0.8226 - val_loss: 0.4032 - val_accuracy: 0.8556\n",
      "Epoch 2/10\n",
      "60000/60000 [==============================] - 112s 2ms/sample - loss: 0.3458 - accuracy: 0.8759 - val_loss: 0.3444 - val_accuracy: 0.8759\n",
      "Epoch 3/10\n",
      "60000/60000 [==============================] - 112s 2ms/sample - loss: 0.3005 - accuracy: 0.8905 - val_loss: 0.3164 - val_accuracy: 0.8854\n",
      "Epoch 4/10\n",
      "60000/60000 [==============================] - 112s 2ms/sample - loss: 0.2712 - accuracy: 0.9012 - val_loss: 0.3131 - val_accuracy: 0.8854\n",
      "Epoch 5/10\n",
      "60000/60000 [==============================] - 112s 2ms/sample - loss: 0.2490 - accuracy: 0.9084 - val_loss: 0.3008 - val_accuracy: 0.8930\n",
      "Epoch 6/10\n",
      "60000/60000 [==============================] - 112s 2ms/sample - loss: 0.2297 - accuracy: 0.9141 - val_loss: 0.2938 - val_accuracy: 0.8939\n",
      "Epoch 7/10\n",
      "60000/60000 [==============================] - 112s 2ms/sample - loss: 0.2133 - accuracy: 0.9208 - val_loss: 0.2863 - val_accuracy: 0.8993\n",
      "Epoch 8/10\n",
      "60000/60000 [==============================] - 112s 2ms/sample - loss: 0.1963 - accuracy: 0.9263 - val_loss: 0.2923 - val_accuracy: 0.8991\n",
      "Epoch 9/10\n",
      "60000/60000 [==============================] - 112s 2ms/sample - loss: 0.1835 - accuracy: 0.9310 - val_loss: 0.3046 - val_accuracy: 0.8952\n",
      "Epoch 10/10\n",
      "60000/60000 [==============================] - 112s 2ms/sample - loss: 0.1682 - accuracy: 0.9362 - val_loss: 0.3100 - val_accuracy: 0.8993\n",
      "CPU times: user 1h 55min 14s, sys: 1min 24s, total: 1h 56min 39s\n",
      "Wall time: 18min 42s\n"
     ]
    },
    {
     "data": {
      "text/plain": [
       "<tensorflow.python.keras.callbacks.History at 0x2b3fe104c1d0>"
      ]
     },
     "execution_count": 135,
     "metadata": {},
     "output_type": "execute_result"
    }
   ],
   "source": [
    "%%time\n",
    "model_rand2 = get_model_basic_rand2()\n",
    "log_dir=\"logs/fit/rand2/\" + datetime.datetime.now().strftime(\"%Y%m%d-%H%M%S\")\n",
    "tensorboard_callback = tf.keras.callbacks.TensorBoard(log_dir=log_dir, histogram_freq=1)\n",
    "model_rand2.compile(optimizer='adam',\n",
    "              loss='sparse_categorical_crossentropy',\n",
    "              metrics=['accuracy'])\n",
    "model_rand2.fit(train_images, train_labels, epochs=10, validation_data=(test_images[:half_validate], test_labels[:half_validate]), callbacks=[tensorboard_callback])"
   ]
  },
  {
   "cell_type": "code",
   "execution_count": 75,
   "metadata": {},
   "outputs": [
    {
     "name": "stdout",
     "output_type": "stream",
     "text": [
      "10000/1 - 1s - loss: 0.2323 - accuracy: 0.8807\n",
      "\n",
      "Model_dense Test accuracy: 0.8807\n"
     ]
    }
   ],
   "source": [
    "test_loss, test_acc = model_dense.evaluate(test_images,  test_labels, verbose=2)\n",
    "print('\\nModel_dense Test accuracy:', test_acc)"
   ]
  },
  {
   "cell_type": "code",
   "execution_count": 72,
   "metadata": {},
   "outputs": [
    {
     "name": "stdout",
     "output_type": "stream",
     "text": [
      "10000/1 - 2s - loss: 0.9359 - accuracy: 0.9062\n",
      "\n",
      "Model_cov Test accuracy: 0.9062\n"
     ]
    }
   ],
   "source": [
    "test_loss, test_acc = model_conv.evaluate(test_images,  test_labels, verbose=2)\n",
    "print('\\nModel_cov Test accuracy:', test_acc)"
   ]
  },
  {
   "cell_type": "code",
   "execution_count": 76,
   "metadata": {},
   "outputs": [
    {
     "name": "stdout",
     "output_type": "stream",
     "text": [
      "10000/1 - 2s - loss: 0.2533 - accuracy: 0.8650\n",
      "\n",
      "Model_rand Test accuracy: 0.865\n"
     ]
    }
   ],
   "source": [
    "test_loss, test_acc = model_rand.evaluate(test_images,  test_labels, verbose=2)\n",
    "print('\\nModel_rand Test accuracy:', test_acc)"
   ]
  },
  {
   "cell_type": "code",
   "execution_count": 9,
   "metadata": {},
   "outputs": [
    {
     "name": "stdout",
     "output_type": "stream",
     "text": [
      "10000/1 - 7s - loss: 0.2464 - accuracy: 0.9009\n",
      "\n",
      "Model_rand Test accuracy: 0.9009\n"
     ]
    }
   ],
   "source": [
    "test_loss, test_acc = model_rand2.evaluate(test_images,  test_labels, verbose=2)\n",
    "print('\\nModel_rand Test accuracy:', test_acc)"
   ]
  },
  {
   "cell_type": "code",
   "execution_count": 74,
   "metadata": {},
   "outputs": [
    {
     "ename": "NameError",
     "evalue": "name 'X_train' is not defined",
     "output_type": "error",
     "traceback": [
      "\u001b[0;31m---------------------------------------------------------------------------\u001b[0m",
      "\u001b[0;31mNameError\u001b[0m                                 Traceback (most recent call last)",
      "\u001b[0;32m<ipython-input-74-65cc43a1f294>\u001b[0m in \u001b[0;36m<module>\u001b[0;34m\u001b[0m\n\u001b[0;32m----> 1\u001b[0;31m \u001b[0mprint\u001b[0m\u001b[0;34m(\u001b[0m\u001b[0;34m\"New train data shape: {} | test data: {}\"\u001b[0m\u001b[0;34m.\u001b[0m\u001b[0mformat\u001b[0m\u001b[0;34m(\u001b[0m\u001b[0mX_train\u001b[0m\u001b[0;34m.\u001b[0m\u001b[0mshape\u001b[0m\u001b[0;34m,\u001b[0m \u001b[0mX_test\u001b[0m\u001b[0;34m.\u001b[0m\u001b[0mshape\u001b[0m\u001b[0;34m)\u001b[0m\u001b[0;34m)\u001b[0m\u001b[0;34m\u001b[0m\u001b[0;34m\u001b[0m\u001b[0m\n\u001b[0m",
      "\u001b[0;31mNameError\u001b[0m: name 'X_train' is not defined"
     ]
    }
   ],
   "source": [
    "print(\"New train data shape: {} | test data: {}\".format(X_train.shape, X_test.shape))\n"
   ]
  },
  {
   "cell_type": "code",
   "execution_count": 23,
   "metadata": {},
   "outputs": [
    {
     "data": {
      "text/plain": [
       "28"
      ]
     },
     "execution_count": 23,
     "metadata": {},
     "output_type": "execute_result"
    }
   ],
   "source": [
    "train_images[0].shape[0]"
   ]
  },
  {
   "cell_type": "code",
   "execution_count": 47,
   "metadata": {},
   "outputs": [
    {
     "data": {
      "text/plain": [
       "(60000, 28, 28, 1)"
      ]
     },
     "execution_count": 47,
     "metadata": {},
     "output_type": "execute_result"
    }
   ],
   "source": [
    "train_images.shape"
   ]
  },
  {
   "cell_type": "code",
   "execution_count": 83,
   "metadata": {},
   "outputs": [],
   "source": [
    "models = [\n",
    "    [(\"dense\", get_model_dense()), (\"dense2\", get_model_dense2()), (\"dense3\", get_model_dense3())],\n",
    "    [(\"conv\", get_model_basic_conv()), (\"conv2\", get_model_basic_conv2()), (\"conv3\", get_model_basic_conv3())],\n",
    "    [(\"rand\", get_model_basic_rand()), (\"rand2\", get_model_basic_rand2()), (\"rand3\", get_model_basic_rand3())]\n",
    "#     (\"rand2\", get_model_basic_rand2()),\n",
    "#     (\"rand3\", get_model_basic_rand3())\n",
    "]"
   ]
  },
  {
   "cell_type": "code",
   "execution_count": 84,
   "metadata": {},
   "outputs": [],
   "source": [
    "for model_type in models:\n",
    "    for _, model in model_type:\n",
    "        model.compile(\n",
    "            optimizer='adam',\n",
    "            loss='sparse_categorical_crossentropy',\n",
    "            metrics=['accuracy']\n",
    "        )"
   ]
  },
  {
   "cell_type": "code",
   "execution_count": 85,
   "metadata": {
    "scrolled": true
   },
   "outputs": [
    {
     "name": "stdout",
     "output_type": "stream",
     "text": [
      "Train on 60000 samples, validate on 5000 samples\n",
      "Epoch 1/100\n",
      "60000/60000 [==============================] - 7s 117us/sample - loss: 0.5024 - accuracy: 0.8236 - val_loss: 0.4480 - val_accuracy: 0.8396\n",
      "Epoch 2/100\n",
      "60000/60000 [==============================] - 6s 103us/sample - loss: 0.3805 - accuracy: 0.8633 - val_loss: 0.3840 - val_accuracy: 0.8634\n",
      "Epoch 3/100\n",
      "60000/60000 [==============================] - 6s 103us/sample - loss: 0.3388 - accuracy: 0.8771 - val_loss: 0.4029 - val_accuracy: 0.8578\n",
      "Epoch 4/100\n",
      "60000/60000 [==============================] - 6s 104us/sample - loss: 0.3154 - accuracy: 0.8838 - val_loss: 0.3676 - val_accuracy: 0.8614\n",
      "Epoch 5/100\n",
      "60000/60000 [==============================] - 7s 110us/sample - loss: 0.2950 - accuracy: 0.8911 - val_loss: 0.3807 - val_accuracy: 0.8650\n",
      "Epoch 6/100\n",
      "60000/60000 [==============================] - 6s 102us/sample - loss: 0.2830 - accuracy: 0.8949 - val_loss: 0.3507 - val_accuracy: 0.8740\n",
      "Epoch 7/100\n",
      "60000/60000 [==============================] - 6s 103us/sample - loss: 0.2704 - accuracy: 0.9006 - val_loss: 0.3488 - val_accuracy: 0.8762\n",
      "Epoch 8/100\n",
      "60000/60000 [==============================] - 6s 103us/sample - loss: 0.2570 - accuracy: 0.9043 - val_loss: 0.3409 - val_accuracy: 0.8826\n",
      "Epoch 9/100\n",
      "60000/60000 [==============================] - 6s 103us/sample - loss: 0.2485 - accuracy: 0.9074 - val_loss: 0.3450 - val_accuracy: 0.8776\n",
      "Epoch 10/100\n",
      "60000/60000 [==============================] - 6s 104us/sample - loss: 0.2414 - accuracy: 0.9094 - val_loss: 0.3357 - val_accuracy: 0.8828\n",
      "Epoch 11/100\n",
      "60000/60000 [==============================] - 6s 104us/sample - loss: 0.2330 - accuracy: 0.9126 - val_loss: 0.3494 - val_accuracy: 0.8780\n",
      "Epoch 12/100\n",
      "60000/60000 [==============================] - 6s 103us/sample - loss: 0.2258 - accuracy: 0.9159 - val_loss: 0.3421 - val_accuracy: 0.8842\n",
      "Epoch 13/100\n",
      "60000/60000 [==============================] - 6s 104us/sample - loss: 0.2196 - accuracy: 0.9190 - val_loss: 0.3483 - val_accuracy: 0.8804\n",
      "Epoch 14/100\n",
      "60000/60000 [==============================] - 6s 107us/sample - loss: 0.2123 - accuracy: 0.9202 - val_loss: 0.3659 - val_accuracy: 0.8810\n",
      "Epoch 15/100\n",
      "60000/60000 [==============================] - 6s 103us/sample - loss: 0.2052 - accuracy: 0.9233 - val_loss: 0.3548 - val_accuracy: 0.8820\n",
      "Train on 60000 samples, validate on 5000 samples\n",
      "Epoch 1/100\n",
      "60000/60000 [==============================] - 6s 97us/sample - loss: 0.6018 - accuracy: 0.7978 - val_loss: 0.4992 - val_accuracy: 0.8334\n",
      "Epoch 2/100\n",
      "60000/60000 [==============================] - 5s 84us/sample - loss: 0.4612 - accuracy: 0.8416 - val_loss: 0.4732 - val_accuracy: 0.8388\n",
      "Epoch 3/100\n",
      "60000/60000 [==============================] - 5s 85us/sample - loss: 0.4355 - accuracy: 0.8500 - val_loss: 0.4529 - val_accuracy: 0.8468\n",
      "Epoch 4/100\n",
      "60000/60000 [==============================] - 5s 85us/sample - loss: 0.4225 - accuracy: 0.8536 - val_loss: 0.4468 - val_accuracy: 0.8484\n",
      "Epoch 5/100\n",
      "60000/60000 [==============================] - 5s 85us/sample - loss: 0.4133 - accuracy: 0.8582 - val_loss: 0.4466 - val_accuracy: 0.8470\n",
      "Epoch 6/100\n",
      "60000/60000 [==============================] - 5s 85us/sample - loss: 0.4068 - accuracy: 0.8588 - val_loss: 0.4469 - val_accuracy: 0.8470\n",
      "Epoch 7/100\n",
      "60000/60000 [==============================] - 5s 84us/sample - loss: 0.4029 - accuracy: 0.8597 - val_loss: 0.4368 - val_accuracy: 0.8522\n",
      "Epoch 8/100\n",
      "60000/60000 [==============================] - 5s 86us/sample - loss: 0.3981 - accuracy: 0.8618 - val_loss: 0.4453 - val_accuracy: 0.8462\n",
      "Epoch 9/100\n",
      "60000/60000 [==============================] - 5s 87us/sample - loss: 0.3950 - accuracy: 0.8623 - val_loss: 0.4502 - val_accuracy: 0.8430\n",
      "Epoch 10/100\n",
      "60000/60000 [==============================] - 5s 85us/sample - loss: 0.3927 - accuracy: 0.8627 - val_loss: 0.4339 - val_accuracy: 0.8520\n",
      "Epoch 11/100\n",
      "60000/60000 [==============================] - 5s 85us/sample - loss: 0.3899 - accuracy: 0.8635 - val_loss: 0.4491 - val_accuracy: 0.8466\n",
      "Epoch 12/100\n",
      "60000/60000 [==============================] - 5s 83us/sample - loss: 0.3873 - accuracy: 0.8649 - val_loss: 0.4477 - val_accuracy: 0.8462\n",
      "Epoch 13/100\n",
      "60000/60000 [==============================] - 5s 85us/sample - loss: 0.3851 - accuracy: 0.8656 - val_loss: 0.4430 - val_accuracy: 0.8468\n",
      "Epoch 14/100\n",
      "60000/60000 [==============================] - 5s 83us/sample - loss: 0.3845 - accuracy: 0.8662 - val_loss: 0.4428 - val_accuracy: 0.8454\n",
      "Epoch 15/100\n",
      "60000/60000 [==============================] - 5s 86us/sample - loss: 0.3827 - accuracy: 0.8663 - val_loss: 0.4352 - val_accuracy: 0.8486\n",
      "Train on 60000 samples, validate on 5000 samples\n",
      "Epoch 1/100\n",
      "60000/60000 [==============================] - 9s 153us/sample - loss: 0.4729 - accuracy: 0.8298 - val_loss: 0.4144 - val_accuracy: 0.8526\n",
      "Epoch 2/100\n",
      "60000/60000 [==============================] - 9s 143us/sample - loss: 0.3566 - accuracy: 0.8687 - val_loss: 0.3795 - val_accuracy: 0.8630\n",
      "Epoch 3/100\n",
      "60000/60000 [==============================] - 9s 147us/sample - loss: 0.3241 - accuracy: 0.8790 - val_loss: 0.3636 - val_accuracy: 0.8654\n",
      "Epoch 4/100\n",
      "60000/60000 [==============================] - 9s 143us/sample - loss: 0.2990 - accuracy: 0.8889 - val_loss: 0.3630 - val_accuracy: 0.8684\n",
      "Epoch 5/100\n",
      "60000/60000 [==============================] - 9s 144us/sample - loss: 0.2824 - accuracy: 0.8939 - val_loss: 0.3427 - val_accuracy: 0.8778\n",
      "Epoch 6/100\n",
      "60000/60000 [==============================] - 8s 141us/sample - loss: 0.2665 - accuracy: 0.8998 - val_loss: 0.3519 - val_accuracy: 0.8722\n",
      "Epoch 7/100\n",
      "60000/60000 [==============================] - 9s 144us/sample - loss: 0.2538 - accuracy: 0.9050 - val_loss: 0.3630 - val_accuracy: 0.8758\n",
      "Epoch 8/100\n",
      "60000/60000 [==============================] - 9s 142us/sample - loss: 0.2423 - accuracy: 0.9079 - val_loss: 0.3281 - val_accuracy: 0.8782\n",
      "Epoch 9/100\n",
      "60000/60000 [==============================] - 8s 139us/sample - loss: 0.2337 - accuracy: 0.9114 - val_loss: 0.3502 - val_accuracy: 0.8796\n",
      "Epoch 10/100\n",
      "60000/60000 [==============================] - 9s 148us/sample - loss: 0.2245 - accuracy: 0.9144 - val_loss: 0.3520 - val_accuracy: 0.8784\n",
      "Epoch 11/100\n",
      "60000/60000 [==============================] - 9s 144us/sample - loss: 0.2160 - accuracy: 0.9173 - val_loss: 0.3573 - val_accuracy: 0.8830\n",
      "Epoch 12/100\n",
      "60000/60000 [==============================] - 8s 141us/sample - loss: 0.2078 - accuracy: 0.9208 - val_loss: 0.3744 - val_accuracy: 0.8814\n",
      "Epoch 13/100\n",
      "60000/60000 [==============================] - 9s 143us/sample - loss: 0.2000 - accuracy: 0.9233 - val_loss: 0.3760 - val_accuracy: 0.8802\n",
      "Train on 60000 samples, validate on 5000 samples\n",
      "Epoch 1/100\n",
      "60000/60000 [==============================] - 38s 638us/sample - loss: 0.3831 - accuracy: 0.8624 - val_loss: 0.3177 - val_accuracy: 0.8870\n",
      "Epoch 2/100\n",
      "60000/60000 [==============================] - 38s 630us/sample - loss: 0.2507 - accuracy: 0.9079 - val_loss: 0.2831 - val_accuracy: 0.8994\n",
      "Epoch 3/100\n",
      "60000/60000 [==============================] - 38s 637us/sample - loss: 0.1953 - accuracy: 0.9279 - val_loss: 0.2931 - val_accuracy: 0.8970\n",
      "Epoch 4/100\n",
      "60000/60000 [==============================] - 39s 644us/sample - loss: 0.1540 - accuracy: 0.9434 - val_loss: 0.3181 - val_accuracy: 0.8976\n",
      "Epoch 5/100\n",
      "60000/60000 [==============================] - 39s 644us/sample - loss: 0.1196 - accuracy: 0.9566 - val_loss: 0.3365 - val_accuracy: 0.8976\n",
      "Epoch 6/100\n",
      "60000/60000 [==============================] - 38s 638us/sample - loss: 0.0920 - accuracy: 0.9664 - val_loss: 0.3622 - val_accuracy: 0.8992\n",
      "Epoch 7/100\n",
      "60000/60000 [==============================] - 38s 632us/sample - loss: 0.0707 - accuracy: 0.9748 - val_loss: 0.4076 - val_accuracy: 0.8966\n",
      "Train on 60000 samples, validate on 5000 samples\n",
      "Epoch 1/100\n",
      "60000/60000 [==============================] - 21s 355us/sample - loss: 0.3965 - accuracy: 0.8608 - val_loss: 0.3392 - val_accuracy: 0.8820\n",
      "Epoch 2/100\n",
      "60000/60000 [==============================] - 21s 344us/sample - loss: 0.2819 - accuracy: 0.8995 - val_loss: 0.3286 - val_accuracy: 0.8868\n",
      "Epoch 3/100\n"
     ]
    },
    {
     "name": "stdout",
     "output_type": "stream",
     "text": [
      "60000/60000 [==============================] - 21s 353us/sample - loss: 0.2467 - accuracy: 0.9115 - val_loss: 0.3016 - val_accuracy: 0.8964\n",
      "Epoch 4/100\n",
      "60000/60000 [==============================] - 21s 344us/sample - loss: 0.2220 - accuracy: 0.9197 - val_loss: 0.3093 - val_accuracy: 0.8954\n",
      "Epoch 5/100\n",
      "60000/60000 [==============================] - 21s 345us/sample - loss: 0.1989 - accuracy: 0.9276 - val_loss: 0.3161 - val_accuracy: 0.8924\n",
      "Epoch 6/100\n",
      "60000/60000 [==============================] - 21s 346us/sample - loss: 0.1796 - accuracy: 0.9355 - val_loss: 0.2998 - val_accuracy: 0.9000\n",
      "Epoch 7/100\n",
      "60000/60000 [==============================] - 21s 344us/sample - loss: 0.1617 - accuracy: 0.9414 - val_loss: 0.3120 - val_accuracy: 0.8976\n",
      "Epoch 8/100\n",
      "60000/60000 [==============================] - 21s 348us/sample - loss: 0.1474 - accuracy: 0.9472 - val_loss: 0.3225 - val_accuracy: 0.9042\n",
      "Epoch 9/100\n",
      "60000/60000 [==============================] - 20s 341us/sample - loss: 0.1346 - accuracy: 0.9517 - val_loss: 0.3446 - val_accuracy: 0.8910\n",
      "Epoch 10/100\n",
      "60000/60000 [==============================] - 20s 333us/sample - loss: 0.1222 - accuracy: 0.9561 - val_loss: 0.3392 - val_accuracy: 0.8970\n",
      "Epoch 11/100\n",
      "60000/60000 [==============================] - 20s 335us/sample - loss: 0.1143 - accuracy: 0.9593 - val_loss: 0.3442 - val_accuracy: 0.8986\n",
      "Train on 60000 samples, validate on 5000 samples\n",
      "Epoch 1/100\n",
      "60000/60000 [==============================] - 105s 2ms/sample - loss: 0.3616 - accuracy: 0.8688 - val_loss: 0.3008 - val_accuracy: 0.8868\n",
      "Epoch 2/100\n",
      "60000/60000 [==============================] - 103s 2ms/sample - loss: 0.2270 - accuracy: 0.9162 - val_loss: 0.2868 - val_accuracy: 0.8986\n",
      "Epoch 3/100\n",
      "60000/60000 [==============================] - 106s 2ms/sample - loss: 0.1660 - accuracy: 0.9384 - val_loss: 0.3104 - val_accuracy: 0.8912\n",
      "Epoch 4/100\n",
      "60000/60000 [==============================] - 105s 2ms/sample - loss: 0.1202 - accuracy: 0.9558 - val_loss: 0.3192 - val_accuracy: 0.9022\n",
      "Epoch 5/100\n",
      "60000/60000 [==============================] - 104s 2ms/sample - loss: 0.0860 - accuracy: 0.9677 - val_loss: 0.3774 - val_accuracy: 0.9028\n",
      "Epoch 6/100\n",
      "60000/60000 [==============================] - 105s 2ms/sample - loss: 0.0627 - accuracy: 0.9766 - val_loss: 0.4078 - val_accuracy: 0.9060\n",
      "Epoch 7/100\n",
      "60000/60000 [==============================] - 104s 2ms/sample - loss: 0.0480 - accuracy: 0.9828 - val_loss: 0.4555 - val_accuracy: 0.9002\n",
      "Train on 60000 samples, validate on 5000 samples\n",
      "Epoch 1/100\n",
      "60000/60000 [==============================] - 39s 658us/sample - loss: 0.6302 - accuracy: 0.7758 - val_loss: 0.5090 - val_accuracy: 0.8234\n",
      "Epoch 2/100\n",
      "60000/60000 [==============================] - 39s 651us/sample - loss: 0.4599 - accuracy: 0.8352 - val_loss: 0.4941 - val_accuracy: 0.8258\n",
      "Epoch 3/100\n",
      "60000/60000 [==============================] - 39s 656us/sample - loss: 0.4177 - accuracy: 0.8492 - val_loss: 0.4359 - val_accuracy: 0.8434\n",
      "Epoch 4/100\n",
      "60000/60000 [==============================] - 39s 650us/sample - loss: 0.3962 - accuracy: 0.8558 - val_loss: 0.4201 - val_accuracy: 0.8496\n",
      "Epoch 5/100\n",
      "60000/60000 [==============================] - 39s 648us/sample - loss: 0.3768 - accuracy: 0.8622 - val_loss: 0.4041 - val_accuracy: 0.8570\n",
      "Epoch 6/100\n",
      "60000/60000 [==============================] - 39s 652us/sample - loss: 0.3628 - accuracy: 0.8666 - val_loss: 0.3922 - val_accuracy: 0.8612\n",
      "Epoch 7/100\n",
      "60000/60000 [==============================] - 40s 659us/sample - loss: 0.3509 - accuracy: 0.8699 - val_loss: 0.4066 - val_accuracy: 0.8524\n",
      "Epoch 8/100\n",
      "60000/60000 [==============================] - 39s 643us/sample - loss: 0.3425 - accuracy: 0.8739 - val_loss: 0.3827 - val_accuracy: 0.8624\n",
      "Epoch 9/100\n",
      "60000/60000 [==============================] - 39s 651us/sample - loss: 0.3340 - accuracy: 0.8773 - val_loss: 0.3890 - val_accuracy: 0.8614\n",
      "Epoch 10/100\n",
      "60000/60000 [==============================] - 40s 661us/sample - loss: 0.3270 - accuracy: 0.8799 - val_loss: 0.3812 - val_accuracy: 0.8596\n",
      "Epoch 11/100\n",
      "60000/60000 [==============================] - 39s 647us/sample - loss: 0.3196 - accuracy: 0.8832 - val_loss: 0.4087 - val_accuracy: 0.8548\n",
      "Epoch 12/100\n",
      "60000/60000 [==============================] - 39s 651us/sample - loss: 0.3139 - accuracy: 0.8843 - val_loss: 0.3708 - val_accuracy: 0.8684\n",
      "Epoch 13/100\n",
      "60000/60000 [==============================] - 39s 646us/sample - loss: 0.3072 - accuracy: 0.8860 - val_loss: 0.3768 - val_accuracy: 0.8642\n",
      "Epoch 14/100\n",
      "60000/60000 [==============================] - 38s 641us/sample - loss: 0.3019 - accuracy: 0.8872 - val_loss: 0.3662 - val_accuracy: 0.8710\n",
      "Epoch 15/100\n",
      "60000/60000 [==============================] - 39s 644us/sample - loss: 0.2974 - accuracy: 0.8881 - val_loss: 0.3647 - val_accuracy: 0.8672\n",
      "Epoch 16/100\n",
      "60000/60000 [==============================] - 39s 646us/sample - loss: 0.2919 - accuracy: 0.8911 - val_loss: 0.3623 - val_accuracy: 0.8702\n",
      "Epoch 17/100\n",
      "60000/60000 [==============================] - 39s 645us/sample - loss: 0.2884 - accuracy: 0.8918 - val_loss: 0.3572 - val_accuracy: 0.8702\n",
      "Epoch 18/100\n",
      "60000/60000 [==============================] - 38s 630us/sample - loss: 0.2835 - accuracy: 0.8934 - val_loss: 0.3628 - val_accuracy: 0.8750\n",
      "Epoch 19/100\n",
      "60000/60000 [==============================] - 39s 652us/sample - loss: 0.2792 - accuracy: 0.8948 - val_loss: 0.3692 - val_accuracy: 0.8638\n",
      "Epoch 20/100\n",
      "60000/60000 [==============================] - 39s 657us/sample - loss: 0.2744 - accuracy: 0.8965 - val_loss: 0.3729 - val_accuracy: 0.8722\n",
      "Epoch 21/100\n",
      "60000/60000 [==============================] - 39s 651us/sample - loss: 0.2719 - accuracy: 0.8978 - val_loss: 0.3687 - val_accuracy: 0.8676\n",
      "Epoch 22/100\n",
      "60000/60000 [==============================] - 39s 644us/sample - loss: 0.2673 - accuracy: 0.8989 - val_loss: 0.3636 - val_accuracy: 0.8736\n",
      "Train on 60000 samples, validate on 5000 samples\n",
      "Epoch 1/100\n",
      "60000/60000 [==============================] - 124s 2ms/sample - loss: 0.4824 - accuracy: 0.8287 - val_loss: 0.4226 - val_accuracy: 0.8494\n",
      "Epoch 2/100\n",
      "60000/60000 [==============================] - 125s 2ms/sample - loss: 0.3418 - accuracy: 0.8777 - val_loss: 0.3806 - val_accuracy: 0.8620\n",
      "Epoch 3/100\n",
      "60000/60000 [==============================] - 118s 2ms/sample - loss: 0.2971 - accuracy: 0.8907 - val_loss: 0.3695 - val_accuracy: 0.8652\n",
      "Epoch 4/100\n",
      "60000/60000 [==============================] - 127s 2ms/sample - loss: 0.2690 - accuracy: 0.9006 - val_loss: 0.3140 - val_accuracy: 0.8870\n",
      "Epoch 5/100\n",
      "60000/60000 [==============================] - 126s 2ms/sample - loss: 0.2459 - accuracy: 0.9084 - val_loss: 0.3136 - val_accuracy: 0.8892\n",
      "Epoch 6/100\n",
      "60000/60000 [==============================] - 127s 2ms/sample - loss: 0.2302 - accuracy: 0.9145 - val_loss: 0.3010 - val_accuracy: 0.8938\n",
      "Epoch 7/100\n",
      "60000/60000 [==============================] - 124s 2ms/sample - loss: 0.2128 - accuracy: 0.9198 - val_loss: 0.3054 - val_accuracy: 0.8918\n",
      "Epoch 8/100\n",
      "60000/60000 [==============================] - 126s 2ms/sample - loss: 0.1985 - accuracy: 0.9252 - val_loss: 0.3180 - val_accuracy: 0.8838\n",
      "Epoch 9/100\n",
      "60000/60000 [==============================] - 125s 2ms/sample - loss: 0.1830 - accuracy: 0.9316 - val_loss: 0.3278 - val_accuracy: 0.8916\n",
      "Epoch 10/100\n",
      "60000/60000 [==============================] - 127s 2ms/sample - loss: 0.1698 - accuracy: 0.9355 - val_loss: 0.3626 - val_accuracy: 0.8844\n",
      "Epoch 11/100\n",
      "60000/60000 [==============================] - 123s 2ms/sample - loss: 0.1598 - accuracy: 0.9398 - val_loss: 0.3387 - val_accuracy: 0.8968\n",
      "Train on 60000 samples, validate on 5000 samples\n",
      "Epoch 1/100\n",
      "60000/60000 [==============================] - 75s 1ms/sample - loss: 0.8039 - accuracy: 0.7127 - val_loss: 0.6374 - val_accuracy: 0.7544\n",
      "Epoch 2/100\n",
      "60000/60000 [==============================] - 74s 1ms/sample - loss: 0.5509 - accuracy: 0.7976 - val_loss: 0.5545 - val_accuracy: 0.7998\n",
      "Epoch 3/100\n",
      "60000/60000 [==============================] - 74s 1ms/sample - loss: 0.5122 - accuracy: 0.8124 - val_loss: 0.5257 - val_accuracy: 0.8150\n",
      "Epoch 4/100\n",
      "60000/60000 [==============================] - 75s 1ms/sample - loss: 0.4910 - accuracy: 0.8200 - val_loss: 0.5098 - val_accuracy: 0.8202\n"
     ]
    },
    {
     "name": "stdout",
     "output_type": "stream",
     "text": [
      "Epoch 5/100\n",
      "60000/60000 [==============================] - 74s 1ms/sample - loss: 0.4733 - accuracy: 0.8269 - val_loss: 0.5021 - val_accuracy: 0.8172\n",
      "Epoch 6/100\n",
      "60000/60000 [==============================] - 75s 1ms/sample - loss: 0.4624 - accuracy: 0.8291 - val_loss: 0.4898 - val_accuracy: 0.8220\n",
      "Epoch 7/100\n",
      "60000/60000 [==============================] - 75s 1ms/sample - loss: 0.4519 - accuracy: 0.8345 - val_loss: 0.4689 - val_accuracy: 0.8334\n",
      "Epoch 8/100\n",
      "60000/60000 [==============================] - 74s 1ms/sample - loss: 0.4444 - accuracy: 0.8366 - val_loss: 0.4808 - val_accuracy: 0.8260\n",
      "Epoch 9/100\n",
      "60000/60000 [==============================] - 75s 1ms/sample - loss: 0.4375 - accuracy: 0.8387 - val_loss: 0.4822 - val_accuracy: 0.8234\n",
      "Epoch 10/100\n",
      "60000/60000 [==============================] - 73s 1ms/sample - loss: 0.4281 - accuracy: 0.8429 - val_loss: 0.4639 - val_accuracy: 0.8330\n",
      "Epoch 11/100\n",
      "60000/60000 [==============================] - 75s 1ms/sample - loss: 0.4235 - accuracy: 0.8441 - val_loss: 0.4573 - val_accuracy: 0.8386\n",
      "Epoch 12/100\n",
      "60000/60000 [==============================] - 75s 1ms/sample - loss: 0.4167 - accuracy: 0.8467 - val_loss: 0.4703 - val_accuracy: 0.8296\n",
      "Epoch 13/100\n",
      "60000/60000 [==============================] - 75s 1ms/sample - loss: 0.4119 - accuracy: 0.8486 - val_loss: 0.4452 - val_accuracy: 0.8404\n",
      "Epoch 14/100\n",
      "60000/60000 [==============================] - 75s 1ms/sample - loss: 0.4043 - accuracy: 0.8522 - val_loss: 0.4766 - val_accuracy: 0.8296\n",
      "Epoch 15/100\n",
      "60000/60000 [==============================] - 75s 1ms/sample - loss: 0.4004 - accuracy: 0.8527 - val_loss: 0.4661 - val_accuracy: 0.8258\n",
      "Epoch 16/100\n",
      "60000/60000 [==============================] - 76s 1ms/sample - loss: 0.3963 - accuracy: 0.8536 - val_loss: 0.4658 - val_accuracy: 0.8248\n",
      "Epoch 17/100\n",
      "60000/60000 [==============================] - 75s 1ms/sample - loss: 0.3919 - accuracy: 0.8560 - val_loss: 0.4363 - val_accuracy: 0.8412\n",
      "Epoch 18/100\n",
      "60000/60000 [==============================] - 74s 1ms/sample - loss: 0.3872 - accuracy: 0.8570 - val_loss: 0.4425 - val_accuracy: 0.8392\n",
      "Epoch 19/100\n",
      "60000/60000 [==============================] - 75s 1ms/sample - loss: 0.3828 - accuracy: 0.8592 - val_loss: 0.4260 - val_accuracy: 0.8516\n",
      "Epoch 20/100\n",
      "60000/60000 [==============================] - 75s 1ms/sample - loss: 0.3789 - accuracy: 0.8600 - val_loss: 0.4345 - val_accuracy: 0.8396\n",
      "Epoch 21/100\n",
      "60000/60000 [==============================] - 75s 1ms/sample - loss: 0.3766 - accuracy: 0.8611 - val_loss: 0.4384 - val_accuracy: 0.8438\n",
      "Epoch 22/100\n",
      "60000/60000 [==============================] - 75s 1ms/sample - loss: 0.3726 - accuracy: 0.8627 - val_loss: 0.4211 - val_accuracy: 0.8500\n",
      "Epoch 23/100\n",
      "60000/60000 [==============================] - 75s 1ms/sample - loss: 0.3690 - accuracy: 0.8640 - val_loss: 0.4207 - val_accuracy: 0.8496\n",
      "Epoch 24/100\n",
      "60000/60000 [==============================] - 74s 1ms/sample - loss: 0.3652 - accuracy: 0.8653 - val_loss: 0.4290 - val_accuracy: 0.8444\n",
      "Epoch 25/100\n",
      "60000/60000 [==============================] - 75s 1ms/sample - loss: 0.3639 - accuracy: 0.8656 - val_loss: 0.4162 - val_accuracy: 0.8506\n",
      "Epoch 26/100\n",
      "60000/60000 [==============================] - 75s 1ms/sample - loss: 0.3601 - accuracy: 0.8660 - val_loss: 0.4139 - val_accuracy: 0.8478\n",
      "Epoch 27/100\n",
      "60000/60000 [==============================] - 75s 1ms/sample - loss: 0.3577 - accuracy: 0.8675 - val_loss: 0.4188 - val_accuracy: 0.8504\n",
      "Epoch 28/100\n",
      "60000/60000 [==============================] - 75s 1ms/sample - loss: 0.3553 - accuracy: 0.8682 - val_loss: 0.4245 - val_accuracy: 0.8468\n",
      "Epoch 29/100\n",
      "60000/60000 [==============================] - 73s 1ms/sample - loss: 0.3532 - accuracy: 0.8691 - val_loss: 0.4227 - val_accuracy: 0.8484\n",
      "Epoch 30/100\n",
      "60000/60000 [==============================] - 73s 1ms/sample - loss: 0.3500 - accuracy: 0.8707 - val_loss: 0.4174 - val_accuracy: 0.8488\n",
      "Epoch 31/100\n",
      "60000/60000 [==============================] - 78s 1ms/sample - loss: 0.3481 - accuracy: 0.8710 - val_loss: 0.4150 - val_accuracy: 0.8468\n"
     ]
    }
   ],
   "source": [
    "date_of_training = datetime.datetime.now().strftime(\"%Y%m%d-%H%M%S\");\n",
    "for model_type in models:\n",
    "    for name, model in model_type:\n",
    "        log_dir=\"logs/fit/\" + name + \"/\" + date_of_training\n",
    "        tensorboard_callback = tf.keras.callbacks.TensorBoard(log_dir=log_dir, histogram_freq=1)\n",
    "        model.fit(\n",
    "            train_images,\n",
    "            train_labels,\n",
    "            epochs=100,\n",
    "            shuffle=True,\n",
    "            validation_data=(test_images[:half_validate], test_labels[:half_validate]),\n",
    "            callbacks=[\n",
    "                keras.callbacks.EarlyStopping(\n",
    "                    patience=5,\n",
    "                    restore_best_weights=True,\n",
    "                ),\n",
    "                tensorboard_callback\n",
    "            ]\n",
    "        )\n",
    "#     models[i][j].fit(\n",
    "#         train[train_ids], labels[train_ids],\n",
    "#         32,\n",
    "#         epochs=100,\n",
    "#         shuffle=True,\n",
    "#         validation_data=(\n",
    "#             train[test_ids][:half_validate], labels[test_ids][:half_validate],\n",
    "#         ),\n",
    "#         callbacks=[\n",
    "#             keras.callbacks.EarlyStopping(\n",
    "#                 patience=5,\n",
    "#                 restore_best_weights=True,\n",
    "#             ),\n",
    "#             PlotLosses(),\n",
    "#         ],\n",
    "#     )        "
   ]
  },
  {
   "cell_type": "code",
   "execution_count": 86,
   "metadata": {},
   "outputs": [],
   "source": [
    "# results = [\n",
    "#     model.evaluate(\n",
    "#         test_images[half_validate:],\n",
    "#         test_labels[half_validate:],\n",
    "#         verbose=0,\n",
    "#     ) for _, model in models\n",
    "# ]\n",
    "results = [\n",
    "    [\n",
    "        model.evaluate(\n",
    "            test_images[half_validate:],\n",
    "            test_labels[half_validate:],\n",
    "            verbose=0,\n",
    "        ) for _, model in model_type\n",
    "    ] for model_type in models\n",
    "]"
   ]
  },
  {
   "cell_type": "code",
   "execution_count": 99,
   "metadata": {},
   "outputs": [],
   "source": [
    "results2 = [[idx2[1] for idx2 in idx] for idx in results]"
   ]
  },
  {
   "cell_type": "code",
   "execution_count": 105,
   "metadata": {},
   "outputs": [
    {
     "data": {
      "text/plain": [
       "[[0.8882, 0.8424, 0.8842], [0.9016, 0.9056, 0.9008], [0.8762, 0.902, 0.8524]]"
      ]
     },
     "execution_count": 105,
     "metadata": {},
     "output_type": "execute_result"
    }
   ],
   "source": [
    "results2"
   ]
  },
  {
   "cell_type": "code",
   "execution_count": 101,
   "metadata": {},
   "outputs": [],
   "source": [
    "# results2 = [[1,2], [2,3], [3,4]]"
   ]
  },
  {
   "cell_type": "code",
   "execution_count": 102,
   "metadata": {},
   "outputs": [],
   "source": [
    "as_array = np.array(results2)"
   ]
  },
  {
   "cell_type": "code",
   "execution_count": 103,
   "metadata": {},
   "outputs": [],
   "source": [
    "as_array_back = np.array(results)"
   ]
  },
  {
   "cell_type": "code",
   "execution_count": 104,
   "metadata": {},
   "outputs": [],
   "source": [
    "np.savetxt(\"results.np\", as_array)\n",
    "np.save(\"results_back.np\", as_array_back)"
   ]
  },
  {
   "cell_type": "code",
   "execution_count": 64,
   "metadata": {},
   "outputs": [
    {
     "data": {
      "text/plain": [
       "[('dense',\n",
       "  <tensorflow.python.keras.engine.sequential.Sequential at 0x2b4c8b0f0510>),\n",
       " ('dense',\n",
       "  <tensorflow.python.keras.engine.sequential.Sequential at 0x2b4c8b0f0510>),\n",
       " ('dense',\n",
       "  <tensorflow.python.keras.engine.sequential.Sequential at 0x2b4c8b0f0510>)]"
      ]
     },
     "execution_count": 64,
     "metadata": {},
     "output_type": "execute_result"
    }
   ],
   "source": [
    "[(\"dense\", get_model_dense())] * 3"
   ]
  },
  {
   "cell_type": "code",
   "execution_count": 94,
   "metadata": {},
   "outputs": [
    {
     "data": {
      "text/plain": [
       "array([[0.32111609, 0.44449444, 0.32337703],\n",
       "       [0.25961171, 0.27885461, 0.26894935],\n",
       "       [0.34563515, 0.27573198, 0.40586985]])"
      ]
     },
     "execution_count": 94,
     "metadata": {},
     "output_type": "execute_result"
    }
   ],
   "source": [
    "as_array"
   ]
  },
  {
   "cell_type": "code",
   "execution_count": null,
   "metadata": {},
   "outputs": [],
   "source": []
  }
 ],
 "metadata": {
  "kernelspec": {
   "display_name": "Python 3",
   "language": "python",
   "name": "python3"
  },
  "language_info": {
   "codemirror_mode": {
    "name": "ipython",
    "version": 3
   },
   "file_extension": ".py",
   "mimetype": "text/x-python",
   "name": "python",
   "nbconvert_exporter": "python",
   "pygments_lexer": "ipython3",
   "version": "3.7.4"
  }
 },
 "nbformat": 4,
 "nbformat_minor": 2
}
